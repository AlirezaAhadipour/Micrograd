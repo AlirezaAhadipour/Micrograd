{
  "nbformat": 4,
  "nbformat_minor": 0,
  "metadata": {
    "colab": {
      "provenance": [],
      "authorship_tag": "ABX9TyN2ocSJGQ6ONFdMN40cnH/+",
      "include_colab_link": true
    },
    "kernelspec": {
      "name": "python3",
      "display_name": "Python 3"
    },
    "language_info": {
      "name": "python"
    }
  },
  "cells": [
    {
      "cell_type": "markdown",
      "metadata": {
        "id": "view-in-github",
        "colab_type": "text"
      },
      "source": [
        "<a href=\"https://colab.research.google.com/github/AlirezaAhadipour/NN-from-scratch/blob/main/makemore_part3.ipynb\" target=\"_parent\"><img src=\"https://colab.research.google.com/assets/colab-badge.svg\" alt=\"Open In Colab\"/></a>"
      ]
    },
    {
      "cell_type": "code",
      "execution_count": 1,
      "metadata": {
        "id": "G0cuU7sgaJLt"
      },
      "outputs": [],
      "source": [
        "import torch\n",
        "import torch.nn.functional as F\n",
        "import matplotlib.pyplot as plt\n",
        "%matplotlib inline"
      ]
    },
    {
      "cell_type": "code",
      "source": [
        "words = open('names.txt', 'r').read().splitlines()\n",
        "words[:5]"
      ],
      "metadata": {
        "colab": {
          "base_uri": "https://localhost:8080/"
        },
        "id": "nlzKFnfI31ay",
        "outputId": "abd02f23-53ac-4c0b-fcd2-a3e6f85e6fcb"
      },
      "execution_count": 31,
      "outputs": [
        {
          "output_type": "execute_result",
          "data": {
            "text/plain": [
              "['emma', 'olivia', 'ava', 'isabella', 'sophia']"
            ]
          },
          "metadata": {},
          "execution_count": 31
        }
      ]
    },
    {
      "cell_type": "code",
      "source": [
        "len(words)"
      ],
      "metadata": {
        "colab": {
          "base_uri": "https://localhost:8080/"
        },
        "id": "F0QQn2Vyp8Y2",
        "outputId": "44e576aa-175f-418a-8b1e-8b2e8df7439f"
      },
      "execution_count": 32,
      "outputs": [
        {
          "output_type": "execute_result",
          "data": {
            "text/plain": [
              "32033"
            ]
          },
          "metadata": {},
          "execution_count": 32
        }
      ]
    },
    {
      "cell_type": "code",
      "source": [
        "# build the vocabulary of chars and mapping to/from integers\n",
        "chars = sorted(list(set(''.join(words))))\n",
        "\n",
        "str_to_int = {s:i+1 for i , s in enumerate(chars)}\n",
        "str_to_int['.'] = 0\n",
        "\n",
        "int_to_str = {i:s for s, i in str_to_int.items()}\n",
        "vocab_size = len(int_to_str)\n",
        "print(int_to_str)"
      ],
      "metadata": {
        "colab": {
          "base_uri": "https://localhost:8080/"
        },
        "id": "zk9X4XA84sdc",
        "outputId": "614d58d8-8e00-4f88-c81f-43d2159a1803"
      },
      "execution_count": 33,
      "outputs": [
        {
          "output_type": "stream",
          "name": "stdout",
          "text": [
            "{1: 'a', 2: 'b', 3: 'c', 4: 'd', 5: 'e', 6: 'f', 7: 'g', 8: 'h', 9: 'i', 10: 'j', 11: 'k', 12: 'l', 13: 'm', 14: 'n', 15: 'o', 16: 'p', 17: 'q', 18: 'r', 19: 's', 20: 't', 21: 'u', 22: 'v', 23: 'w', 24: 'x', 25: 'y', 26: 'z', 0: '.'}\n"
          ]
        }
      ]
    },
    {
      "cell_type": "code",
      "source": [
        "# build the dataset\n",
        "block_size = 3   # num of chars we take to predict the next one\n",
        "def build_dataset(words):\n",
        "    X, y = [], []\n",
        "\n",
        "    for word in words:\n",
        "      context = [0] * block_size\n",
        "\n",
        "      for char in word + '.':\n",
        "        ix = str_to_int[char]\n",
        "        X.append(context)\n",
        "        y.append(ix)\n",
        "\n",
        "        context = context[1:] + [ix]\n",
        "\n",
        "    X = torch.tensor(X)\n",
        "    y = torch.tensor(y)\n",
        "    print(X.shape, y.shape)\n",
        "    return X, y"
      ],
      "metadata": {
        "id": "5dcxtsdo5tP1"
      },
      "execution_count": 34,
      "outputs": []
    },
    {
      "cell_type": "code",
      "source": [
        "import random\n",
        "\n",
        "random.seed(42)\n",
        "random.shuffle(words)\n",
        "\n",
        "n1 = int(0.8 * len(words))\n",
        "n2 = int(0.9 * len(words))\n",
        "\n",
        "X_train, y_train = build_dataset(words[:n1])   # 80%\n",
        "X_dev, y_dev = build_dataset(words[n1:n2])     # 10%\n",
        "X_test, y_test = build_dataset(words[n2:])     # 10%"
      ],
      "metadata": {
        "colab": {
          "base_uri": "https://localhost:8080/"
        },
        "id": "HjLSoHuGm4gS",
        "outputId": "cf4cd8fc-bffe-4bd7-936d-dab1fa2b31bd"
      },
      "execution_count": 35,
      "outputs": [
        {
          "output_type": "stream",
          "name": "stdout",
          "text": [
            "torch.Size([182625, 3]) torch.Size([182625])\n",
            "torch.Size([22655, 3]) torch.Size([22655])\n",
            "torch.Size([22866, 3]) torch.Size([22866])\n"
          ]
        }
      ]
    },
    {
      "cell_type": "code",
      "source": [
        "# MLP\n",
        "n_embd = 10   # dimentionality of the character embedding vector\n",
        "n_hidden = 200   # number of neurons in teh hidden layer of MLP\n",
        "\n",
        "C = torch.randn((vocab_size,n_embd))\n",
        "W1 = torch.randn(n_embd*block_size, n_hidden)\n",
        "b1 = torch.randn(n_hidden)\n",
        "W2 = torch.randn(n_hidden, vocab_size)\n",
        "b2 = torch.randn(vocab_size)\n",
        "\n",
        "parameters = [C, W1, b1, W2, b2]\n",
        "\n",
        "n_param = sum(p.nelement() for p in parameters)\n",
        "print(n_param)\n",
        "\n",
        "for p in parameters:\n",
        "  p.requires_grad = True"
      ],
      "metadata": {
        "colab": {
          "base_uri": "https://localhost:8080/"
        },
        "id": "HjS5eZcmoNlm",
        "outputId": "5bce5913-303d-40b4-eaa8-1de121a92395"
      },
      "execution_count": 36,
      "outputs": [
        {
          "output_type": "stream",
          "name": "stdout",
          "text": [
            "11897\n"
          ]
        }
      ]
    },
    {
      "cell_type": "code",
      "source": [
        "# some optimizations\n",
        "max_steps = 200000\n",
        "batch_size = 32\n",
        "lossi = []\n",
        "\n",
        "for i in range(max_steps):\n",
        "    # minibatch construct\n",
        "    ix = torch.randint(0, X_train.shape[0], (batch_size,))\n",
        "    X_batch, y_batch = X_train[ix], y_train[ix]\n",
        "\n",
        "    # forward pass\n",
        "    emb = C[X_batch]   # embed of characters into vectors\n",
        "    embcat = emb.view(emb.shape[0], -1)   # concatenate the vectors\n",
        "    hpreact = embcat @ W1 + b1   # hidden layer pre-activation\n",
        "    h = torch.tanh(hpreact)   # hidden layer\n",
        "    logits = h @ W2 + b2   # output layer\n",
        "    loss = F.cross_entropy(logits, y_batch)   # loss function\n",
        "\n",
        "    # backward pass\n",
        "    for param in parameters:\n",
        "      param.grad = None\n",
        "\n",
        "    loss.backward()\n",
        "\n",
        "    # update\n",
        "    lr = 0.1 if i < 100000 else 0.01   # step learning rate decay\n",
        "    for param in parameters:\n",
        "      param.data += -lr * param.grad\n",
        "\n",
        "    # track stats\n",
        "    if i % 10000 == 0:   # print once in a while\n",
        "        print(f'{i:7d}/{max_steps:7d}: {loss.item():.4f}')\n",
        "    lossi.append(loss.log10().item())"
      ],
      "metadata": {
        "colab": {
          "base_uri": "https://localhost:8080/"
        },
        "id": "Dguau0k7oNjC",
        "outputId": "a62b5ece-540a-404d-8c47-7f63995f9898"
      },
      "execution_count": 39,
      "outputs": [
        {
          "output_type": "stream",
          "name": "stdout",
          "text": [
            "      0/ 200000: 25.1276\n",
            "  10000/ 200000: 2.4119\n",
            "  20000/ 200000: 2.2050\n",
            "  30000/ 200000: 2.7741\n",
            "  40000/ 200000: 1.9901\n",
            "  50000/ 200000: 2.6937\n",
            "  60000/ 200000: 2.6310\n",
            "  70000/ 200000: 2.4138\n",
            "  80000/ 200000: 2.3741\n",
            "  90000/ 200000: 2.3487\n",
            " 100000/ 200000: 2.4259\n",
            " 110000/ 200000: 2.0040\n",
            " 120000/ 200000: 2.1428\n",
            " 130000/ 200000: 2.1988\n",
            " 140000/ 200000: 2.0734\n",
            " 150000/ 200000: 2.3632\n",
            " 160000/ 200000: 1.9954\n",
            " 170000/ 200000: 2.2142\n",
            " 180000/ 200000: 2.3518\n",
            " 190000/ 200000: 2.3267\n"
          ]
        }
      ]
    },
    {
      "cell_type": "code",
      "source": [
        "plt.plot(lossi)"
      ],
      "metadata": {
        "colab": {
          "base_uri": "https://localhost:8080/",
          "height": 447
        },
        "id": "HjXTdxD6tYiX",
        "outputId": "9212c114-d80d-4b6b-8279-94b8e9902a1c"
      },
      "execution_count": 40,
      "outputs": [
        {
          "output_type": "execute_result",
          "data": {
            "text/plain": [
              "[<matplotlib.lines.Line2D at 0x7e1324808f70>]"
            ]
          },
          "metadata": {},
          "execution_count": 40
        },
        {
          "output_type": "display_data",
          "data": {
            "text/plain": [
              "<Figure size 640x480 with 1 Axes>"
            ],
            "image/png": "[encoded data removed]"
          },
          "metadata": {}
        }
      ]
    },
    {
      "cell_type": "code",
      "source": [],
      "metadata": {
        "id": "Mu56KOz70Z74"
      },
      "execution_count": null,
      "outputs": []
    },
    {
      "cell_type": "code",
      "source": [],
      "metadata": {
        "id": "peiJugfC0Z5X"
      },
      "execution_count": null,
      "outputs": []
    },
    {
      "cell_type": "code",
      "source": [
        "for _ in range(20):\n",
        "  out = []\n",
        "  context = [0] * block_size\n",
        "  while True:\n",
        "    embd = C[torch.tensor([context])]\n",
        "    h = torch.tanh(embd.view(1, -1) @ W1 + b1)\n",
        "    logits = h @ W2 + b2\n",
        "    probs = F.softmax(logits, dim=1)\n",
        "    ix = torch.multinomial(probs, num_samples=1).item()\n",
        "    context = context[1:] + [ix]\n",
        "    out.append(ix)\n",
        "\n",
        "    if ix == 0:\n",
        "      break\n",
        "\n",
        "  print(''.join(int_to_str[i] for i in out))"
      ],
      "metadata": {
        "colab": {
          "base_uri": "https://localhost:8080/"
        },
        "id": "aMZRa7WvAyDB",
        "outputId": "d1ca7862-64ea-429b-f49b-f8fe821e9a5c"
      },
      "execution_count": null,
      "outputs": [
        {
          "output_type": "stream",
          "name": "stdout",
          "text": [
            "asalvinni.\n",
            "kyia.\n",
            "dyla.\n",
            "sal.\n",
            "tarim.\n",
            "mick.\n",
            "kaylee.\n",
            "jaylon.\n",
            "din.\n",
            "crinn.\n",
            "zyme.\n",
            "sabarron.\n",
            "abet.\n",
            "pah.\n",
            "tyrah.\n",
            "alemirrincie.\n",
            "faniya.\n",
            "kynleez.\n",
            "grachia.\n",
            "temeir.\n"
          ]
        }
      ]
    },
    {
      "cell_type": "code",
      "source": [],
      "metadata": {
        "id": "wWSrmWQNW841"
      },
      "execution_count": null,
      "outputs": []
    }
  ]
}