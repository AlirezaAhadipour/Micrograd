{
  "nbformat": 4,
  "nbformat_minor": 0,
  "metadata": {
    "colab": {
      "provenance": [],
      "authorship_tag": "ABX9TyM5SVIz3CRemEwp/oeF1ye1",
      "include_colab_link": true
    },
    "kernelspec": {
      "name": "python3",
      "display_name": "Python 3"
    },
    "language_info": {
      "name": "python"
    }
  },
  "cells": [
    {
      "cell_type": "markdown",
      "metadata": {
        "id": "view-in-github",
        "colab_type": "text"
      },
      "source": [
        "<a href=\"https://colab.research.google.com/github/AlirezaAhadipour/Micrograd/blob/main/Micrograd.ipynb\" target=\"_parent\"><img src=\"https://colab.research.google.com/assets/colab-badge.svg\" alt=\"Open In Colab\"/></a>"
      ]
    },
    {
      "cell_type": "code",
      "execution_count": 1,
      "metadata": {
        "colab": {
          "base_uri": "https://localhost:8080/"
        },
        "id": "653dBoFWPjAQ",
        "outputId": "cbec9a5c-0e6c-49d9-d870-b66e1d7a8865"
      },
      "outputs": [
        {
          "output_type": "stream",
          "name": "stdout",
          "text": [
            "Requirement already satisfied: micrograd in /usr/local/lib/python3.10/dist-packages (0.1.0)\n"
          ]
        }
      ],
      "source": [
        "!pip install micrograd"
      ]
    },
    {
      "cell_type": "code",
      "source": [
        "from micrograd.engine import Value"
      ],
      "metadata": {
        "id": "sjGLGPhsQFs8"
      },
      "execution_count": 2,
      "outputs": []
    },
    {
      "cell_type": "markdown",
      "source": [
        "### Example"
      ],
      "metadata": {
        "id": "-fIoE-vvTMQY"
      }
    },
    {
      "cell_type": "code",
      "source": [
        "a = Value(-4.0)\n",
        "b = Value(2.0)\n",
        "\n",
        "c = a + b\n",
        "d = (a * b) + (b ** 3)\n",
        "c += c + 1\n",
        "c += 1 + c + (-a)\n",
        "d += (d * 2) + (b + a).relu()\n",
        "d += (3 * d) + (b - a).relu()\n",
        "e = c - d\n",
        "f = e ** 2\n",
        "g = f / 2.0\n",
        "g += 10.0 / f\n",
        "\n",
        "print(f'Outcome of forward pass: \\n {g.data: .4f}')\n",
        "g.backward()\n",
        "print(f'Numerical value of dg/da: \\n {a.grad: .4f}')\n",
        "print(f'Numerical value of dg/db: \\n {b.grad: .4f}')\n"
      ],
      "metadata": {
        "colab": {
          "base_uri": "https://localhost:8080/"
        },
        "id": "mXsHQKa8QbkX",
        "outputId": "3510d997-1fd4-4d7b-c1c0-81e2ce738888"
      },
      "execution_count": 3,
      "outputs": [
        {
          "output_type": "stream",
          "name": "stdout",
          "text": [
            "Outcome of forward pass: \n",
            "  24.7041\n",
            "Numerical value of dg/da: \n",
            "  138.8338\n",
            "Numerical value of dg/db: \n",
            "  645.5773\n"
          ]
        }
      ]
    },
    {
      "cell_type": "markdown",
      "source": [
        "# Micrograd from scratch"
      ],
      "metadata": {
        "id": "09fl9FClU4tS"
      }
    },
    {
      "cell_type": "code",
      "source": [
        "import math\n",
        "import numpy as np\n",
        "import matplotlib.pyplot as plt\n",
        "%matplotlib inline"
      ],
      "metadata": {
        "id": "1eYnrG9KSOM3"
      },
      "execution_count": 4,
      "outputs": []
    },
    {
      "cell_type": "code",
      "source": [
        "class Value():\n",
        "  def __init__(self, data, _children=(), _op='', label=''):\n",
        "    self.data = data\n",
        "    self.grad = 0.0   # initialize the gradient at 0\n",
        "    self._backward = lambda: None   # empty function\n",
        "    self._prev = set(_children)   # previous value(s)\n",
        "    self._op = _op   # previous operation\n",
        "    self.label = label\n",
        "\n",
        "  def __repr__(self):\n",
        "    return f'value(data={self.data})'\n",
        "\n",
        "  def __add__(self, other):\n",
        "    other = other if isinstance(other, Value) else Value(other)\n",
        "    out = Value(self.data + other.data, (self, other), '+')\n",
        "\n",
        "    def _backward():\n",
        "      self.grad += 1.0 * out.grad\n",
        "      other.grad += 1.0 * out.grad\n",
        "    out._backward = _backward\n",
        "\n",
        "    return out\n",
        "\n",
        "  def __mul__(self, other):\n",
        "    other = other if isinstance(other, Value) else Value(other)\n",
        "    out = Value(self.data * other.data, (self, other), '*')\n",
        "\n",
        "    def _backward():\n",
        "      self.grad += other.data * out.grad\n",
        "      other.grad += self.data * out.grad\n",
        "    out._backward = _backward\n",
        "\n",
        "    return out\n",
        "\n",
        "  def __pow__(self, other):\n",
        "    assert isinstance(other, (int, float)), 'Only supporting int/float powers'\n",
        "    out = Value(self.data ** other, (self, ), f'**{other}')\n",
        "\n",
        "    def _backward():\n",
        "      self.grad += other * (self.data ** (other - 1)) * out.grad\n",
        "    out._backward = _backward\n",
        "\n",
        "    return out\n",
        "\n",
        "  def __rmul__(self, other):   # other * self\n",
        "    return self * other\n",
        "\n",
        "  def __truediv__(self, other) :   # self / other\n",
        "    return self * (other ** -1)\n",
        "\n",
        "  def __neg__(self):   # - self\n",
        "    return self * -1\n",
        "\n",
        "  def __sub__(self, other):   # self - other\n",
        "    return self + (-other)\n",
        "\n",
        "  def exp(self):\n",
        "    x = self.data\n",
        "    out = Value(math.exp(x), (self, ), 'exp')\n",
        "\n",
        "    def _backward():\n",
        "      self.grad += out.data * out.grad\n",
        "    out._backward = _backward\n",
        "\n",
        "    return out\n",
        "\n",
        "  def tanh(self):\n",
        "    x = self.data\n",
        "    t = (math.exp(2*x) - 1) / (math.exp(2*x) + 1)\n",
        "    out = Value(t, (self, ), 'tanh')\n",
        "\n",
        "    def _backward():\n",
        "      self.grad += (1 - t**2) * out.grad\n",
        "    out._backward = _backward\n",
        "\n",
        "    return out\n",
        "\n",
        "  def backward(self):\n",
        "    topo = []\n",
        "    visited = set()\n",
        "\n",
        "    def build_topo(v):\n",
        "      if v not in visited:\n",
        "        visited.add(v)\n",
        "        for child in v._prev:\n",
        "          build_topo(child)\n",
        "        topo.append(v)\n",
        "\n",
        "    build_topo(self)\n",
        "    self.grad = 1\n",
        "    for node in reversed(topo):\n",
        "      node._backward()\n"
      ],
      "metadata": {
        "id": "vKYfbc6zfBIp"
      },
      "execution_count": 5,
      "outputs": []
    },
    {
      "cell_type": "code",
      "source": [
        "from graphviz import Digraph\n",
        "\n",
        "def trace(root):\n",
        "  # builds a set of all nodes and edges in a graph\n",
        "  nodes, edges = set(), set()\n",
        "  def build(v):\n",
        "    if v not in nodes:\n",
        "      nodes.add(v)\n",
        "      for child in v._prev:\n",
        "        edges.add((child, v))\n",
        "        build(child)\n",
        "  build(root)\n",
        "  return nodes, edges\n",
        "\n",
        "def draw_dot(root):\n",
        "  dot = Digraph(format='svg', graph_attr={'rankdir': 'LR'}) # LR = left to right\n",
        "\n",
        "  nodes, edges = trace(root)\n",
        "  for n in nodes:\n",
        "    uid = str(id(n))\n",
        "    # for any value in the graph, create a rectangular ('record') node for it\n",
        "    dot.node(name = uid, label = \"{%s | data %.4f | grad %.4f}\" % (n.label, n.data, n.grad), shape='record')\n",
        "    if n._op:\n",
        "      # if this value is a result of some operation, create an op node for it\n",
        "      dot.node(name = uid + n._op, label = n._op)\n",
        "      # and connect this node to it\n",
        "      dot.edge(uid + n._op, uid)\n",
        "\n",
        "  for n1, n2 in edges:\n",
        "    # connect n1 to the op node of n2\n",
        "    dot.edge(str(id(n1)), str(id(n2)) + n2._op)\n",
        "\n",
        "  return dot"
      ],
      "metadata": {
        "id": "4ZOidydOjaAD"
      },
      "execution_count": 6,
      "outputs": []
    },
    {
      "cell_type": "code",
      "source": [
        "# inputs x1, x2\n",
        "x1 = Value(2.0, label='x1')\n",
        "x2 = Value(0.0, label='x2')\n",
        "\n",
        "# weights w1, w2\n",
        "w1 = Value(-3.0, label='w1')\n",
        "w2 = Value(1.0, label='w2')\n",
        "\n",
        "# bias of the neuron\n",
        "b = Value(6.8813735870195432, label='b')\n",
        "\n",
        "# x1w1 + x2w2 + b\n",
        "x1w1 = x1*w1; x1w1.label = 'x1w1'\n",
        "x2w2 = x2*w2; x2w2.label = 'x2w2'\n",
        "x1w1x2w2 = x1w1 + x2w2; x1w1x2w2.label = 'x1w1 + x2w2'\n",
        "n = x1w1x2w2 + b; n.label = 'n'\n",
        "# o = n.tanh(); o.label = 'o'\n",
        "e = (2 * n).exp()\n",
        "o = (e - 1) / (e + 1)\n",
        "\n",
        "o.backward()\n",
        "draw_dot(o)"
      ],
      "metadata": {
        "colab": {
          "base_uri": "https://localhost:8080/",
          "height": 354
        },
        "id": "Avo-uUkv0BNq",
        "outputId": "9481a363-7eb6-4e4c-d698-49a0675aebee"
      },
      "execution_count": 7,
      "outputs": [
        {
          "output_type": "execute_result",
          "data": {
            "image/svg+xml": "<?xml version=\"1.0\" encoding=\"UTF-8\" standalone=\"no\"?>\n<!DOCTYPE svg PUBLIC \"-//W3C//DTD SVG 1.1//EN\"\n \"http://www.w3.org/Graphics/SVG/1.1/DTD/svg11.dtd\">\n<!-- Generated by graphviz version 2.43.0 (0)\n -->\n<!-- Title: %3 Pages: 1 -->\n<svg width=\"2921pt\" height=\"236pt\"\n viewBox=\"0.00 0.00 2921.00 236.00\" xmlns=\"http://www.w3.org/2000/svg\" xmlns:xlink=\"http://www.w3.org/1999/xlink\">\n<g id=\"graph0\" class=\"graph\" transform=\"scale(1 1) rotate(0) translate(4 232)\">\n<title>%3</title>\n<polygon fill=\"white\" stroke=\"transparent\" points=\"-4,4 -4,-232 2917,-232 2917,4 -4,4\"/>\n<!-- 138257336484864 -->\n<g id=\"node1\" class=\"node\">\n<title>138257336484864</title>\n<polygon fill=\"none\" stroke=\"black\" points=\"666,-82.5 666,-118.5 925,-118.5 925,-82.5 666,-82.5\"/>\n<text text-anchor=\"middle\" x=\"712\" y=\"-96.8\" font-family=\"Times,serif\" font-size=\"14.00\">x1w1 + x2w2</text>\n<polyline fill=\"none\" stroke=\"black\" points=\"758,-82.5 758,-118.5 \"/>\n<text text-anchor=\"middle\" x=\"800.5\" y=\"-96.8\" font-family=\"Times,serif\" font-size=\"14.00\">data &#45;6.0000</text>\n<polyline fill=\"none\" stroke=\"black\" points=\"843,-82.5 843,-118.5 \"/>\n<text text-anchor=\"middle\" x=\"884\" y=\"-96.8\" font-family=\"Times,serif\" font-size=\"14.00\">grad 0.5000</text>\n</g>\n<!-- 138257336485632+ -->\n<g id=\"node23\" class=\"node\">\n<title>138257336485632+</title>\n<ellipse fill=\"none\" stroke=\"black\" cx=\"988\" cy=\"-127.5\" rx=\"27\" ry=\"18\"/>\n<text text-anchor=\"middle\" x=\"988\" y=\"-123.8\" font-family=\"Times,serif\" font-size=\"14.00\">+</text>\n</g>\n<!-- 138257336484864&#45;&gt;138257336485632+ -->\n<g id=\"edge26\" class=\"edge\">\n<title>138257336484864&#45;&gt;138257336485632+</title>\n<path fill=\"none\" stroke=\"black\" d=\"M923.57,-118.51C933.55,-119.92 943,-121.26 951.42,-122.46\"/>\n<polygon fill=\"black\" stroke=\"black\" points=\"951.09,-125.95 961.48,-123.88 952.07,-119.01 951.09,-125.95\"/>\n</g>\n<!-- 138257336484864+ -->\n<g id=\"node2\" class=\"node\">\n<title>138257336484864+</title>\n<ellipse fill=\"none\" stroke=\"black\" cx=\"603\" cy=\"-100.5\" rx=\"27\" ry=\"18\"/>\n<text text-anchor=\"middle\" x=\"603\" y=\"-96.8\" font-family=\"Times,serif\" font-size=\"14.00\">+</text>\n</g>\n<!-- 138257336484864+&#45;&gt;138257336484864 -->\n<g id=\"edge1\" class=\"edge\">\n<title>138257336484864+&#45;&gt;138257336484864</title>\n<path fill=\"none\" stroke=\"black\" d=\"M630.09,-100.5C637.58,-100.5 646.3,-100.5 655.75,-100.5\"/>\n<polygon fill=\"black\" stroke=\"black\" points=\"655.84,-104 665.84,-100.5 655.84,-97 655.84,-104\"/>\n</g>\n<!-- 138257336488464 -->\n<g id=\"node3\" class=\"node\">\n<title>138257336488464</title>\n<polygon fill=\"none\" stroke=\"black\" points=\"1362,-136.5 1362,-172.5 1544,-172.5 1544,-136.5 1362,-136.5\"/>\n<text text-anchor=\"middle\" x=\"1372\" y=\"-150.8\" font-family=\"Times,serif\" font-size=\"14.00\"> </text>\n<polyline fill=\"none\" stroke=\"black\" points=\"1382,-136.5 1382,-172.5 \"/>\n<text text-anchor=\"middle\" x=\"1422\" y=\"-150.8\" font-family=\"Times,serif\" font-size=\"14.00\">data 1.7627</text>\n<polyline fill=\"none\" stroke=\"black\" points=\"1462,-136.5 1462,-172.5 \"/>\n<text text-anchor=\"middle\" x=\"1503\" y=\"-150.8\" font-family=\"Times,serif\" font-size=\"14.00\">grad 0.2500</text>\n</g>\n<!-- 138257336497008exp -->\n<g id=\"node28\" class=\"node\">\n<title>138257336497008exp</title>\n<ellipse fill=\"none\" stroke=\"black\" cx=\"1607\" cy=\"-154.5\" rx=\"27\" ry=\"18\"/>\n<text text-anchor=\"middle\" x=\"1607\" y=\"-150.8\" font-family=\"Times,serif\" font-size=\"14.00\">exp</text>\n</g>\n<!-- 138257336488464&#45;&gt;138257336497008exp -->\n<g id=\"edge21\" class=\"edge\">\n<title>138257336488464&#45;&gt;138257336497008exp</title>\n<path fill=\"none\" stroke=\"black\" d=\"M1544.18,-154.5C1553.14,-154.5 1561.83,-154.5 1569.73,-154.5\"/>\n<polygon fill=\"black\" stroke=\"black\" points=\"1569.96,-158 1579.96,-154.5 1569.96,-151 1569.96,-158\"/>\n</g>\n<!-- 138257336488464* -->\n<g id=\"node4\" class=\"node\">\n<title>138257336488464*</title>\n<ellipse fill=\"none\" stroke=\"black\" cx=\"1299\" cy=\"-154.5\" rx=\"27\" ry=\"18\"/>\n<text text-anchor=\"middle\" x=\"1299\" y=\"-150.8\" font-family=\"Times,serif\" font-size=\"14.00\">*</text>\n</g>\n<!-- 138257336488464*&#45;&gt;138257336488464 -->\n<g id=\"edge2\" class=\"edge\">\n<title>138257336488464*&#45;&gt;138257336488464</title>\n<path fill=\"none\" stroke=\"black\" d=\"M1326.13,-154.5C1333.67,-154.5 1342.39,-154.5 1351.64,-154.5\"/>\n<polygon fill=\"black\" stroke=\"black\" points=\"1351.87,-158 1361.87,-154.5 1351.87,-151 1351.87,-158\"/>\n</g>\n<!-- 138257336487936 -->\n<g id=\"node5\" class=\"node\">\n<title>138257336487936</title>\n<polygon fill=\"none\" stroke=\"black\" points=\"326,-110.5 326,-146.5 540,-146.5 540,-110.5 326,-110.5\"/>\n<text text-anchor=\"middle\" x=\"349.5\" y=\"-124.8\" font-family=\"Times,serif\" font-size=\"14.00\">x1w1</text>\n<polyline fill=\"none\" stroke=\"black\" points=\"373,-110.5 373,-146.5 \"/>\n<text text-anchor=\"middle\" x=\"415.5\" y=\"-124.8\" font-family=\"Times,serif\" font-size=\"14.00\">data &#45;6.0000</text>\n<polyline fill=\"none\" stroke=\"black\" points=\"458,-110.5 458,-146.5 \"/>\n<text text-anchor=\"middle\" x=\"499\" y=\"-124.8\" font-family=\"Times,serif\" font-size=\"14.00\">grad 0.5000</text>\n</g>\n<!-- 138257336487936&#45;&gt;138257336484864+ -->\n<g id=\"edge23\" class=\"edge\">\n<title>138257336487936&#45;&gt;138257336484864+</title>\n<path fill=\"none\" stroke=\"black\" d=\"M540.4,-110.77C549.72,-109.21 558.65,-107.72 566.68,-106.39\"/>\n<polygon fill=\"black\" stroke=\"black\" points=\"567.38,-109.82 576.66,-104.72 566.22,-102.91 567.38,-109.82\"/>\n</g>\n<!-- 138257336487936* -->\n<g id=\"node6\" class=\"node\">\n<title>138257336487936*</title>\n<ellipse fill=\"none\" stroke=\"black\" cx=\"263\" cy=\"-128.5\" rx=\"27\" ry=\"18\"/>\n<text text-anchor=\"middle\" x=\"263\" y=\"-124.8\" font-family=\"Times,serif\" font-size=\"14.00\">*</text>\n</g>\n<!-- 138257336487936*&#45;&gt;138257336487936 -->\n<g id=\"edge3\" class=\"edge\">\n<title>138257336487936*&#45;&gt;138257336487936</title>\n<path fill=\"none\" stroke=\"black\" d=\"M290.25,-128.5C297.7,-128.5 306.34,-128.5 315.59,-128.5\"/>\n<polygon fill=\"black\" stroke=\"black\" points=\"315.84,-132 325.84,-128.5 315.84,-125 315.84,-132\"/>\n</g>\n<!-- 138257336484912 -->\n<g id=\"node7\" class=\"node\">\n<title>138257336484912</title>\n<polygon fill=\"none\" stroke=\"black\" points=\"328.5,-55.5 328.5,-91.5 537.5,-91.5 537.5,-55.5 328.5,-55.5\"/>\n<text text-anchor=\"middle\" x=\"352\" y=\"-69.8\" font-family=\"Times,serif\" font-size=\"14.00\">x2w2</text>\n<polyline fill=\"none\" stroke=\"black\" points=\"375.5,-55.5 375.5,-91.5 \"/>\n<text text-anchor=\"middle\" x=\"415.5\" y=\"-69.8\" font-family=\"Times,serif\" font-size=\"14.00\">data 0.0000</text>\n<polyline fill=\"none\" stroke=\"black\" points=\"455.5,-55.5 455.5,-91.5 \"/>\n<text text-anchor=\"middle\" x=\"496.5\" y=\"-69.8\" font-family=\"Times,serif\" font-size=\"14.00\">grad 0.5000</text>\n</g>\n<!-- 138257336484912&#45;&gt;138257336484864+ -->\n<g id=\"edge28\" class=\"edge\">\n<title>138257336484912&#45;&gt;138257336484864+</title>\n<path fill=\"none\" stroke=\"black\" d=\"M537.53,-90.14C547.8,-91.79 557.66,-93.37 566.45,-94.79\"/>\n<polygon fill=\"black\" stroke=\"black\" points=\"566.16,-98.28 576.59,-96.42 567.27,-91.37 566.16,-98.28\"/>\n</g>\n<!-- 138257336484912* -->\n<g id=\"node8\" class=\"node\">\n<title>138257336484912*</title>\n<ellipse fill=\"none\" stroke=\"black\" cx=\"263\" cy=\"-73.5\" rx=\"27\" ry=\"18\"/>\n<text text-anchor=\"middle\" x=\"263\" y=\"-69.8\" font-family=\"Times,serif\" font-size=\"14.00\">*</text>\n</g>\n<!-- 138257336484912*&#45;&gt;138257336484912 -->\n<g id=\"edge4\" class=\"edge\">\n<title>138257336484912*&#45;&gt;138257336484912</title>\n<path fill=\"none\" stroke=\"black\" d=\"M290.25,-73.5C298.43,-73.5 308.03,-73.5 318.31,-73.5\"/>\n<polygon fill=\"black\" stroke=\"black\" points=\"318.35,-77 328.35,-73.5 318.35,-70 318.35,-77\"/>\n</g>\n<!-- 138257336496672 -->\n<g id=\"node9\" class=\"node\">\n<title>138257336496672</title>\n<polygon fill=\"none\" stroke=\"black\" points=\"1052.5,-164.5 1052.5,-200.5 1234.5,-200.5 1234.5,-164.5 1052.5,-164.5\"/>\n<text text-anchor=\"middle\" x=\"1062.5\" y=\"-178.8\" font-family=\"Times,serif\" font-size=\"14.00\"> </text>\n<polyline fill=\"none\" stroke=\"black\" points=\"1072.5,-164.5 1072.5,-200.5 \"/>\n<text text-anchor=\"middle\" x=\"1112.5\" y=\"-178.8\" font-family=\"Times,serif\" font-size=\"14.00\">data 2.0000</text>\n<polyline fill=\"none\" stroke=\"black\" points=\"1152.5,-164.5 1152.5,-200.5 \"/>\n<text text-anchor=\"middle\" x=\"1193.5\" y=\"-178.8\" font-family=\"Times,serif\" font-size=\"14.00\">grad 0.2203</text>\n</g>\n<!-- 138257336496672&#45;&gt;138257336488464* -->\n<g id=\"edge27\" class=\"edge\">\n<title>138257336496672&#45;&gt;138257336488464*</title>\n<path fill=\"none\" stroke=\"black\" d=\"M1234.68,-166.05C1244.61,-164.24 1254.23,-162.48 1262.84,-160.91\"/>\n<polygon fill=\"black\" stroke=\"black\" points=\"1263.6,-164.33 1272.81,-159.09 1262.35,-157.45 1263.6,-164.33\"/>\n</g>\n<!-- 138257336486016 -->\n<g id=\"node10\" class=\"node\">\n<title>138257336486016</title>\n<polygon fill=\"none\" stroke=\"black\" points=\"1983,-108.5 1983,-144.5 2169,-144.5 2169,-108.5 1983,-108.5\"/>\n<text text-anchor=\"middle\" x=\"1993\" y=\"-122.8\" font-family=\"Times,serif\" font-size=\"14.00\"> </text>\n<polyline fill=\"none\" stroke=\"black\" points=\"2003,-108.5 2003,-144.5 \"/>\n<text text-anchor=\"middle\" x=\"2043\" y=\"-122.8\" font-family=\"Times,serif\" font-size=\"14.00\">data 6.8284</text>\n<polyline fill=\"none\" stroke=\"black\" points=\"2083,-108.5 2083,-144.5 \"/>\n<text text-anchor=\"middle\" x=\"2126\" y=\"-122.8\" font-family=\"Times,serif\" font-size=\"14.00\">grad &#45;0.1036</text>\n</g>\n<!-- 138257336491152**&#45;1 -->\n<g id=\"node13\" class=\"node\">\n<title>138257336491152**&#45;1</title>\n<ellipse fill=\"none\" stroke=\"black\" cx=\"2296\" cy=\"-126.5\" rx=\"27\" ry=\"18\"/>\n<text text-anchor=\"middle\" x=\"2296\" y=\"-122.8\" font-family=\"Times,serif\" font-size=\"14.00\">**&#45;1</text>\n</g>\n<!-- 138257336486016&#45;&gt;138257336491152**&#45;1 -->\n<g id=\"edge20\" class=\"edge\">\n<title>138257336486016&#45;&gt;138257336491152**&#45;1</title>\n<path fill=\"none\" stroke=\"black\" d=\"M2169.14,-126.5C2200.72,-126.5 2234.24,-126.5 2258.74,-126.5\"/>\n<polygon fill=\"black\" stroke=\"black\" points=\"2258.98,-130 2268.98,-126.5 2258.98,-123 2258.98,-130\"/>\n</g>\n<!-- 138257336486016+ -->\n<g id=\"node11\" class=\"node\">\n<title>138257336486016+</title>\n<ellipse fill=\"none\" stroke=\"black\" cx=\"1920\" cy=\"-126.5\" rx=\"27\" ry=\"18\"/>\n<text text-anchor=\"middle\" x=\"1920\" y=\"-122.8\" font-family=\"Times,serif\" font-size=\"14.00\">+</text>\n</g>\n<!-- 138257336486016+&#45;&gt;138257336486016 -->\n<g id=\"edge5\" class=\"edge\">\n<title>138257336486016+&#45;&gt;138257336486016</title>\n<path fill=\"none\" stroke=\"black\" d=\"M1947.12,-126.5C1954.62,-126.5 1963.29,-126.5 1972.5,-126.5\"/>\n<polygon fill=\"black\" stroke=\"black\" points=\"1972.69,-130 1982.69,-126.5 1972.69,-123 1972.69,-130\"/>\n</g>\n<!-- 138257336491152 -->\n<g id=\"node12\" class=\"node\">\n<title>138257336491152</title>\n<polygon fill=\"none\" stroke=\"black\" points=\"2423,-112.5 2423,-148.5 2605,-148.5 2605,-112.5 2423,-112.5\"/>\n<text text-anchor=\"middle\" x=\"2433\" y=\"-126.8\" font-family=\"Times,serif\" font-size=\"14.00\"> </text>\n<polyline fill=\"none\" stroke=\"black\" points=\"2443,-112.5 2443,-148.5 \"/>\n<text text-anchor=\"middle\" x=\"2483\" y=\"-126.8\" font-family=\"Times,serif\" font-size=\"14.00\">data 0.1464</text>\n<polyline fill=\"none\" stroke=\"black\" points=\"2523,-112.5 2523,-148.5 \"/>\n<text text-anchor=\"middle\" x=\"2564\" y=\"-126.8\" font-family=\"Times,serif\" font-size=\"14.00\">grad 4.8284</text>\n</g>\n<!-- 138257336490192* -->\n<g id=\"node16\" class=\"node\">\n<title>138257336490192*</title>\n<ellipse fill=\"none\" stroke=\"black\" cx=\"2668\" cy=\"-153.5\" rx=\"27\" ry=\"18\"/>\n<text text-anchor=\"middle\" x=\"2668\" y=\"-149.8\" font-family=\"Times,serif\" font-size=\"14.00\">*</text>\n</g>\n<!-- 138257336491152&#45;&gt;138257336490192* -->\n<g id=\"edge18\" class=\"edge\">\n<title>138257336491152&#45;&gt;138257336490192*</title>\n<path fill=\"none\" stroke=\"black\" d=\"M2605.18,-144.15C2614.42,-145.54 2623.38,-146.9 2631.47,-148.12\"/>\n<polygon fill=\"black\" stroke=\"black\" points=\"2631.15,-151.61 2641.56,-149.65 2632.19,-144.69 2631.15,-151.61\"/>\n</g>\n<!-- 138257336491152**&#45;1&#45;&gt;138257336491152 -->\n<g id=\"edge6\" class=\"edge\">\n<title>138257336491152**&#45;1&#45;&gt;138257336491152</title>\n<path fill=\"none\" stroke=\"black\" d=\"M2323.05,-126.98C2345.53,-127.4 2379.48,-128.03 2412.5,-128.64\"/>\n<polygon fill=\"black\" stroke=\"black\" points=\"2412.64,-132.14 2422.7,-128.83 2412.77,-125.14 2412.64,-132.14\"/>\n</g>\n<!-- 138257336491200 -->\n<g id=\"node14\" class=\"node\">\n<title>138257336491200</title>\n<polygon fill=\"none\" stroke=\"black\" points=\"4,-55.5 4,-91.5 196,-91.5 196,-55.5 4,-55.5\"/>\n<text text-anchor=\"middle\" x=\"19\" y=\"-69.8\" font-family=\"Times,serif\" font-size=\"14.00\">x2</text>\n<polyline fill=\"none\" stroke=\"black\" points=\"34,-55.5 34,-91.5 \"/>\n<text text-anchor=\"middle\" x=\"74\" y=\"-69.8\" font-family=\"Times,serif\" font-size=\"14.00\">data 0.0000</text>\n<polyline fill=\"none\" stroke=\"black\" points=\"114,-55.5 114,-91.5 \"/>\n<text text-anchor=\"middle\" x=\"155\" y=\"-69.8\" font-family=\"Times,serif\" font-size=\"14.00\">grad 0.5000</text>\n</g>\n<!-- 138257336491200&#45;&gt;138257336484912* -->\n<g id=\"edge25\" class=\"edge\">\n<title>138257336491200&#45;&gt;138257336484912*</title>\n<path fill=\"none\" stroke=\"black\" d=\"M196.05,-73.5C206.52,-73.5 216.65,-73.5 225.71,-73.5\"/>\n<polygon fill=\"black\" stroke=\"black\" points=\"225.79,-77 235.79,-73.5 225.79,-70 225.79,-77\"/>\n</g>\n<!-- 138257336490192 -->\n<g id=\"node15\" class=\"node\">\n<title>138257336490192</title>\n<polygon fill=\"none\" stroke=\"black\" points=\"2731,-135.5 2731,-171.5 2913,-171.5 2913,-135.5 2731,-135.5\"/>\n<text text-anchor=\"middle\" x=\"2741\" y=\"-149.8\" font-family=\"Times,serif\" font-size=\"14.00\"> </text>\n<polyline fill=\"none\" stroke=\"black\" points=\"2751,-135.5 2751,-171.5 \"/>\n<text text-anchor=\"middle\" x=\"2791\" y=\"-149.8\" font-family=\"Times,serif\" font-size=\"14.00\">data 0.7071</text>\n<polyline fill=\"none\" stroke=\"black\" points=\"2831,-135.5 2831,-171.5 \"/>\n<text text-anchor=\"middle\" x=\"2872\" y=\"-149.8\" font-family=\"Times,serif\" font-size=\"14.00\">grad 1.0000</text>\n</g>\n<!-- 138257336490192*&#45;&gt;138257336490192 -->\n<g id=\"edge7\" class=\"edge\">\n<title>138257336490192*&#45;&gt;138257336490192</title>\n<path fill=\"none\" stroke=\"black\" d=\"M2695.13,-153.5C2702.67,-153.5 2711.39,-153.5 2720.64,-153.5\"/>\n<polygon fill=\"black\" stroke=\"black\" points=\"2720.87,-157 2730.87,-153.5 2720.87,-150 2720.87,-157\"/>\n</g>\n<!-- 138257336485584 -->\n<g id=\"node17\" class=\"node\">\n<title>138257336485584</title>\n<polygon fill=\"none\" stroke=\"black\" points=\"2,-165.5 2,-201.5 198,-201.5 198,-165.5 2,-165.5\"/>\n<text text-anchor=\"middle\" x=\"17\" y=\"-179.8\" font-family=\"Times,serif\" font-size=\"14.00\">x1</text>\n<polyline fill=\"none\" stroke=\"black\" points=\"32,-165.5 32,-201.5 \"/>\n<text text-anchor=\"middle\" x=\"72\" y=\"-179.8\" font-family=\"Times,serif\" font-size=\"14.00\">data 2.0000</text>\n<polyline fill=\"none\" stroke=\"black\" points=\"112,-165.5 112,-201.5 \"/>\n<text text-anchor=\"middle\" x=\"155\" y=\"-179.8\" font-family=\"Times,serif\" font-size=\"14.00\">grad &#45;1.5000</text>\n</g>\n<!-- 138257336485584&#45;&gt;138257336487936* -->\n<g id=\"edge13\" class=\"edge\">\n<title>138257336485584&#45;&gt;138257336487936*</title>\n<path fill=\"none\" stroke=\"black\" d=\"M172.53,-165.44C181.84,-162.67 191.2,-159.67 200,-156.5 210.53,-152.71 221.75,-147.9 231.72,-143.33\"/>\n<polygon fill=\"black\" stroke=\"black\" points=\"233.25,-146.48 240.82,-139.07 230.28,-140.14 233.25,-146.48\"/>\n</g>\n<!-- 138257336486112 -->\n<g id=\"node18\" class=\"node\">\n<title>138257336486112</title>\n<polygon fill=\"none\" stroke=\"black\" points=\"1670.5,-81.5 1670.5,-117.5 1856.5,-117.5 1856.5,-81.5 1670.5,-81.5\"/>\n<text text-anchor=\"middle\" x=\"1680.5\" y=\"-95.8\" font-family=\"Times,serif\" font-size=\"14.00\"> </text>\n<polyline fill=\"none\" stroke=\"black\" points=\"1690.5,-81.5 1690.5,-117.5 \"/>\n<text text-anchor=\"middle\" x=\"1730.5\" y=\"-95.8\" font-family=\"Times,serif\" font-size=\"14.00\">data 1.0000</text>\n<polyline fill=\"none\" stroke=\"black\" points=\"1770.5,-81.5 1770.5,-117.5 \"/>\n<text text-anchor=\"middle\" x=\"1813.5\" y=\"-95.8\" font-family=\"Times,serif\" font-size=\"14.00\">grad &#45;0.1036</text>\n</g>\n<!-- 138257336486112&#45;&gt;138257336486016+ -->\n<g id=\"edge17\" class=\"edge\">\n<title>138257336486112&#45;&gt;138257336486016+</title>\n<path fill=\"none\" stroke=\"black\" d=\"M1856.6,-115.6C1866.15,-117.26 1875.37,-118.88 1883.68,-120.33\"/>\n<polygon fill=\"black\" stroke=\"black\" points=\"1883.2,-123.8 1893.65,-122.07 1884.4,-116.9 1883.2,-123.8\"/>\n</g>\n<!-- 138257336499456 -->\n<g id=\"node19\" class=\"node\">\n<title>138257336499456</title>\n<polygon fill=\"none\" stroke=\"black\" points=\"2205,-163.5 2205,-199.5 2387,-199.5 2387,-163.5 2205,-163.5\"/>\n<text text-anchor=\"middle\" x=\"2215\" y=\"-177.8\" font-family=\"Times,serif\" font-size=\"14.00\"> </text>\n<polyline fill=\"none\" stroke=\"black\" points=\"2225,-163.5 2225,-199.5 \"/>\n<text text-anchor=\"middle\" x=\"2265\" y=\"-177.8\" font-family=\"Times,serif\" font-size=\"14.00\">data 4.8284</text>\n<polyline fill=\"none\" stroke=\"black\" points=\"2305,-163.5 2305,-199.5 \"/>\n<text text-anchor=\"middle\" x=\"2346\" y=\"-177.8\" font-family=\"Times,serif\" font-size=\"14.00\">grad 0.1464</text>\n</g>\n<!-- 138257336499456&#45;&gt;138257336490192* -->\n<g id=\"edge24\" class=\"edge\">\n<title>138257336499456&#45;&gt;138257336490192*</title>\n<path fill=\"none\" stroke=\"black\" d=\"M2387.31,-174.9C2448.7,-170.37 2531.76,-164.19 2605,-158.5 2613.42,-157.85 2622.48,-157.13 2631.01,-156.44\"/>\n<polygon fill=\"black\" stroke=\"black\" points=\"2631.37,-159.92 2641.06,-155.63 2630.81,-152.94 2631.37,-159.92\"/>\n</g>\n<!-- 138257336499456+ -->\n<g id=\"node20\" class=\"node\">\n<title>138257336499456+</title>\n<ellipse fill=\"none\" stroke=\"black\" cx=\"1920\" cy=\"-181.5\" rx=\"27\" ry=\"18\"/>\n<text text-anchor=\"middle\" x=\"1920\" y=\"-177.8\" font-family=\"Times,serif\" font-size=\"14.00\">+</text>\n</g>\n<!-- 138257336499456+&#45;&gt;138257336499456 -->\n<g id=\"edge8\" class=\"edge\">\n<title>138257336499456+&#45;&gt;138257336499456</title>\n<path fill=\"none\" stroke=\"black\" d=\"M1947,-181.5C1997.46,-181.5 2111.06,-181.5 2194.81,-181.5\"/>\n<polygon fill=\"black\" stroke=\"black\" points=\"2194.87,-185 2204.87,-181.5 2194.87,-178 2194.87,-185\"/>\n</g>\n<!-- 138257336493840 -->\n<g id=\"node21\" class=\"node\">\n<title>138257336493840</title>\n<polygon fill=\"none\" stroke=\"black\" points=\"1670,-191.5 1670,-227.5 1857,-227.5 1857,-191.5 1670,-191.5\"/>\n<text text-anchor=\"middle\" x=\"1680\" y=\"-205.8\" font-family=\"Times,serif\" font-size=\"14.00\"> </text>\n<polyline fill=\"none\" stroke=\"black\" points=\"1690,-191.5 1690,-227.5 \"/>\n<text text-anchor=\"middle\" x=\"1732.5\" y=\"-205.8\" font-family=\"Times,serif\" font-size=\"14.00\">data &#45;1.0000</text>\n<polyline fill=\"none\" stroke=\"black\" points=\"1775,-191.5 1775,-227.5 \"/>\n<text text-anchor=\"middle\" x=\"1816\" y=\"-205.8\" font-family=\"Times,serif\" font-size=\"14.00\">grad 0.1464</text>\n</g>\n<!-- 138257336493840&#45;&gt;138257336499456+ -->\n<g id=\"edge12\" class=\"edge\">\n<title>138257336493840&#45;&gt;138257336499456+</title>\n<path fill=\"none\" stroke=\"black\" d=\"M1857.05,-192.73C1866.54,-191.01 1875.71,-189.35 1883.95,-187.85\"/>\n<polygon fill=\"black\" stroke=\"black\" points=\"1884.64,-191.28 1893.85,-186.06 1883.39,-184.4 1884.64,-191.28\"/>\n</g>\n<!-- 138257336485632 -->\n<g id=\"node22\" class=\"node\">\n<title>138257336485632</title>\n<polygon fill=\"none\" stroke=\"black\" points=\"1051,-109.5 1051,-145.5 1236,-145.5 1236,-109.5 1051,-109.5\"/>\n<text text-anchor=\"middle\" x=\"1062.5\" y=\"-123.8\" font-family=\"Times,serif\" font-size=\"14.00\">n</text>\n<polyline fill=\"none\" stroke=\"black\" points=\"1074,-109.5 1074,-145.5 \"/>\n<text text-anchor=\"middle\" x=\"1114\" y=\"-123.8\" font-family=\"Times,serif\" font-size=\"14.00\">data 0.8814</text>\n<polyline fill=\"none\" stroke=\"black\" points=\"1154,-109.5 1154,-145.5 \"/>\n<text text-anchor=\"middle\" x=\"1195\" y=\"-123.8\" font-family=\"Times,serif\" font-size=\"14.00\">grad 0.5000</text>\n</g>\n<!-- 138257336485632&#45;&gt;138257336488464* -->\n<g id=\"edge22\" class=\"edge\">\n<title>138257336485632&#45;&gt;138257336488464*</title>\n<path fill=\"none\" stroke=\"black\" d=\"M1236.01,-143.6C1245.49,-145.26 1254.66,-146.88 1262.9,-148.33\"/>\n<polygon fill=\"black\" stroke=\"black\" points=\"1262.36,-151.78 1272.81,-150.07 1263.57,-144.89 1262.36,-151.78\"/>\n</g>\n<!-- 138257336485632+&#45;&gt;138257336485632 -->\n<g id=\"edge9\" class=\"edge\">\n<title>138257336485632+&#45;&gt;138257336485632</title>\n<path fill=\"none\" stroke=\"black\" d=\"M1015.04,-127.5C1022.58,-127.5 1031.3,-127.5 1040.57,-127.5\"/>\n<polygon fill=\"black\" stroke=\"black\" points=\"1040.81,-131 1050.81,-127.5 1040.81,-124 1040.81,-131\"/>\n</g>\n<!-- 138257336484672 -->\n<g id=\"node24\" class=\"node\">\n<title>138257336484672</title>\n<polygon fill=\"none\" stroke=\"black\" points=\"2.5,-0.5 2.5,-36.5 197.5,-36.5 197.5,-0.5 2.5,-0.5\"/>\n<text text-anchor=\"middle\" x=\"19\" y=\"-14.8\" font-family=\"Times,serif\" font-size=\"14.00\">w2</text>\n<polyline fill=\"none\" stroke=\"black\" points=\"35.5,-0.5 35.5,-36.5 \"/>\n<text text-anchor=\"middle\" x=\"75.5\" y=\"-14.8\" font-family=\"Times,serif\" font-size=\"14.00\">data 1.0000</text>\n<polyline fill=\"none\" stroke=\"black\" points=\"115.5,-0.5 115.5,-36.5 \"/>\n<text text-anchor=\"middle\" x=\"156.5\" y=\"-14.8\" font-family=\"Times,serif\" font-size=\"14.00\">grad 0.0000</text>\n</g>\n<!-- 138257336484672&#45;&gt;138257336484912* -->\n<g id=\"edge15\" class=\"edge\">\n<title>138257336484672&#45;&gt;138257336484912*</title>\n<path fill=\"none\" stroke=\"black\" d=\"M172.53,-36.56C181.84,-39.33 191.2,-42.33 200,-45.5 210.53,-49.29 221.75,-54.1 231.72,-58.67\"/>\n<polygon fill=\"black\" stroke=\"black\" points=\"230.28,-61.86 240.82,-62.93 233.25,-55.52 230.28,-61.86\"/>\n</g>\n<!-- 138257336484720 -->\n<g id=\"node25\" class=\"node\">\n<title>138257336484720</title>\n<polygon fill=\"none\" stroke=\"black\" points=\"0,-110.5 0,-146.5 200,-146.5 200,-110.5 0,-110.5\"/>\n<text text-anchor=\"middle\" x=\"16.5\" y=\"-124.8\" font-family=\"Times,serif\" font-size=\"14.00\">w1</text>\n<polyline fill=\"none\" stroke=\"black\" points=\"33,-110.5 33,-146.5 \"/>\n<text text-anchor=\"middle\" x=\"75.5\" y=\"-124.8\" font-family=\"Times,serif\" font-size=\"14.00\">data &#45;3.0000</text>\n<polyline fill=\"none\" stroke=\"black\" points=\"118,-110.5 118,-146.5 \"/>\n<text text-anchor=\"middle\" x=\"159\" y=\"-124.8\" font-family=\"Times,serif\" font-size=\"14.00\">grad 1.0000</text>\n</g>\n<!-- 138257336484720&#45;&gt;138257336487936* -->\n<g id=\"edge14\" class=\"edge\">\n<title>138257336484720&#45;&gt;138257336487936*</title>\n<path fill=\"none\" stroke=\"black\" d=\"M200.21,-128.5C209.2,-128.5 217.86,-128.5 225.7,-128.5\"/>\n<polygon fill=\"black\" stroke=\"black\" points=\"225.85,-132 235.85,-128.5 225.85,-125 225.85,-132\"/>\n</g>\n<!-- 138257336486208 -->\n<g id=\"node26\" class=\"node\">\n<title>138257336486208</title>\n<polygon fill=\"none\" stroke=\"black\" points=\"703,-137.5 703,-173.5 888,-173.5 888,-137.5 703,-137.5\"/>\n<text text-anchor=\"middle\" x=\"714.5\" y=\"-151.8\" font-family=\"Times,serif\" font-size=\"14.00\">b</text>\n<polyline fill=\"none\" stroke=\"black\" points=\"726,-137.5 726,-173.5 \"/>\n<text text-anchor=\"middle\" x=\"766\" y=\"-151.8\" font-family=\"Times,serif\" font-size=\"14.00\">data 6.8814</text>\n<polyline fill=\"none\" stroke=\"black\" points=\"806,-137.5 806,-173.5 \"/>\n<text text-anchor=\"middle\" x=\"847\" y=\"-151.8\" font-family=\"Times,serif\" font-size=\"14.00\">grad 0.5000</text>\n</g>\n<!-- 138257336486208&#45;&gt;138257336485632+ -->\n<g id=\"edge16\" class=\"edge\">\n<title>138257336486208&#45;&gt;138257336485632+</title>\n<path fill=\"none\" stroke=\"black\" d=\"M888.12,-142.03C910.59,-138.73 933.33,-135.39 951.33,-132.74\"/>\n<polygon fill=\"black\" stroke=\"black\" points=\"951.96,-136.19 961.34,-131.27 950.94,-129.26 951.96,-136.19\"/>\n</g>\n<!-- 138257336497008 -->\n<g id=\"node27\" class=\"node\">\n<title>138257336497008</title>\n<polygon fill=\"none\" stroke=\"black\" points=\"1672.5,-136.5 1672.5,-172.5 1854.5,-172.5 1854.5,-136.5 1672.5,-136.5\"/>\n<text text-anchor=\"middle\" x=\"1682.5\" y=\"-150.8\" font-family=\"Times,serif\" font-size=\"14.00\"> </text>\n<polyline fill=\"none\" stroke=\"black\" points=\"1692.5,-136.5 1692.5,-172.5 \"/>\n<text text-anchor=\"middle\" x=\"1732.5\" y=\"-150.8\" font-family=\"Times,serif\" font-size=\"14.00\">data 5.8284</text>\n<polyline fill=\"none\" stroke=\"black\" points=\"1772.5,-136.5 1772.5,-172.5 \"/>\n<text text-anchor=\"middle\" x=\"1813.5\" y=\"-150.8\" font-family=\"Times,serif\" font-size=\"14.00\">grad 0.0429</text>\n</g>\n<!-- 138257336497008&#45;&gt;138257336486016+ -->\n<g id=\"edge19\" class=\"edge\">\n<title>138257336497008&#45;&gt;138257336486016+</title>\n<path fill=\"none\" stroke=\"black\" d=\"M1854.82,-138.13C1865.07,-136.27 1875.01,-134.47 1883.88,-132.87\"/>\n<polygon fill=\"black\" stroke=\"black\" points=\"1884.54,-136.3 1893.75,-131.08 1883.29,-129.42 1884.54,-136.3\"/>\n</g>\n<!-- 138257336497008&#45;&gt;138257336499456+ -->\n<g id=\"edge11\" class=\"edge\">\n<title>138257336497008&#45;&gt;138257336499456+</title>\n<path fill=\"none\" stroke=\"black\" d=\"M1854.82,-170.28C1865.07,-172.08 1875.01,-173.81 1883.88,-175.36\"/>\n<polygon fill=\"black\" stroke=\"black\" points=\"1883.3,-178.81 1893.75,-177.09 1884.5,-171.92 1883.3,-178.81\"/>\n</g>\n<!-- 138257336497008exp&#45;&gt;138257336497008 -->\n<g id=\"edge10\" class=\"edge\">\n<title>138257336497008exp&#45;&gt;138257336497008</title>\n<path fill=\"none\" stroke=\"black\" d=\"M1634.21,-154.5C1642.34,-154.5 1651.85,-154.5 1661.94,-154.5\"/>\n<polygon fill=\"black\" stroke=\"black\" points=\"1662.19,-158 1672.19,-154.5 1662.19,-151 1662.19,-158\"/>\n</g>\n</g>\n</svg>\n",
            "text/plain": [
              "<graphviz.graphs.Digraph at 0x7dbe8b6dc790>"
            ]
          },
          "metadata": {},
          "execution_count": 7
        }
      ]
    },
    {
      "cell_type": "code",
      "source": [],
      "metadata": {
        "id": "SYOgdDYGMYUb"
      },
      "execution_count": 7,
      "outputs": []
    },
    {
      "cell_type": "markdown",
      "source": [
        "### PyTorch"
      ],
      "metadata": {
        "id": "yXNCmOQvdrrW"
      }
    },
    {
      "cell_type": "code",
      "source": [
        "import torch"
      ],
      "metadata": {
        "id": "hRKRxy4pdrVL"
      },
      "execution_count": 8,
      "outputs": []
    },
    {
      "cell_type": "code",
      "source": [
        "x1 = torch.Tensor([2.0]).double()\n",
        "x1.requires_grad = True\n",
        "\n",
        "x2 = torch.Tensor([0.0]).double()\n",
        "x2.requires_grad = True\n",
        "\n",
        "w1 = torch.Tensor([-3.0]).double()\n",
        "w1.requires_grad = True\n",
        "\n",
        "w2 = torch.Tensor([1.0]).double()\n",
        "w2.requires_grad = True\n",
        "\n",
        "b = torch.Tensor([6.8813735870195432]).double()\n",
        "b.requires_grad = True\n",
        "\n",
        "n = x1*w1 + x2*w2 + b\n",
        "o = torch.tanh(n)\n",
        "\n",
        "print('out', o.data.item())   # o.item() works the same\n",
        "\n",
        "o.backward()\n",
        "\n",
        "print('x2', x2.grad.item())\n",
        "print('w2', w2.grad.item())\n",
        "print('x1', x1.grad.item())\n",
        "print('w1', w1.grad.item())"
      ],
      "metadata": {
        "colab": {
          "base_uri": "https://localhost:8080/"
        },
        "id": "BAcBL9nxdxnR",
        "outputId": "0a9af7b0-ee11-4d89-c0a0-1c78559451cc"
      },
      "execution_count": 9,
      "outputs": [
        {
          "output_type": "stream",
          "name": "stdout",
          "text": [
            "out 0.7071066904050358\n",
            "x2 0.5000001283844369\n",
            "w2 0.0\n",
            "x1 -1.5000003851533106\n",
            "w1 1.0000002567688737\n"
          ]
        }
      ]
    },
    {
      "cell_type": "code",
      "source": [
        "## Define MLP (Multi-Layer Perceptron)\n",
        "import random\n",
        "\n",
        "# Define a single neuron\n",
        "class Neuron:\n",
        "  def __init__(self, n_in):   # takes the number of inputs to the neuron and initializes them with some random value\n",
        "    self.w = [Value(random.uniform(-1,1)) for _ in range(n_in)]\n",
        "    self.b = Value(random.uniform(-1,1))\n",
        "\n",
        "  def __call__(self, x):\n",
        "    # w * x + b\n",
        "    act = sum((wi*xi for wi, xi in zip(self.w, x)), self.b)\n",
        "    out = act.tanh()\n",
        "    return out\n",
        "\n",
        "  def parameters(self):\n",
        "    return self.w + [self.b]\n",
        "\n",
        "\n",
        "class Layer():\n",
        "  def __init__(self, n_in, n_out):\n",
        "    self.neurons = [Neuron(n_in) for _ in range(n_out)]\n",
        "\n",
        "  def __call__(self, x):\n",
        "    outs = [n(x) for n in self.neurons]\n",
        "    return outs[0] if len(outs) == 1 else outs\n",
        "\n",
        "  def parameters(self):\n",
        "    return [p for neuron in self.neurons for p in neuron.parameters()]\n",
        "\n",
        "\n",
        "class MLP:\n",
        "  def __init__(self, n_in, n_outs):\n",
        "    sz = [n_in] + n_outs\n",
        "    self.layers = [Layer(sz[i], sz[i+1]) for i in range(len(n_outs))]\n",
        "\n",
        "  def __call__(self, x):\n",
        "    for layer in self.layers:\n",
        "      x = layer(x)\n",
        "    return x\n",
        "\n",
        "  def parameters(self):\n",
        "    return [p for layer in self.layers for p in layer.parameters()]\n"
      ],
      "metadata": {
        "id": "6r5qoaZ7eE22"
      },
      "execution_count": 10,
      "outputs": []
    },
    {
      "cell_type": "code",
      "source": [
        "x = [2.0, 3.0, -1.0]\n",
        "n = MLP(3, [4, 4, 1])\n",
        "n(x)"
      ],
      "metadata": {
        "colab": {
          "base_uri": "https://localhost:8080/"
        },
        "id": "k7E2MbX6Phsz",
        "outputId": "abfd11c9-9725-401c-ffc0-1b2dc40bcb5f"
      },
      "execution_count": 11,
      "outputs": [
        {
          "output_type": "execute_result",
          "data": {
            "text/plain": [
              "value(data=-0.8665828324247837)"
            ]
          },
          "metadata": {},
          "execution_count": 11
        }
      ]
    },
    {
      "cell_type": "code",
      "source": [
        "xs = [\n",
        "    [2, 3, -1],\n",
        "    [3, -1, 0.5],\n",
        "    [0.5, 1, 1],\n",
        "    [1, 1, -1]\n",
        "]\n",
        "\n",
        "ys = [1, -1, -1, 1]   # desired targets"
      ],
      "metadata": {
        "id": "wczo7lWu-wdR"
      },
      "execution_count": 12,
      "outputs": []
    },
    {
      "cell_type": "markdown",
      "source": [
        "### Training loop"
      ],
      "metadata": {
        "id": "2Jofb1gMa2qq"
      }
    },
    {
      "cell_type": "code",
      "source": [
        "for k in range(100):\n",
        "\n",
        "  # forward pass\n",
        "  y_pred = [n(x) for x in xs]\n",
        "  loss = sum([(yout - ygt)**2 for ygt, yout in zip(ys, y_pred)], Value(0))\n",
        "\n",
        "  # backward pass\n",
        "  for p in n.parameters():\n",
        "    p.grad = 0.0\n",
        "  loss.backward()\n",
        "\n",
        "  # update\n",
        "  for p in n.parameters():\n",
        "    p.data += -0.05 * p.grad\n",
        "\n",
        "  print(k, loss.data)"
      ],
      "metadata": {
        "colab": {
          "base_uri": "https://localhost:8080/"
        },
        "id": "ckggZ0tt_bkW",
        "outputId": "51e623d6-447c-48fa-bff9-c5cabd53e9d3"
      },
      "execution_count": 13,
      "outputs": [
        {
          "output_type": "stream",
          "name": "stdout",
          "text": [
            "0 5.384006689662268\n",
            "1 1.5569305251890189\n",
            "2 0.737495878598123\n",
            "3 0.4653905570137833\n",
            "4 0.31821845866396137\n",
            "5 0.23362715757405322\n",
            "6 0.18108250586792762\n",
            "7 0.14613912396924916\n",
            "8 0.12158713830836401\n",
            "9 0.10356346010126814\n",
            "10 0.0898592481708057\n",
            "11 0.07913804746426685\n",
            "12 0.07055143281139778\n",
            "13 0.06353843550887632\n",
            "14 0.05771509937831394\n",
            "15 0.05281072735797714\n",
            "16 0.04862953227259884\n",
            "17 0.04502672316791095\n",
            "18 0.04189311472549138\n",
            "19 0.039144942194771874\n",
            "20 0.03671695258753738\n",
            "21 0.03455761385824132\n",
            "22 0.032625726517607985\n",
            "23 0.030887984127951594\n",
            "24 0.029317188451654527\n",
            "25 0.027890924324375815\n",
            "26 0.026590562616151787\n",
            "27 0.025400500816937076\n",
            "28 0.02430757807373168\n",
            "29 0.0233006199088567\n",
            "30 0.022370080456075633\n",
            "31 0.02150775881555297\n",
            "32 0.020706572304692618\n",
            "33 0.01996037378929479\n",
            "34 0.019263803461869806\n",
            "35 0.01861216775717245\n",
            "36 0.01800133980852523\n",
            "37 0.0174276771245233\n",
            "38 0.016887953124581745\n",
            "39 0.01637929989848598\n",
            "40 0.015899160110287417\n",
            "41 0.01544524639425675\n",
            "42 0.015015506921959736\n",
            "43 0.014608096078172754\n",
            "44 0.014221349386564443\n",
            "45 0.013853761986702458\n",
            "46 0.013503970091653838\n",
            "47 0.013170734957556267\n",
            "48 0.012852928978598143\n",
            "49 0.012549523587136971\n",
            "50 0.012259578692490615\n",
            "51 0.011982233435809342\n",
            "52 0.011716698074371\n",
            "53 0.011462246838195944\n",
            "54 0.011218211626284842\n",
            "55 0.01098397643001687\n",
            "56 0.010758972388082365\n",
            "57 0.010542673391385395\n",
            "58 0.010334592168134182\n",
            "59 0.010134276789245202\n",
            "60 0.009941307542542082\n",
            "61 0.009755294131301879\n",
            "62 0.009575873158700036\n",
            "63 0.009402705864812042\n",
            "64 0.009235476087187694\n",
            "65 0.00907388841974163\n",
            "66 0.008917666547904414\n",
            "67 0.008766551740728304\n",
            "68 0.00862030148301466\n",
            "69 0.008478688232580406\n",
            "70 0.00834149828955566\n",
            "71 0.008208530766146496\n",
            "72 0.008079596646637963\n",
            "73 0.007954517928580923\n",
            "74 0.00783312683712726\n",
            "75 0.007715265105372653\n",
            "76 0.007600783314348074\n",
            "77 0.007489540286991529\n",
            "78 0.007381402531035718\n",
            "79 0.007276243726282475\n",
            "80 0.00717394425220646\n",
            "81 0.007074390752247524\n",
            "82 0.006977475731521127\n",
            "83 0.00688309718500461\n",
            "84 0.006791158253547883\n",
            "85 0.006701566905317773\n",
            "86 0.006614235640516046\n",
            "87 0.006529081217417337\n",
            "88 0.006446024397958799\n",
            "89 0.006364989711277901\n",
            "90 0.0062859052337430575\n",
            "91 0.00620870238415466\n",
            "92 0.006133315732914153\n",
            "93 0.006059682824065176\n",
            "94 0.005987744009208804\n",
            "95 0.005917442292381387\n",
            "96 0.0058487231850627664\n",
            "97 0.0057815345705536526\n",
            "98 0.005715826577025812\n",
            "99 0.005651551458606643\n"
          ]
        }
      ]
    },
    {
      "cell_type": "code",
      "source": [
        "y_pred"
      ],
      "metadata": {
        "colab": {
          "base_uri": "https://localhost:8080/"
        },
        "id": "iqLKWhvdCJzk",
        "outputId": "24ee89ba-2b58-4e78-ad49-a42c9c422120"
      },
      "execution_count": 14,
      "outputs": [
        {
          "output_type": "execute_result",
          "data": {
            "text/plain": [
              "[value(data=0.9518869012795539),\n",
              " value(data=-0.9797754257769461),\n",
              " value(data=-0.9545117959076697),\n",
              " value(data=0.9707003229356715)]"
            ]
          },
          "metadata": {},
          "execution_count": 14
        }
      ]
    },
    {
      "cell_type": "code",
      "source": [],
      "metadata": {
        "id": "0EUtPW_Say81"
      },
      "execution_count": 14,
      "outputs": []
    }
  ]
}