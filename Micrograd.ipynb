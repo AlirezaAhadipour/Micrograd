{
  "nbformat": 4,
  "nbformat_minor": 0,
  "metadata": {
    "colab": {
      "provenance": [],
      "authorship_tag": "ABX9TyM5SVIz3CRemEwp/oeF1ye1",
      "include_colab_link": true
    },
    "kernelspec": {
      "name": "python3",
      "display_name": "Python 3"
    },
    "language_info": {
      "name": "python"
    }
  },
  "cells": [
    {
      "cell_type": "markdown",
      "metadata": {
        "id": "view-in-github",
        "colab_type": "text"
      },
      "source": [
        "<a href=\"https://colab.research.google.com/github/AlirezaAhadipour/Micrograd/blob/main/Micrograd.ipynb\" target=\"_parent\"><img src=\"https://colab.research.google.com/assets/colab-badge.svg\" alt=\"Open In Colab\"/></a>"
      ]
    },
    {
      "cell_type": "code",
      "execution_count": 7,
      "metadata": {
        "colab": {
          "base_uri": "https://localhost:8080/"
        },
        "id": "653dBoFWPjAQ",
        "outputId": "ad4cff16-1b04-4cff-9eeb-e588bf0d5c93"
      },
      "outputs": [
        {
          "output_type": "stream",
          "name": "stdout",
          "text": [
            "Collecting micrograd\n",
            "  Downloading micrograd-0.1.0-py3-none-any.whl (4.9 kB)\n",
            "Installing collected packages: micrograd\n",
            "Successfully installed micrograd-0.1.0\n"
          ]
        }
      ],
      "source": [
        "!pip install micrograd"
      ]
    },
    {
      "cell_type": "code",
      "source": [
        "from micrograd.engine import Value"
      ],
      "metadata": {
        "id": "sjGLGPhsQFs8"
      },
      "execution_count": 8,
      "outputs": []
    },
    {
      "cell_type": "markdown",
      "source": [
        "### Example"
      ],
      "metadata": {
        "id": "-fIoE-vvTMQY"
      }
    },
    {
      "cell_type": "code",
      "source": [
        "a = Value(-4.0)\n",
        "b = Value(2.0)\n",
        "\n",
        "c = a + b\n",
        "d = (a * b) + (b ** 3)\n",
        "c += c + 1\n",
        "c += 1 + c + (-a)\n",
        "d += (d * 2) + (b + a).relu()\n",
        "d += (3 * d) + (b - a).relu()\n",
        "e = c - d\n",
        "f = e ** 2\n",
        "g = f / 2.0\n",
        "g += 10.0 / f\n",
        "\n",
        "print(f'Outcome of forward pass: \\n {g.data: .4f}')\n",
        "g.backward()\n",
        "print(f'Numerical value of dg/da: \\n {a.grad: .4f}')\n",
        "print(f'Numerical value of dg/db: \\n {b.grad: .4f}')\n"
      ],
      "metadata": {
        "colab": {
          "base_uri": "https://localhost:8080/"
        },
        "id": "mXsHQKa8QbkX",
        "outputId": "25644c39-1222-4247-8cda-fb388571f039"
      },
      "execution_count": 9,
      "outputs": [
        {
          "output_type": "stream",
          "name": "stdout",
          "text": [
            "Outcome of forward pass: \n",
            "  24.7041\n",
            "Numerical value of dg/da: \n",
            "  138.8338\n",
            "Numerical value of dg/db: \n",
            "  645.5773\n"
          ]
        }
      ]
    },
    {
      "cell_type": "markdown",
      "source": [
        "# Micrograd from scratch"
      ],
      "metadata": {
        "id": "09fl9FClU4tS"
      }
    },
    {
      "cell_type": "code",
      "source": [
        "import math\n",
        "import numpy as np\n",
        "import matplotlib.pyplot as plt\n",
        "%matplotlib inline"
      ],
      "metadata": {
        "id": "1eYnrG9KSOM3"
      },
      "execution_count": 10,
      "outputs": []
    },
    {
      "cell_type": "code",
      "source": [
        "class Value():\n",
        "  def __init__(self, data, _children=(), _op='', label=''):\n",
        "    self.data = data\n",
        "    self.grad = 0.0   # initialize the gradient at 0\n",
        "    self._backward = lambda: None   # empty function\n",
        "    self._prev = set(_children)   # previous value(s)\n",
        "    self._op = _op   # previous operation\n",
        "    self.label = label\n",
        "\n",
        "  def __repr__(self):\n",
        "    return f'value(data={self.data})'\n",
        "\n",
        "  def __add__(self, other):\n",
        "    other = other if isinstance(other, Value) else Value(other)\n",
        "    out = Value(self.data + other.data, (self, other), '+')\n",
        "\n",
        "    def _backward():\n",
        "      self.grad += 1.0 * out.grad\n",
        "      other.grad += 1.0 * out.grad\n",
        "    out._backward = _backward\n",
        "\n",
        "    return out\n",
        "\n",
        "  def __mul__(self, other):\n",
        "    other = other if isinstance(other, Value) else Value(other)\n",
        "    out = Value(self.data * other.data, (self, other), '*')\n",
        "\n",
        "    def _backward():\n",
        "      self.grad += other.data * out.grad\n",
        "      other.grad += self.data * out.grad\n",
        "    out._backward = _backward\n",
        "\n",
        "    return out\n",
        "\n",
        "  def __pow__(self, other):\n",
        "    assert isinstance(other, (int, float)), 'Only supporting int/float powers'\n",
        "    out = Value(self.data ** other, (self, ), f'**{other}')\n",
        "\n",
        "    def _backward():\n",
        "      self.grad += other * (self.data ** (other - 1)) * out.grad\n",
        "    out._backward = _backward\n",
        "\n",
        "    return out\n",
        "\n",
        "  def __rmul__(self, other):   # other * self\n",
        "    return self * other\n",
        "\n",
        "  def __truediv__(self, other) :   # self / other\n",
        "    return self * (other ** -1)\n",
        "\n",
        "  def __neg__(self):   # - self\n",
        "    return self * -1\n",
        "\n",
        "  def __sub__(self, other):   # self - other\n",
        "    return self + (-other)\n",
        "\n",
        "  def exp(self):\n",
        "    x = self.data\n",
        "    out = Value(math.exp(x), (self, ), 'exp')\n",
        "\n",
        "    def _backward():\n",
        "      self.grad += out.data * out.grad\n",
        "    out._backward = _backward\n",
        "\n",
        "    return out\n",
        "\n",
        "  def tanh(self):\n",
        "    x = self.data\n",
        "    t = (math.exp(2*x) - 1) / (math.exp(2*x) + 1)\n",
        "    out = Value(t, (self, ), 'tanh')\n",
        "\n",
        "    def _backward():\n",
        "      self.grad += (1 - t**2) * out.grad\n",
        "    out._backward = _backward\n",
        "\n",
        "    return out\n",
        "\n",
        "  def backward(self):\n",
        "    topo = []\n",
        "    visited = set()\n",
        "\n",
        "    def build_topo(v):\n",
        "      if v not in visited:\n",
        "        visited.add(v)\n",
        "        for child in v._prev:\n",
        "          build_topo(child)\n",
        "        topo.append(v)\n",
        "\n",
        "    build_topo(self)\n",
        "    self.grad = 1\n",
        "    for node in reversed(topo):\n",
        "      node._backward()\n"
      ],
      "metadata": {
        "id": "vKYfbc6zfBIp"
      },
      "execution_count": 19,
      "outputs": []
    },
    {
      "cell_type": "code",
      "source": [
        "from graphviz import Digraph\n",
        "\n",
        "def trace(root):\n",
        "  # builds a set of all nodes and edges in a graph\n",
        "  nodes, edges = set(), set()\n",
        "  def build(v):\n",
        "    if v not in nodes:\n",
        "      nodes.add(v)\n",
        "      for child in v._prev:\n",
        "        edges.add((child, v))\n",
        "        build(child)\n",
        "  build(root)\n",
        "  return nodes, edges\n",
        "\n",
        "def draw_dot(root):\n",
        "  dot = Digraph(format='svg', graph_attr={'rankdir': 'LR'}) # LR = left to right\n",
        "\n",
        "  nodes, edges = trace(root)\n",
        "  for n in nodes:\n",
        "    uid = str(id(n))\n",
        "    # for any value in the graph, create a rectangular ('record') node for it\n",
        "    dot.node(name = uid, label = \"{%s | data %.4f | grad %.4f}\" % (n.label, n.data, n.grad), shape='record')\n",
        "    if n._op:\n",
        "      # if this value is a result of some operation, create an op node for it\n",
        "      dot.node(name = uid + n._op, label = n._op)\n",
        "      # and connect this node to it\n",
        "      dot.edge(uid + n._op, uid)\n",
        "\n",
        "  for n1, n2 in edges:\n",
        "    # connect n1 to the op node of n2\n",
        "    dot.edge(str(id(n1)), str(id(n2)) + n2._op)\n",
        "\n",
        "  return dot"
      ],
      "metadata": {
        "id": "4ZOidydOjaAD"
      },
      "execution_count": 12,
      "outputs": []
    },
    {
      "cell_type": "code",
      "source": [
        "# inputs x1, x2\n",
        "x1 = Value(2.0, label='x1')\n",
        "x2 = Value(0.0, label='x2')\n",
        "\n",
        "# weights w1, w2\n",
        "w1 = Value(-3.0, label='w1')\n",
        "w2 = Value(1.0, label='w2')\n",
        "\n",
        "# bias of the neuron\n",
        "b = Value(6.8813735870195432, label='b')\n",
        "\n",
        "# x1w1 + x2w2 + b\n",
        "x1w1 = x1*w1; x1w1.label = 'x1w1'\n",
        "x2w2 = x2*w2; x2w2.label = 'x2w2'\n",
        "x1w1x2w2 = x1w1 + x2w2; x1w1x2w2.label = 'x1w1 + x2w2'\n",
        "n = x1w1x2w2 + b; n.label = 'n'\n",
        "# o = n.tanh(); o.label = 'o'\n",
        "e = (2 * n).exp()\n",
        "o = (e - 1) / (e + 1)\n",
        "\n",
        "o.backward()\n",
        "draw_dot(o)"
      ],
      "metadata": {
        "colab": {
          "base_uri": "https://localhost:8080/",
          "height": 320
        },
        "id": "Avo-uUkv0BNq",
        "outputId": "f31569ad-10d0-462e-a194-20413e0126e6"
      },
      "execution_count": 13,
      "outputs": [
        {
          "output_type": "execute_result",
          "data": {
            "image/svg+xml": "<?xml version=\"1.0\" encoding=\"UTF-8\" standalone=\"no\"?>\n<!DOCTYPE svg PUBLIC \"-//W3C//DTD SVG 1.1//EN\"\n \"http://www.w3.org/Graphics/SVG/1.1/DTD/svg11.dtd\">\n<!-- Generated by graphviz version 2.43.0 (0)\n -->\n<!-- Title: %3 Pages: 1 -->\n<svg width=\"2921pt\" height=\"210pt\"\n viewBox=\"0.00 0.00 2921.00 210.00\" xmlns=\"http://www.w3.org/2000/svg\" xmlns:xlink=\"http://www.w3.org/1999/xlink\">\n<g id=\"graph0\" class=\"graph\" transform=\"scale(1 1) rotate(0) translate(4 206)\">\n<title>%3</title>\n<polygon fill=\"white\" stroke=\"transparent\" points=\"-4,4 -4,-206 2917,-206 2917,4 -4,4\"/>\n<!-- 133611161121792 -->\n<g id=\"node1\" class=\"node\">\n<title>133611161121792</title>\n<polygon fill=\"none\" stroke=\"black\" points=\"2205,-53.5 2205,-89.5 2387,-89.5 2387,-53.5 2205,-53.5\"/>\n<text text-anchor=\"middle\" x=\"2215\" y=\"-67.8\" font-family=\"Times,serif\" font-size=\"14.00\"> </text>\n<polyline fill=\"none\" stroke=\"black\" points=\"2225,-53.5 2225,-89.5 \"/>\n<text text-anchor=\"middle\" x=\"2265\" y=\"-67.8\" font-family=\"Times,serif\" font-size=\"14.00\">data 4.8284</text>\n<polyline fill=\"none\" stroke=\"black\" points=\"2305,-53.5 2305,-89.5 \"/>\n<text text-anchor=\"middle\" x=\"2346\" y=\"-67.8\" font-family=\"Times,serif\" font-size=\"14.00\">grad 0.1464</text>\n</g>\n<!-- 133611161123232* -->\n<g id=\"node26\" class=\"node\">\n<title>133611161123232*</title>\n<ellipse fill=\"none\" stroke=\"black\" cx=\"2668\" cy=\"-98.5\" rx=\"27\" ry=\"18\"/>\n<text text-anchor=\"middle\" x=\"2668\" y=\"-94.8\" font-family=\"Times,serif\" font-size=\"14.00\">*</text>\n</g>\n<!-- 133611161121792&#45;&gt;133611161123232* -->\n<g id=\"edge17\" class=\"edge\">\n<title>133611161121792&#45;&gt;133611161123232*</title>\n<path fill=\"none\" stroke=\"black\" d=\"M2387.04,-78.07C2465.41,-83.79 2574.98,-91.79 2630.96,-95.87\"/>\n<polygon fill=\"black\" stroke=\"black\" points=\"2630.87,-99.37 2641.1,-96.61 2631.38,-92.39 2630.87,-99.37\"/>\n</g>\n<!-- 133611161121792+ -->\n<g id=\"node2\" class=\"node\">\n<title>133611161121792+</title>\n<ellipse fill=\"none\" stroke=\"black\" cx=\"1920\" cy=\"-71.5\" rx=\"27\" ry=\"18\"/>\n<text text-anchor=\"middle\" x=\"1920\" y=\"-67.8\" font-family=\"Times,serif\" font-size=\"14.00\">+</text>\n</g>\n<!-- 133611161121792+&#45;&gt;133611161121792 -->\n<g id=\"edge1\" class=\"edge\">\n<title>133611161121792+&#45;&gt;133611161121792</title>\n<path fill=\"none\" stroke=\"black\" d=\"M1947,-71.5C1997.46,-71.5 2111.06,-71.5 2194.81,-71.5\"/>\n<polygon fill=\"black\" stroke=\"black\" points=\"2194.87,-75 2204.87,-71.5 2194.87,-68 2194.87,-75\"/>\n</g>\n<!-- 133611161121840 -->\n<g id=\"node3\" class=\"node\">\n<title>133611161121840</title>\n<polygon fill=\"none\" stroke=\"black\" points=\"2423,-106.5 2423,-142.5 2605,-142.5 2605,-106.5 2423,-106.5\"/>\n<text text-anchor=\"middle\" x=\"2433\" y=\"-120.8\" font-family=\"Times,serif\" font-size=\"14.00\"> </text>\n<polyline fill=\"none\" stroke=\"black\" points=\"2443,-106.5 2443,-142.5 \"/>\n<text text-anchor=\"middle\" x=\"2483\" y=\"-120.8\" font-family=\"Times,serif\" font-size=\"14.00\">data 0.1464</text>\n<polyline fill=\"none\" stroke=\"black\" points=\"2523,-106.5 2523,-142.5 \"/>\n<text text-anchor=\"middle\" x=\"2564\" y=\"-120.8\" font-family=\"Times,serif\" font-size=\"14.00\">grad 4.8284</text>\n</g>\n<!-- 133611161121840&#45;&gt;133611161123232* -->\n<g id=\"edge24\" class=\"edge\">\n<title>133611161121840&#45;&gt;133611161123232*</title>\n<path fill=\"none\" stroke=\"black\" d=\"M2605.18,-109.08C2614.42,-107.49 2623.38,-105.96 2631.47,-104.58\"/>\n<polygon fill=\"black\" stroke=\"black\" points=\"2632.29,-107.99 2641.56,-102.85 2631.11,-101.09 2632.29,-107.99\"/>\n</g>\n<!-- 133611161121840**&#45;1 -->\n<g id=\"node4\" class=\"node\">\n<title>133611161121840**&#45;1</title>\n<ellipse fill=\"none\" stroke=\"black\" cx=\"2296\" cy=\"-126.5\" rx=\"27\" ry=\"18\"/>\n<text text-anchor=\"middle\" x=\"2296\" y=\"-122.8\" font-family=\"Times,serif\" font-size=\"14.00\">**&#45;1</text>\n</g>\n<!-- 133611161121840**&#45;1&#45;&gt;133611161121840 -->\n<g id=\"edge2\" class=\"edge\">\n<title>133611161121840**&#45;1&#45;&gt;133611161121840</title>\n<path fill=\"none\" stroke=\"black\" d=\"M2323.05,-126.26C2345.53,-126.05 2379.48,-125.74 2412.5,-125.43\"/>\n<polygon fill=\"black\" stroke=\"black\" points=\"2412.74,-128.93 2422.7,-125.34 2412.67,-121.93 2412.74,-128.93\"/>\n</g>\n<!-- 133611163022912 -->\n<g id=\"node5\" class=\"node\">\n<title>133611163022912</title>\n<polygon fill=\"none\" stroke=\"black\" points=\"4,-55.5 4,-91.5 196,-91.5 196,-55.5 4,-55.5\"/>\n<text text-anchor=\"middle\" x=\"19\" y=\"-69.8\" font-family=\"Times,serif\" font-size=\"14.00\">x2</text>\n<polyline fill=\"none\" stroke=\"black\" points=\"34,-55.5 34,-91.5 \"/>\n<text text-anchor=\"middle\" x=\"74\" y=\"-69.8\" font-family=\"Times,serif\" font-size=\"14.00\">data 0.0000</text>\n<polyline fill=\"none\" stroke=\"black\" points=\"114,-55.5 114,-91.5 \"/>\n<text text-anchor=\"middle\" x=\"155\" y=\"-69.8\" font-family=\"Times,serif\" font-size=\"14.00\">grad 0.5000</text>\n</g>\n<!-- 133611161118624* -->\n<g id=\"node21\" class=\"node\">\n<title>133611161118624*</title>\n<ellipse fill=\"none\" stroke=\"black\" cx=\"263\" cy=\"-73.5\" rx=\"27\" ry=\"18\"/>\n<text text-anchor=\"middle\" x=\"263\" y=\"-69.8\" font-family=\"Times,serif\" font-size=\"14.00\">*</text>\n</g>\n<!-- 133611163022912&#45;&gt;133611161118624* -->\n<g id=\"edge14\" class=\"edge\">\n<title>133611163022912&#45;&gt;133611161118624*</title>\n<path fill=\"none\" stroke=\"black\" d=\"M196.05,-73.5C206.52,-73.5 216.65,-73.5 225.71,-73.5\"/>\n<polygon fill=\"black\" stroke=\"black\" points=\"225.79,-77 235.79,-73.5 225.79,-70 225.79,-77\"/>\n</g>\n<!-- 133611161123424 -->\n<g id=\"node6\" class=\"node\">\n<title>133611161123424</title>\n<polygon fill=\"none\" stroke=\"black\" points=\"1670,-26.5 1670,-62.5 1857,-62.5 1857,-26.5 1670,-26.5\"/>\n<text text-anchor=\"middle\" x=\"1680\" y=\"-40.8\" font-family=\"Times,serif\" font-size=\"14.00\"> </text>\n<polyline fill=\"none\" stroke=\"black\" points=\"1690,-26.5 1690,-62.5 \"/>\n<text text-anchor=\"middle\" x=\"1732.5\" y=\"-40.8\" font-family=\"Times,serif\" font-size=\"14.00\">data &#45;1.0000</text>\n<polyline fill=\"none\" stroke=\"black\" points=\"1775,-26.5 1775,-62.5 \"/>\n<text text-anchor=\"middle\" x=\"1816\" y=\"-40.8\" font-family=\"Times,serif\" font-size=\"14.00\">grad 0.1464</text>\n</g>\n<!-- 133611161123424&#45;&gt;133611161121792+ -->\n<g id=\"edge26\" class=\"edge\">\n<title>133611161123424&#45;&gt;133611161121792+</title>\n<path fill=\"none\" stroke=\"black\" d=\"M1857.05,-60.67C1866.34,-62.3 1875.33,-63.87 1883.44,-65.29\"/>\n<polygon fill=\"black\" stroke=\"black\" points=\"1883.1,-68.78 1893.55,-67.05 1884.3,-61.88 1883.1,-68.78\"/>\n</g>\n<!-- 133611161118816 -->\n<g id=\"node7\" class=\"node\">\n<title>133611161118816</title>\n<polygon fill=\"none\" stroke=\"black\" points=\"1670.5,-136.5 1670.5,-172.5 1856.5,-172.5 1856.5,-136.5 1670.5,-136.5\"/>\n<text text-anchor=\"middle\" x=\"1680.5\" y=\"-150.8\" font-family=\"Times,serif\" font-size=\"14.00\"> </text>\n<polyline fill=\"none\" stroke=\"black\" points=\"1690.5,-136.5 1690.5,-172.5 \"/>\n<text text-anchor=\"middle\" x=\"1730.5\" y=\"-150.8\" font-family=\"Times,serif\" font-size=\"14.00\">data 1.0000</text>\n<polyline fill=\"none\" stroke=\"black\" points=\"1770.5,-136.5 1770.5,-172.5 \"/>\n<text text-anchor=\"middle\" x=\"1813.5\" y=\"-150.8\" font-family=\"Times,serif\" font-size=\"14.00\">grad &#45;0.1036</text>\n</g>\n<!-- 133611161117856+ -->\n<g id=\"node10\" class=\"node\">\n<title>133611161117856+</title>\n<ellipse fill=\"none\" stroke=\"black\" cx=\"1920\" cy=\"-126.5\" rx=\"27\" ry=\"18\"/>\n<text text-anchor=\"middle\" x=\"1920\" y=\"-122.8\" font-family=\"Times,serif\" font-size=\"14.00\">+</text>\n</g>\n<!-- 133611161118816&#45;&gt;133611161117856+ -->\n<g id=\"edge16\" class=\"edge\">\n<title>133611161118816&#45;&gt;133611161117856+</title>\n<path fill=\"none\" stroke=\"black\" d=\"M1856.6,-137.81C1866.15,-136.08 1875.37,-134.41 1883.68,-132.9\"/>\n<polygon fill=\"black\" stroke=\"black\" points=\"1884.43,-136.32 1893.65,-131.09 1883.18,-129.43 1884.43,-136.32\"/>\n</g>\n<!-- 133611163020416 -->\n<g id=\"node8\" class=\"node\">\n<title>133611163020416</title>\n<polygon fill=\"none\" stroke=\"black\" points=\"703,-137.5 703,-173.5 888,-173.5 888,-137.5 703,-137.5\"/>\n<text text-anchor=\"middle\" x=\"714.5\" y=\"-151.8\" font-family=\"Times,serif\" font-size=\"14.00\">b</text>\n<polyline fill=\"none\" stroke=\"black\" points=\"726,-137.5 726,-173.5 \"/>\n<text text-anchor=\"middle\" x=\"766\" y=\"-151.8\" font-family=\"Times,serif\" font-size=\"14.00\">data 6.8814</text>\n<polyline fill=\"none\" stroke=\"black\" points=\"806,-137.5 806,-173.5 \"/>\n<text text-anchor=\"middle\" x=\"847\" y=\"-151.8\" font-family=\"Times,serif\" font-size=\"14.00\">grad 0.5000</text>\n</g>\n<!-- 133611161113440+ -->\n<g id=\"node19\" class=\"node\">\n<title>133611161113440+</title>\n<ellipse fill=\"none\" stroke=\"black\" cx=\"988\" cy=\"-127.5\" rx=\"27\" ry=\"18\"/>\n<text text-anchor=\"middle\" x=\"988\" y=\"-123.8\" font-family=\"Times,serif\" font-size=\"14.00\">+</text>\n</g>\n<!-- 133611163020416&#45;&gt;133611161113440+ -->\n<g id=\"edge12\" class=\"edge\">\n<title>133611163020416&#45;&gt;133611161113440+</title>\n<path fill=\"none\" stroke=\"black\" d=\"M888.12,-142.03C910.59,-138.73 933.33,-135.39 951.33,-132.74\"/>\n<polygon fill=\"black\" stroke=\"black\" points=\"951.96,-136.19 961.34,-131.27 950.94,-129.26 951.96,-136.19\"/>\n</g>\n<!-- 133611161117856 -->\n<g id=\"node9\" class=\"node\">\n<title>133611161117856</title>\n<polygon fill=\"none\" stroke=\"black\" points=\"1983,-108.5 1983,-144.5 2169,-144.5 2169,-108.5 1983,-108.5\"/>\n<text text-anchor=\"middle\" x=\"1993\" y=\"-122.8\" font-family=\"Times,serif\" font-size=\"14.00\"> </text>\n<polyline fill=\"none\" stroke=\"black\" points=\"2003,-108.5 2003,-144.5 \"/>\n<text text-anchor=\"middle\" x=\"2043\" y=\"-122.8\" font-family=\"Times,serif\" font-size=\"14.00\">data 6.8284</text>\n<polyline fill=\"none\" stroke=\"black\" points=\"2083,-108.5 2083,-144.5 \"/>\n<text text-anchor=\"middle\" x=\"2126\" y=\"-122.8\" font-family=\"Times,serif\" font-size=\"14.00\">grad &#45;0.1036</text>\n</g>\n<!-- 133611161117856&#45;&gt;133611161121840**&#45;1 -->\n<g id=\"edge19\" class=\"edge\">\n<title>133611161117856&#45;&gt;133611161121840**&#45;1</title>\n<path fill=\"none\" stroke=\"black\" d=\"M2169.14,-126.5C2200.72,-126.5 2234.24,-126.5 2258.74,-126.5\"/>\n<polygon fill=\"black\" stroke=\"black\" points=\"2258.98,-130 2268.98,-126.5 2258.98,-123 2258.98,-130\"/>\n</g>\n<!-- 133611161117856+&#45;&gt;133611161117856 -->\n<g id=\"edge3\" class=\"edge\">\n<title>133611161117856+&#45;&gt;133611161117856</title>\n<path fill=\"none\" stroke=\"black\" d=\"M1947.12,-126.5C1954.62,-126.5 1963.29,-126.5 1972.5,-126.5\"/>\n<polygon fill=\"black\" stroke=\"black\" points=\"1972.69,-130 1982.69,-126.5 1972.69,-123 1972.69,-130\"/>\n</g>\n<!-- 133611163017392 -->\n<g id=\"node11\" class=\"node\">\n<title>133611163017392</title>\n<polygon fill=\"none\" stroke=\"black\" points=\"0,-165.5 0,-201.5 200,-201.5 200,-165.5 0,-165.5\"/>\n<text text-anchor=\"middle\" x=\"16.5\" y=\"-179.8\" font-family=\"Times,serif\" font-size=\"14.00\">w1</text>\n<polyline fill=\"none\" stroke=\"black\" points=\"33,-165.5 33,-201.5 \"/>\n<text text-anchor=\"middle\" x=\"75.5\" y=\"-179.8\" font-family=\"Times,serif\" font-size=\"14.00\">data &#45;3.0000</text>\n<polyline fill=\"none\" stroke=\"black\" points=\"118,-165.5 118,-201.5 \"/>\n<text text-anchor=\"middle\" x=\"159\" y=\"-179.8\" font-family=\"Times,serif\" font-size=\"14.00\">grad 1.0000</text>\n</g>\n<!-- 133611163014368* -->\n<g id=\"node16\" class=\"node\">\n<title>133611163014368*</title>\n<ellipse fill=\"none\" stroke=\"black\" cx=\"263\" cy=\"-128.5\" rx=\"27\" ry=\"18\"/>\n<text text-anchor=\"middle\" x=\"263\" y=\"-124.8\" font-family=\"Times,serif\" font-size=\"14.00\">*</text>\n</g>\n<!-- 133611163017392&#45;&gt;133611163014368* -->\n<g id=\"edge21\" class=\"edge\">\n<title>133611163017392&#45;&gt;133611163014368*</title>\n<path fill=\"none\" stroke=\"black\" d=\"M172.53,-165.44C181.84,-162.67 191.2,-159.67 200,-156.5 210.53,-152.71 221.75,-147.9 231.72,-143.33\"/>\n<polygon fill=\"black\" stroke=\"black\" points=\"233.25,-146.48 240.82,-139.07 230.28,-140.14 233.25,-146.48\"/>\n</g>\n<!-- 133611161121984 -->\n<g id=\"node12\" class=\"node\">\n<title>133611161121984</title>\n<polygon fill=\"none\" stroke=\"black\" points=\"1672.5,-81.5 1672.5,-117.5 1854.5,-117.5 1854.5,-81.5 1672.5,-81.5\"/>\n<text text-anchor=\"middle\" x=\"1682.5\" y=\"-95.8\" font-family=\"Times,serif\" font-size=\"14.00\"> </text>\n<polyline fill=\"none\" stroke=\"black\" points=\"1692.5,-81.5 1692.5,-117.5 \"/>\n<text text-anchor=\"middle\" x=\"1732.5\" y=\"-95.8\" font-family=\"Times,serif\" font-size=\"14.00\">data 5.8284</text>\n<polyline fill=\"none\" stroke=\"black\" points=\"1772.5,-81.5 1772.5,-117.5 \"/>\n<text text-anchor=\"middle\" x=\"1813.5\" y=\"-95.8\" font-family=\"Times,serif\" font-size=\"14.00\">grad 0.0429</text>\n</g>\n<!-- 133611161121984&#45;&gt;133611161121792+ -->\n<g id=\"edge20\" class=\"edge\">\n<title>133611161121984&#45;&gt;133611161121792+</title>\n<path fill=\"none\" stroke=\"black\" d=\"M1854.82,-83.13C1865.07,-81.27 1875.01,-79.47 1883.88,-77.87\"/>\n<polygon fill=\"black\" stroke=\"black\" points=\"1884.54,-81.3 1893.75,-76.08 1883.29,-74.42 1884.54,-81.3\"/>\n</g>\n<!-- 133611161121984&#45;&gt;133611161117856+ -->\n<g id=\"edge11\" class=\"edge\">\n<title>133611161121984&#45;&gt;133611161117856+</title>\n<path fill=\"none\" stroke=\"black\" d=\"M1854.82,-115.28C1865.07,-117.08 1875.01,-118.81 1883.88,-120.36\"/>\n<polygon fill=\"black\" stroke=\"black\" points=\"1883.3,-123.81 1893.75,-122.09 1884.5,-116.92 1883.3,-123.81\"/>\n</g>\n<!-- 133611161121984exp -->\n<g id=\"node13\" class=\"node\">\n<title>133611161121984exp</title>\n<ellipse fill=\"none\" stroke=\"black\" cx=\"1607\" cy=\"-99.5\" rx=\"27\" ry=\"18\"/>\n<text text-anchor=\"middle\" x=\"1607\" y=\"-95.8\" font-family=\"Times,serif\" font-size=\"14.00\">exp</text>\n</g>\n<!-- 133611161121984exp&#45;&gt;133611161121984 -->\n<g id=\"edge4\" class=\"edge\">\n<title>133611161121984exp&#45;&gt;133611161121984</title>\n<path fill=\"none\" stroke=\"black\" d=\"M1634.21,-99.5C1642.34,-99.5 1651.85,-99.5 1661.94,-99.5\"/>\n<polygon fill=\"black\" stroke=\"black\" points=\"1662.19,-103 1672.19,-99.5 1662.19,-96 1662.19,-103\"/>\n</g>\n<!-- 133611163016912 -->\n<g id=\"node14\" class=\"node\">\n<title>133611163016912</title>\n<polygon fill=\"none\" stroke=\"black\" points=\"2.5,-0.5 2.5,-36.5 197.5,-36.5 197.5,-0.5 2.5,-0.5\"/>\n<text text-anchor=\"middle\" x=\"19\" y=\"-14.8\" font-family=\"Times,serif\" font-size=\"14.00\">w2</text>\n<polyline fill=\"none\" stroke=\"black\" points=\"35.5,-0.5 35.5,-36.5 \"/>\n<text text-anchor=\"middle\" x=\"75.5\" y=\"-14.8\" font-family=\"Times,serif\" font-size=\"14.00\">data 1.0000</text>\n<polyline fill=\"none\" stroke=\"black\" points=\"115.5,-0.5 115.5,-36.5 \"/>\n<text text-anchor=\"middle\" x=\"156.5\" y=\"-14.8\" font-family=\"Times,serif\" font-size=\"14.00\">grad 0.0000</text>\n</g>\n<!-- 133611163016912&#45;&gt;133611161118624* -->\n<g id=\"edge15\" class=\"edge\">\n<title>133611163016912&#45;&gt;133611161118624*</title>\n<path fill=\"none\" stroke=\"black\" d=\"M172.53,-36.56C181.84,-39.33 191.2,-42.33 200,-45.5 210.53,-49.29 221.75,-54.1 231.72,-58.67\"/>\n<polygon fill=\"black\" stroke=\"black\" points=\"230.28,-61.86 240.82,-62.93 233.25,-55.52 230.28,-61.86\"/>\n</g>\n<!-- 133611163014368 -->\n<g id=\"node15\" class=\"node\">\n<title>133611163014368</title>\n<polygon fill=\"none\" stroke=\"black\" points=\"326,-110.5 326,-146.5 540,-146.5 540,-110.5 326,-110.5\"/>\n<text text-anchor=\"middle\" x=\"349.5\" y=\"-124.8\" font-family=\"Times,serif\" font-size=\"14.00\">x1w1</text>\n<polyline fill=\"none\" stroke=\"black\" points=\"373,-110.5 373,-146.5 \"/>\n<text text-anchor=\"middle\" x=\"415.5\" y=\"-124.8\" font-family=\"Times,serif\" font-size=\"14.00\">data &#45;6.0000</text>\n<polyline fill=\"none\" stroke=\"black\" points=\"458,-110.5 458,-146.5 \"/>\n<text text-anchor=\"middle\" x=\"499\" y=\"-124.8\" font-family=\"Times,serif\" font-size=\"14.00\">grad 0.5000</text>\n</g>\n<!-- 133611161108880+ -->\n<g id=\"node24\" class=\"node\">\n<title>133611161108880+</title>\n<ellipse fill=\"none\" stroke=\"black\" cx=\"603\" cy=\"-100.5\" rx=\"27\" ry=\"18\"/>\n<text text-anchor=\"middle\" x=\"603\" y=\"-96.8\" font-family=\"Times,serif\" font-size=\"14.00\">+</text>\n</g>\n<!-- 133611163014368&#45;&gt;133611161108880+ -->\n<g id=\"edge18\" class=\"edge\">\n<title>133611163014368&#45;&gt;133611161108880+</title>\n<path fill=\"none\" stroke=\"black\" d=\"M540.4,-110.77C549.72,-109.21 558.65,-107.72 566.68,-106.39\"/>\n<polygon fill=\"black\" stroke=\"black\" points=\"567.38,-109.82 576.66,-104.72 566.22,-102.91 567.38,-109.82\"/>\n</g>\n<!-- 133611163014368*&#45;&gt;133611163014368 -->\n<g id=\"edge5\" class=\"edge\">\n<title>133611163014368*&#45;&gt;133611163014368</title>\n<path fill=\"none\" stroke=\"black\" d=\"M290.25,-128.5C297.7,-128.5 306.34,-128.5 315.59,-128.5\"/>\n<polygon fill=\"black\" stroke=\"black\" points=\"315.84,-132 325.84,-128.5 315.84,-125 315.84,-132\"/>\n</g>\n<!-- 133611163020992 -->\n<g id=\"node17\" class=\"node\">\n<title>133611163020992</title>\n<polygon fill=\"none\" stroke=\"black\" points=\"2,-110.5 2,-146.5 198,-146.5 198,-110.5 2,-110.5\"/>\n<text text-anchor=\"middle\" x=\"17\" y=\"-124.8\" font-family=\"Times,serif\" font-size=\"14.00\">x1</text>\n<polyline fill=\"none\" stroke=\"black\" points=\"32,-110.5 32,-146.5 \"/>\n<text text-anchor=\"middle\" x=\"72\" y=\"-124.8\" font-family=\"Times,serif\" font-size=\"14.00\">data 2.0000</text>\n<polyline fill=\"none\" stroke=\"black\" points=\"112,-110.5 112,-146.5 \"/>\n<text text-anchor=\"middle\" x=\"155\" y=\"-124.8\" font-family=\"Times,serif\" font-size=\"14.00\">grad &#45;1.5000</text>\n</g>\n<!-- 133611163020992&#45;&gt;133611163014368* -->\n<g id=\"edge22\" class=\"edge\">\n<title>133611163020992&#45;&gt;133611163014368*</title>\n<path fill=\"none\" stroke=\"black\" d=\"M198.37,-128.5C208.05,-128.5 217.4,-128.5 225.8,-128.5\"/>\n<polygon fill=\"black\" stroke=\"black\" points=\"225.91,-132 235.91,-128.5 225.91,-125 225.91,-132\"/>\n</g>\n<!-- 133611161113440 -->\n<g id=\"node18\" class=\"node\">\n<title>133611161113440</title>\n<polygon fill=\"none\" stroke=\"black\" points=\"1051,-109.5 1051,-145.5 1236,-145.5 1236,-109.5 1051,-109.5\"/>\n<text text-anchor=\"middle\" x=\"1062.5\" y=\"-123.8\" font-family=\"Times,serif\" font-size=\"14.00\">n</text>\n<polyline fill=\"none\" stroke=\"black\" points=\"1074,-109.5 1074,-145.5 \"/>\n<text text-anchor=\"middle\" x=\"1114\" y=\"-123.8\" font-family=\"Times,serif\" font-size=\"14.00\">data 0.8814</text>\n<polyline fill=\"none\" stroke=\"black\" points=\"1154,-109.5 1154,-145.5 \"/>\n<text text-anchor=\"middle\" x=\"1195\" y=\"-123.8\" font-family=\"Times,serif\" font-size=\"14.00\">grad 0.5000</text>\n</g>\n<!-- 133611161114064* -->\n<g id=\"node28\" class=\"node\">\n<title>133611161114064*</title>\n<ellipse fill=\"none\" stroke=\"black\" cx=\"1299\" cy=\"-99.5\" rx=\"27\" ry=\"18\"/>\n<text text-anchor=\"middle\" x=\"1299\" y=\"-95.8\" font-family=\"Times,serif\" font-size=\"14.00\">*</text>\n</g>\n<!-- 133611161113440&#45;&gt;133611161114064* -->\n<g id=\"edge23\" class=\"edge\">\n<title>133611161113440&#45;&gt;133611161114064*</title>\n<path fill=\"none\" stroke=\"black\" d=\"M1236.01,-110.81C1245.49,-109.08 1254.66,-107.41 1262.9,-105.9\"/>\n<polygon fill=\"black\" stroke=\"black\" points=\"1263.6,-109.33 1272.81,-104.09 1262.35,-102.45 1263.6,-109.33\"/>\n</g>\n<!-- 133611161113440+&#45;&gt;133611161113440 -->\n<g id=\"edge6\" class=\"edge\">\n<title>133611161113440+&#45;&gt;133611161113440</title>\n<path fill=\"none\" stroke=\"black\" d=\"M1015.04,-127.5C1022.58,-127.5 1031.3,-127.5 1040.57,-127.5\"/>\n<polygon fill=\"black\" stroke=\"black\" points=\"1040.81,-131 1050.81,-127.5 1040.81,-124 1040.81,-131\"/>\n</g>\n<!-- 133611161118624 -->\n<g id=\"node20\" class=\"node\">\n<title>133611161118624</title>\n<polygon fill=\"none\" stroke=\"black\" points=\"328.5,-55.5 328.5,-91.5 537.5,-91.5 537.5,-55.5 328.5,-55.5\"/>\n<text text-anchor=\"middle\" x=\"352\" y=\"-69.8\" font-family=\"Times,serif\" font-size=\"14.00\">x2w2</text>\n<polyline fill=\"none\" stroke=\"black\" points=\"375.5,-55.5 375.5,-91.5 \"/>\n<text text-anchor=\"middle\" x=\"415.5\" y=\"-69.8\" font-family=\"Times,serif\" font-size=\"14.00\">data 0.0000</text>\n<polyline fill=\"none\" stroke=\"black\" points=\"455.5,-55.5 455.5,-91.5 \"/>\n<text text-anchor=\"middle\" x=\"496.5\" y=\"-69.8\" font-family=\"Times,serif\" font-size=\"14.00\">grad 0.5000</text>\n</g>\n<!-- 133611161118624&#45;&gt;133611161108880+ -->\n<g id=\"edge27\" class=\"edge\">\n<title>133611161118624&#45;&gt;133611161108880+</title>\n<path fill=\"none\" stroke=\"black\" d=\"M537.53,-90.14C547.8,-91.79 557.66,-93.37 566.45,-94.79\"/>\n<polygon fill=\"black\" stroke=\"black\" points=\"566.16,-98.28 576.59,-96.42 567.27,-91.37 566.16,-98.28\"/>\n</g>\n<!-- 133611161118624*&#45;&gt;133611161118624 -->\n<g id=\"edge7\" class=\"edge\">\n<title>133611161118624*&#45;&gt;133611161118624</title>\n<path fill=\"none\" stroke=\"black\" d=\"M290.25,-73.5C298.43,-73.5 308.03,-73.5 318.31,-73.5\"/>\n<polygon fill=\"black\" stroke=\"black\" points=\"318.35,-77 328.35,-73.5 318.35,-70 318.35,-77\"/>\n</g>\n<!-- 133611161121120 -->\n<g id=\"node22\" class=\"node\">\n<title>133611161121120</title>\n<polygon fill=\"none\" stroke=\"black\" points=\"1052.5,-54.5 1052.5,-90.5 1234.5,-90.5 1234.5,-54.5 1052.5,-54.5\"/>\n<text text-anchor=\"middle\" x=\"1062.5\" y=\"-68.8\" font-family=\"Times,serif\" font-size=\"14.00\"> </text>\n<polyline fill=\"none\" stroke=\"black\" points=\"1072.5,-54.5 1072.5,-90.5 \"/>\n<text text-anchor=\"middle\" x=\"1112.5\" y=\"-68.8\" font-family=\"Times,serif\" font-size=\"14.00\">data 2.0000</text>\n<polyline fill=\"none\" stroke=\"black\" points=\"1152.5,-54.5 1152.5,-90.5 \"/>\n<text text-anchor=\"middle\" x=\"1193.5\" y=\"-68.8\" font-family=\"Times,serif\" font-size=\"14.00\">grad 0.2203</text>\n</g>\n<!-- 133611161121120&#45;&gt;133611161114064* -->\n<g id=\"edge28\" class=\"edge\">\n<title>133611161121120&#45;&gt;133611161114064*</title>\n<path fill=\"none\" stroke=\"black\" d=\"M1234.68,-88.36C1244.61,-90.11 1254.23,-91.8 1262.84,-93.32\"/>\n<polygon fill=\"black\" stroke=\"black\" points=\"1262.36,-96.78 1272.81,-95.07 1263.57,-89.89 1262.36,-96.78\"/>\n</g>\n<!-- 133611161108880 -->\n<g id=\"node23\" class=\"node\">\n<title>133611161108880</title>\n<polygon fill=\"none\" stroke=\"black\" points=\"666,-82.5 666,-118.5 925,-118.5 925,-82.5 666,-82.5\"/>\n<text text-anchor=\"middle\" x=\"712\" y=\"-96.8\" font-family=\"Times,serif\" font-size=\"14.00\">x1w1 + x2w2</text>\n<polyline fill=\"none\" stroke=\"black\" points=\"758,-82.5 758,-118.5 \"/>\n<text text-anchor=\"middle\" x=\"800.5\" y=\"-96.8\" font-family=\"Times,serif\" font-size=\"14.00\">data &#45;6.0000</text>\n<polyline fill=\"none\" stroke=\"black\" points=\"843,-82.5 843,-118.5 \"/>\n<text text-anchor=\"middle\" x=\"884\" y=\"-96.8\" font-family=\"Times,serif\" font-size=\"14.00\">grad 0.5000</text>\n</g>\n<!-- 133611161108880&#45;&gt;133611161113440+ -->\n<g id=\"edge13\" class=\"edge\">\n<title>133611161108880&#45;&gt;133611161113440+</title>\n<path fill=\"none\" stroke=\"black\" d=\"M923.57,-118.51C933.55,-119.92 943,-121.26 951.42,-122.46\"/>\n<polygon fill=\"black\" stroke=\"black\" points=\"951.09,-125.95 961.48,-123.88 952.07,-119.01 951.09,-125.95\"/>\n</g>\n<!-- 133611161108880+&#45;&gt;133611161108880 -->\n<g id=\"edge8\" class=\"edge\">\n<title>133611161108880+&#45;&gt;133611161108880</title>\n<path fill=\"none\" stroke=\"black\" d=\"M630.09,-100.5C637.58,-100.5 646.3,-100.5 655.75,-100.5\"/>\n<polygon fill=\"black\" stroke=\"black\" points=\"655.84,-104 665.84,-100.5 655.84,-97 655.84,-104\"/>\n</g>\n<!-- 133611161123232 -->\n<g id=\"node25\" class=\"node\">\n<title>133611161123232</title>\n<polygon fill=\"none\" stroke=\"black\" points=\"2731,-80.5 2731,-116.5 2913,-116.5 2913,-80.5 2731,-80.5\"/>\n<text text-anchor=\"middle\" x=\"2741\" y=\"-94.8\" font-family=\"Times,serif\" font-size=\"14.00\"> </text>\n<polyline fill=\"none\" stroke=\"black\" points=\"2751,-80.5 2751,-116.5 \"/>\n<text text-anchor=\"middle\" x=\"2791\" y=\"-94.8\" font-family=\"Times,serif\" font-size=\"14.00\">data 0.7071</text>\n<polyline fill=\"none\" stroke=\"black\" points=\"2831,-80.5 2831,-116.5 \"/>\n<text text-anchor=\"middle\" x=\"2872\" y=\"-94.8\" font-family=\"Times,serif\" font-size=\"14.00\">grad 1.0000</text>\n</g>\n<!-- 133611161123232*&#45;&gt;133611161123232 -->\n<g id=\"edge9\" class=\"edge\">\n<title>133611161123232*&#45;&gt;133611161123232</title>\n<path fill=\"none\" stroke=\"black\" d=\"M2695.13,-98.5C2702.67,-98.5 2711.39,-98.5 2720.64,-98.5\"/>\n<polygon fill=\"black\" stroke=\"black\" points=\"2720.87,-102 2730.87,-98.5 2720.87,-95 2720.87,-102\"/>\n</g>\n<!-- 133611161114064 -->\n<g id=\"node27\" class=\"node\">\n<title>133611161114064</title>\n<polygon fill=\"none\" stroke=\"black\" points=\"1362,-81.5 1362,-117.5 1544,-117.5 1544,-81.5 1362,-81.5\"/>\n<text text-anchor=\"middle\" x=\"1372\" y=\"-95.8\" font-family=\"Times,serif\" font-size=\"14.00\"> </text>\n<polyline fill=\"none\" stroke=\"black\" points=\"1382,-81.5 1382,-117.5 \"/>\n<text text-anchor=\"middle\" x=\"1422\" y=\"-95.8\" font-family=\"Times,serif\" font-size=\"14.00\">data 1.7627</text>\n<polyline fill=\"none\" stroke=\"black\" points=\"1462,-81.5 1462,-117.5 \"/>\n<text text-anchor=\"middle\" x=\"1503\" y=\"-95.8\" font-family=\"Times,serif\" font-size=\"14.00\">grad 0.2500</text>\n</g>\n<!-- 133611161114064&#45;&gt;133611161121984exp -->\n<g id=\"edge25\" class=\"edge\">\n<title>133611161114064&#45;&gt;133611161121984exp</title>\n<path fill=\"none\" stroke=\"black\" d=\"M1544.18,-99.5C1553.14,-99.5 1561.83,-99.5 1569.73,-99.5\"/>\n<polygon fill=\"black\" stroke=\"black\" points=\"1569.96,-103 1579.96,-99.5 1569.96,-96 1569.96,-103\"/>\n</g>\n<!-- 133611161114064*&#45;&gt;133611161114064 -->\n<g id=\"edge10\" class=\"edge\">\n<title>133611161114064*&#45;&gt;133611161114064</title>\n<path fill=\"none\" stroke=\"black\" d=\"M1326.13,-99.5C1333.67,-99.5 1342.39,-99.5 1351.64,-99.5\"/>\n<polygon fill=\"black\" stroke=\"black\" points=\"1351.87,-103 1361.87,-99.5 1351.87,-96 1351.87,-103\"/>\n</g>\n</g>\n</svg>\n",
            "text/plain": [
              "<graphviz.graphs.Digraph at 0x7984c5cbf610>"
            ]
          },
          "metadata": {},
          "execution_count": 13
        }
      ]
    },
    {
      "cell_type": "code",
      "source": [],
      "metadata": {
        "id": "SYOgdDYGMYUb"
      },
      "execution_count": 13,
      "outputs": []
    },
    {
      "cell_type": "markdown",
      "source": [
        "### PyTorch"
      ],
      "metadata": {
        "id": "yXNCmOQvdrrW"
      }
    },
    {
      "cell_type": "code",
      "source": [
        "import torch"
      ],
      "metadata": {
        "id": "hRKRxy4pdrVL"
      },
      "execution_count": 14,
      "outputs": []
    },
    {
      "cell_type": "code",
      "source": [
        "x1 = torch.Tensor([2.0]).double()\n",
        "x1.requires_grad = True\n",
        "\n",
        "x2 = torch.Tensor([0.0]).double()\n",
        "x2.requires_grad = True\n",
        "\n",
        "w1 = torch.Tensor([-3.0]).double()\n",
        "w1.requires_grad = True\n",
        "\n",
        "w2 = torch.Tensor([1.0]).double()\n",
        "w2.requires_grad = True\n",
        "\n",
        "b = torch.Tensor([6.8813735870195432]).double()\n",
        "b.requires_grad = True\n",
        "\n",
        "n = x1*w1 + x2*w2 + b\n",
        "o = torch.tanh(n)\n",
        "\n",
        "print('out', o.data.item())   # o.item() works the same\n",
        "\n",
        "o.backward()\n",
        "\n",
        "print('x2', x2.grad.item())\n",
        "print('w2', w2.grad.item())\n",
        "print('x1', x1.grad.item())\n",
        "print('w1', w1.grad.item())"
      ],
      "metadata": {
        "colab": {
          "base_uri": "https://localhost:8080/"
        },
        "id": "BAcBL9nxdxnR",
        "outputId": "728e850f-b41b-4028-f1db-5b5cfe0821cd"
      },
      "execution_count": 15,
      "outputs": [
        {
          "output_type": "stream",
          "name": "stdout",
          "text": [
            "out 0.7071066904050358\n",
            "x2 0.5000001283844369\n",
            "w2 0.0\n",
            "x1 -1.5000003851533106\n",
            "w1 1.0000002567688737\n"
          ]
        }
      ]
    },
    {
      "cell_type": "code",
      "source": [
        "## Define MLP (Multi-Layer Perceptron)\n",
        "import random\n",
        "\n",
        "# Define a single neuron\n",
        "class Neuron:\n",
        "  def __init__(self, n_in):   # takes the number of inputs to the neuron and initializes them with some random value\n",
        "    self.w = [Value(random.uniform(-1,1)) for _ in range(n_in)]\n",
        "    self.b = Value(random.uniform(-1,1))\n",
        "\n",
        "  def __call__(self, x):\n",
        "    # w * x + b\n",
        "    act = sum((wi*xi for wi, xi in zip(self.w, x)), self.b)\n",
        "    out = act.tanh()\n",
        "    return out\n",
        "\n",
        "  def parameters(self):\n",
        "    return self.w + [self.b]\n",
        "\n",
        "\n",
        "class Layer():\n",
        "  def __init__(self, n_in, n_out):\n",
        "    self.neurons = [Neuron(n_in) for _ in range(n_out)]\n",
        "\n",
        "  def __call__(self, x):\n",
        "    outs = [n(x) for n in self.neurons]\n",
        "    return outs[0] if len(outs) == 1 else outs\n",
        "\n",
        "  def parameters(self):\n",
        "    return [p for neuron in self.neurons for p in neuron.parameters()]\n",
        "\n",
        "\n",
        "class MLP:\n",
        "  def __init__(self, n_in, n_outs):\n",
        "    sz = [n_in] + n_outs\n",
        "    self.layers = [Layer(sz[i], sz[i+1]) for i in range(len(n_outs))]\n",
        "\n",
        "  def __call__(self, x):\n",
        "    for layer in self.layers:\n",
        "      x = layer(x)\n",
        "    return x\n",
        "\n",
        "  def parameters(self):\n",
        "    return [p for layer in self.layers for p in layer.parameters()]\n"
      ],
      "metadata": {
        "id": "6r5qoaZ7eE22"
      },
      "execution_count": 64,
      "outputs": []
    },
    {
      "cell_type": "code",
      "source": [
        "x = [2.0, 3.0, -1.0]\n",
        "n = MLP(3, [4, 4, 1])\n",
        "n(x)"
      ],
      "metadata": {
        "colab": {
          "base_uri": "https://localhost:8080/"
        },
        "id": "k7E2MbX6Phsz",
        "outputId": "a63f4a5a-ce91-491c-f897-2df9d72450f2"
      },
      "execution_count": 82,
      "outputs": [
        {
          "output_type": "execute_result",
          "data": {
            "text/plain": [
              "value(data=0.8016736596898338)"
            ]
          },
          "metadata": {},
          "execution_count": 82
        }
      ]
    },
    {
      "cell_type": "code",
      "source": [
        "xs = [\n",
        "    [2, 3, -1],\n",
        "    [3, -1, 0.5],\n",
        "    [0.5, 1, 1],\n",
        "    [1, 1, -1]\n",
        "]\n",
        "\n",
        "ys = [1, -1, -1, 1]   # desired targets"
      ],
      "metadata": {
        "id": "wczo7lWu-wdR"
      },
      "execution_count": 83,
      "outputs": []
    },
    {
      "cell_type": "markdown",
      "source": [
        "### Training loop"
      ],
      "metadata": {
        "id": "2Jofb1gMa2qq"
      }
    },
    {
      "cell_type": "code",
      "source": [
        "for k in range(100):\n",
        "\n",
        "  # forward pass\n",
        "  y_pred = [n(x) for x in xs]\n",
        "  loss = sum([(yout - ygt)**2 for ygt, yout in zip(ys, y_pred)], Value(0))\n",
        "\n",
        "  # backward pass\n",
        "  for p in n.parameters():\n",
        "    p.grad = 0.0\n",
        "  loss.backward()\n",
        "\n",
        "  # update\n",
        "  for p in n.parameters():\n",
        "    p.data += -0.05 * p.grad\n",
        "\n",
        "  print(k, loss.data)"
      ],
      "metadata": {
        "colab": {
          "base_uri": "https://localhost:8080/"
        },
        "id": "ckggZ0tt_bkW",
        "outputId": "7fb88d86-39ca-4e77-bb83-6ca30108b99d"
      },
      "execution_count": 84,
      "outputs": [
        {
          "output_type": "stream",
          "name": "stdout",
          "text": [
            "0 5.9163291924384165\n",
            "1 4.743937782168112\n",
            "2 4.105459250227733\n",
            "3 3.492545727154089\n",
            "4 2.8901371482002283\n",
            "5 2.2605598033160423\n",
            "6 1.6452736504573007\n",
            "7 1.1416664436530042\n",
            "8 0.7935957724499312\n",
            "9 0.5718802399097273\n",
            "10 0.43090189622197983\n",
            "11 0.33803444132054805\n",
            "12 0.2741223696835824\n",
            "13 0.22829165855476535\n",
            "14 0.1942356210772581\n",
            "15 0.16815609093808984\n",
            "16 0.1476725780874608\n",
            "17 0.13123627136730676\n",
            "18 0.1178050423176393\n",
            "19 0.1066565354059135\n",
            "20 0.09727676685059022\n",
            "21 0.08929148001864566\n",
            "22 0.08242254237112936\n",
            "23 0.0764594772004127\n",
            "24 0.07124041039910212\n",
            "25 0.06663903016838515\n",
            "26 0.06255547984865503\n",
            "27 0.05890988002177423\n",
            "28 0.05563764344890618\n",
            "29 0.052686034821103636\n",
            "30 0.050011609251150724\n",
            "31 0.04757828059087152\n",
            "32 0.04535584752701781\n",
            "33 0.04331885672961171\n",
            "34 0.04144571714656804\n",
            "35 0.039718003518338825\n",
            "36 0.03811990393165124\n",
            "37 0.0366377780768474\n",
            "38 0.035259801354294726\n",
            "39 0.03397567611626689\n",
            "40 0.03277639582445545\n",
            "41 0.03165405122442127\n",
            "42 0.03060167011579192\n",
            "43 0.029613084161446035\n",
            "44 0.02868281759366121\n",
            "45 0.02780599375712678\n",
            "46 0.02697825626227025\n",
            "47 0.026195702169052204\n",
            "48 0.02545482512646988\n",
            "49 0.02475246678999642\n",
            "50 0.0240857751530685\n",
            "51 0.02345216867835568\n",
            "52 0.022849305314127807\n",
            "53 0.022275055641453205\n",
            "54 0.02172747952753299\n",
            "55 0.021204805765639167\n",
            "56 0.020705414267857318\n",
            "57 0.020227820447039295\n",
            "58 0.019770661482096753\n",
            "59 0.019332684208422178\n",
            "60 0.01891273441471979\n",
            "61 0.018509747360379303\n",
            "62 0.01812273935495193\n",
            "63 0.017750800264258244\n",
            "64 0.01739308682696343\n",
            "65 0.01704881668173226\n",
            "66 0.01671726301883863\n",
            "67 0.01639774978178047\n",
            "68 0.016089647354380343\n",
            "69 0.01579236867732157\n",
            "70 0.015505365745314002\n",
            "71 0.015228126442294362\n",
            "72 0.014960171677404653\n",
            "73 0.014701052789092704\n",
            "74 0.014450349188652482\n",
            "75 0.014207666217959426\n",
            "76 0.013972633199143051\n",
            "77 0.013744901656529907\n",
            "78 0.013524143693451923\n",
            "79 0.013310050508488457\n",
            "80 0.01310233103743464\n",
            "81 0.01290071070880237\n",
            "82 0.012704930301987459\n",
            "83 0.012514744898404078\n",
            "84 0.012329922916917656\n",
            "85 0.01215024522581422\n",
            "86 0.011975504324347831\n",
            "87 0.011805503587619292\n",
            "88 0.011640056569167907\n",
            "89 0.011478986356220565\n",
            "90 0.011322124973038392\n",
            "91 0.011169312828246895\n",
            "92 0.011020398202429907\n",
            "93 0.010875236772622289\n",
            "94 0.010733691170653297\n",
            "95 0.010595630572573936\n",
            "96 0.010460930316658634\n",
            "97 0.010329471547697294\n",
            "98 0.010201140885501132\n",
            "99 0.01007583011572935\n",
            "[value(data=0.9670539761593075), value(data=-0.9602808417027124), value(data=-0.9373282917118055), value(data=0.9409658143681786)]\n"
          ]
        }
      ]
    },
    {
      "cell_type": "code",
      "source": [
        "y_pred"
      ],
      "metadata": {
        "colab": {
          "base_uri": "https://localhost:8080/"
        },
        "id": "iqLKWhvdCJzk",
        "outputId": "6a272485-ca79-4f6c-82a8-8b708eae3a82"
      },
      "execution_count": 85,
      "outputs": [
        {
          "output_type": "execute_result",
          "data": {
            "text/plain": [
              "[value(data=0.9670539761593075),\n",
              " value(data=-0.9602808417027124),\n",
              " value(data=-0.9373282917118055),\n",
              " value(data=0.9409658143681786)]"
            ]
          },
          "metadata": {},
          "execution_count": 85
        }
      ]
    },
    {
      "cell_type": "code",
      "source": [],
      "metadata": {
        "id": "0EUtPW_Say81"
      },
      "execution_count": null,
      "outputs": []
    }
  ]
}