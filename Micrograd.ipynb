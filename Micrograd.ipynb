{
  "nbformat": 4,
  "nbformat_minor": 0,
  "metadata": {
    "colab": {
      "provenance": [],
      "authorship_tag": "ABX9TyMZ3KWUNyb+ptsEnX8WWgh8",
      "include_colab_link": true
    },
    "kernelspec": {
      "name": "python3",
      "display_name": "Python 3"
    },
    "language_info": {
      "name": "python"
    }
  },
  "cells": [
    {
      "cell_type": "markdown",
      "metadata": {
        "id": "view-in-github",
        "colab_type": "text"
      },
      "source": [
        "<a href=\"https://colab.research.google.com/github/AlirezaAhadipour/Micrograd/blob/main/Micrograd.ipynb\" target=\"_parent\"><img src=\"https://colab.research.google.com/assets/colab-badge.svg\" alt=\"Open In Colab\"/></a>"
      ]
    },
    {
      "cell_type": "code",
      "execution_count": 72,
      "metadata": {
        "colab": {
          "base_uri": "https://localhost:8080/"
        },
        "id": "653dBoFWPjAQ",
        "outputId": "2d675c40-cad7-4225-b5eb-934c388b06e1"
      },
      "outputs": [
        {
          "output_type": "stream",
          "name": "stdout",
          "text": [
            "Requirement already satisfied: micrograd in /usr/local/lib/python3.10/dist-packages (0.1.0)\n"
          ]
        }
      ],
      "source": [
        "!pip install micrograd"
      ]
    },
    {
      "cell_type": "code",
      "source": [
        "from micrograd.engine import Value"
      ],
      "metadata": {
        "id": "sjGLGPhsQFs8"
      },
      "execution_count": 73,
      "outputs": []
    },
    {
      "cell_type": "markdown",
      "source": [
        "### Example"
      ],
      "metadata": {
        "id": "-fIoE-vvTMQY"
      }
    },
    {
      "cell_type": "code",
      "source": [
        "a = Value(-4.0)\n",
        "b = Value(2.0)\n",
        "\n",
        "c = a + b\n",
        "d = (a * b) + (b ** 3)\n",
        "c += c + 1\n",
        "c += 1 + c + (-a)\n",
        "d += (d * 2) + (b + a).relu()\n",
        "d += (3 * d) + (b - a).relu()\n",
        "e = c - d\n",
        "f = e ** 2\n",
        "g = f / 2.0\n",
        "g += 10.0 / f\n",
        "\n",
        "print(f'Outcome of forward pass: \\n {g.data: .4f}')\n",
        "g.backward()\n",
        "print(f'Numerical value of dg/da: \\n {a.grad: .4f}')\n",
        "print(f'Numerical value of dg/db: \\n {b.grad: .4f}')\n"
      ],
      "metadata": {
        "colab": {
          "base_uri": "https://localhost:8080/"
        },
        "id": "mXsHQKa8QbkX",
        "outputId": "5a869cdf-dbe9-454b-804c-3cf7669e65d6"
      },
      "execution_count": 74,
      "outputs": [
        {
          "output_type": "stream",
          "name": "stdout",
          "text": [
            "Outcome of forward pass: \n",
            "  24.7041\n",
            "Numerical value of dg/da: \n",
            "  138.8338\n",
            "Numerical value of dg/db: \n",
            "  645.5773\n"
          ]
        }
      ]
    },
    {
      "cell_type": "markdown",
      "source": [
        "# Micrograd from scratch"
      ],
      "metadata": {
        "id": "09fl9FClU4tS"
      }
    },
    {
      "cell_type": "code",
      "source": [
        "import math\n",
        "import numpy as np\n",
        "import matplotlib.pyplot as plt\n",
        "%matplotlib inline"
      ],
      "metadata": {
        "id": "1eYnrG9KSOM3"
      },
      "execution_count": 75,
      "outputs": []
    },
    {
      "cell_type": "code",
      "source": [
        "class Value():\n",
        "  def __init__(self, data, _children=(), _op='', label=''):\n",
        "    self.data = data\n",
        "    self.grad = 0.0   # initialize the gradient at 0\n",
        "    self._backward = lambda: None   # empty function\n",
        "    self._prev = set(_children)   # previous value(s)\n",
        "    self._op = _op   # previous operation\n",
        "    self.label = label\n",
        "\n",
        "  def __repr__(self):\n",
        "    return f'value(data={self.data})'\n",
        "\n",
        "  def __add__(self, other):\n",
        "    other = other if isinstance(other, Value) else Value(other)\n",
        "    out = Value(self.data + other.data, (self, other), '+')\n",
        "\n",
        "    def _backward():\n",
        "      self.grad += 1.0 * out.grad\n",
        "      other.grad += 1.0 * out.grad\n",
        "    out._backward = _backward\n",
        "\n",
        "    return out\n",
        "\n",
        "  def __mul__(self, other):\n",
        "    other = other if isinstance(other, Value) else Value(other)\n",
        "    out = Value(self.data * other.data, (self, other), '*')\n",
        "\n",
        "    def _backward():\n",
        "      self.grad += other.data * out.grad\n",
        "      other.grad += self.data * out.grad\n",
        "    out._backward = _backward\n",
        "\n",
        "    return out\n",
        "\n",
        "  def __pow__(self, other):\n",
        "    assert isinstance(other, (int, float)), 'Only supporting int/float powers'\n",
        "    out = Value(self.data ** other, (self, ), f'**{other}')\n",
        "\n",
        "    def _backward():\n",
        "      self.grad += other * (self.data ** (other - 1)) * out.grad\n",
        "    out._backward = _backward\n",
        "\n",
        "    return out\n",
        "\n",
        "  def __rmul__(self, other):   # other * self\n",
        "    return self * other\n",
        "\n",
        "  def __truediv__(self, other) :   # self / other\n",
        "    return self * (other ** -1)\n",
        "\n",
        "  def __neg__(self):   # - self\n",
        "    return self * -1\n",
        "\n",
        "  def __sub__(self, other):   # self - other\n",
        "    return self + (-other)\n",
        "\n",
        "  def exp(self):\n",
        "    x = self.data\n",
        "    out = Value(math.exp(x), (self, ), 'exp')\n",
        "\n",
        "    def _backward():\n",
        "      self.grad += out.data * out.grad\n",
        "    out._backward = _backward\n",
        "\n",
        "    return out\n",
        "\n",
        "  def tanh(self):\n",
        "    x = self.data\n",
        "    t = (math.exp(2*x) - 1) / (math.exp(2*x) + 1)\n",
        "    out = Value(t, (self, ), 'tanh')\n",
        "\n",
        "    def _backward():\n",
        "      self.grad += (1 - t**2) * out.grad\n",
        "    out._backward = _backward\n",
        "\n",
        "    return out\n",
        "\n",
        "  def backward(self):\n",
        "    topo = []\n",
        "    visited = set()\n",
        "\n",
        "    def build_topo(v):\n",
        "      if v not in visited:\n",
        "        visited.add(v)\n",
        "        for child in v._prev:\n",
        "          build_topo(child)\n",
        "        topo.append(v)\n",
        "\n",
        "    build_topo(self)\n",
        "    self.grad = 1\n",
        "    for node in reversed(topo):\n",
        "      node._backward()\n"
      ],
      "metadata": {
        "id": "vKYfbc6zfBIp"
      },
      "execution_count": 91,
      "outputs": []
    },
    {
      "cell_type": "code",
      "source": [
        "from graphviz import Digraph\n",
        "\n",
        "def trace(root):\n",
        "  # builds a set of all nodes and edges in a graph\n",
        "  nodes, edges = set(), set()\n",
        "  def build(v):\n",
        "    if v not in nodes:\n",
        "      nodes.add(v)\n",
        "      for child in v._prev:\n",
        "        edges.add((child, v))\n",
        "        build(child)\n",
        "  build(root)\n",
        "  return nodes, edges\n",
        "\n",
        "def draw_dot(root):\n",
        "  dot = Digraph(format='svg', graph_attr={'rankdir': 'LR'}) # LR = left to right\n",
        "\n",
        "  nodes, edges = trace(root)\n",
        "  for n in nodes:\n",
        "    uid = str(id(n))\n",
        "    # for any value in the graph, create a rectangular ('record') node for it\n",
        "    dot.node(name = uid, label = \"{%s | data %.4f | grad %.4f}\" % (n.label, n.data, n.grad), shape='record')\n",
        "    if n._op:\n",
        "      # if this value is a result of some operation, create an op node for it\n",
        "      dot.node(name = uid + n._op, label = n._op)\n",
        "      # and connect this node to it\n",
        "      dot.edge(uid + n._op, uid)\n",
        "\n",
        "  for n1, n2 in edges:\n",
        "    # connect n1 to the op node of n2\n",
        "    dot.edge(str(id(n1)), str(id(n2)) + n2._op)\n",
        "\n",
        "  return dot"
      ],
      "metadata": {
        "id": "4ZOidydOjaAD"
      },
      "execution_count": 89,
      "outputs": []
    },
    {
      "cell_type": "code",
      "source": [
        "# inputs x1, x2\n",
        "x1 = Value(2.0, label='x1')\n",
        "x2 = Value(0.0, label='x2')\n",
        "\n",
        "# weights w1, w2\n",
        "w1 = Value(-3.0, label='w1')\n",
        "w2 = Value(1.0, label='w2')\n",
        "\n",
        "# bias of the neuron\n",
        "b = Value(6.8813735870195432, label='b')\n",
        "\n",
        "# x1w1 + x2w2 + b\n",
        "x1w1 = x1*w1; x1w1.label = 'x1w1'\n",
        "x2w2 = x2*w2; x2w2.label = 'x2w2'\n",
        "x1w1x2w2 = x1w1 + x2w2; x1w1x2w2.label = 'x1w1 + x2w2'\n",
        "n = x1w1x2w2 + b; n.label = 'n'\n",
        "# o = n.tanh(); o.label = 'o'\n",
        "e = (2 * n).exp()\n",
        "o = (e - 1) / (e + 1)\n",
        "\n",
        "o.backward()\n",
        "draw_dot(o)"
      ],
      "metadata": {
        "colab": {
          "base_uri": "https://localhost:8080/",
          "height": 358
        },
        "id": "Avo-uUkv0BNq",
        "outputId": "5d8829a9-a3bf-4084-9ff4-443a2b8031f1"
      },
      "execution_count": 94,
      "outputs": [
        {
          "output_type": "execute_result",
          "data": {
            "image/svg+xml": "<?xml version=\"1.0\" encoding=\"UTF-8\" standalone=\"no\"?>\n<!DOCTYPE svg PUBLIC \"-//W3C//DTD SVG 1.1//EN\"\n \"http://www.w3.org/Graphics/SVG/1.1/DTD/svg11.dtd\">\n<!-- Generated by graphviz version 2.43.0 (0)\n -->\n<!-- Title: %3 Pages: 1 -->\n<svg width=\"2921pt\" height=\"239pt\"\n viewBox=\"0.00 0.00 2921.00 239.00\" xmlns=\"http://www.w3.org/2000/svg\" xmlns:xlink=\"http://www.w3.org/1999/xlink\">\n<g id=\"graph0\" class=\"graph\" transform=\"scale(1 1) rotate(0) translate(4 235)\">\n<title>%3</title>\n<polygon fill=\"white\" stroke=\"transparent\" points=\"-4,4 -4,-235 2917,-235 2917,4 -4,4\"/>\n<!-- 136310785178640 -->\n<g id=\"node1\" class=\"node\">\n<title>136310785178640</title>\n<polygon fill=\"none\" stroke=\"black\" points=\"0,-194.5 0,-230.5 200,-230.5 200,-194.5 0,-194.5\"/>\n<text text-anchor=\"middle\" x=\"16.5\" y=\"-208.8\" font-family=\"Times,serif\" font-size=\"14.00\">w1</text>\n<polyline fill=\"none\" stroke=\"black\" points=\"33,-194.5 33,-230.5 \"/>\n<text text-anchor=\"middle\" x=\"75.5\" y=\"-208.8\" font-family=\"Times,serif\" font-size=\"14.00\">data &#45;3.0000</text>\n<polyline fill=\"none\" stroke=\"black\" points=\"118,-194.5 118,-230.5 \"/>\n<text text-anchor=\"middle\" x=\"159\" y=\"-208.8\" font-family=\"Times,serif\" font-size=\"14.00\">grad 1.0000</text>\n</g>\n<!-- 136310785165248* -->\n<g id=\"node26\" class=\"node\">\n<title>136310785165248*</title>\n<ellipse fill=\"none\" stroke=\"black\" cx=\"263\" cy=\"-157.5\" rx=\"27\" ry=\"18\"/>\n<text text-anchor=\"middle\" x=\"263\" y=\"-153.8\" font-family=\"Times,serif\" font-size=\"14.00\">*</text>\n</g>\n<!-- 136310785178640&#45;&gt;136310785165248* -->\n<g id=\"edge27\" class=\"edge\">\n<title>136310785178640&#45;&gt;136310785165248*</title>\n<path fill=\"none\" stroke=\"black\" d=\"M172.53,-194.44C181.84,-191.67 191.2,-188.67 200,-185.5 210.53,-181.71 221.75,-176.9 231.72,-172.33\"/>\n<polygon fill=\"black\" stroke=\"black\" points=\"233.25,-175.48 240.82,-168.07 230.28,-169.14 233.25,-175.48\"/>\n</g>\n<!-- 136310785164864 -->\n<g id=\"node2\" class=\"node\">\n<title>136310785164864</title>\n<polygon fill=\"none\" stroke=\"black\" points=\"2731,-54.5 2731,-90.5 2913,-90.5 2913,-54.5 2731,-54.5\"/>\n<text text-anchor=\"middle\" x=\"2741\" y=\"-68.8\" font-family=\"Times,serif\" font-size=\"14.00\"> </text>\n<polyline fill=\"none\" stroke=\"black\" points=\"2751,-54.5 2751,-90.5 \"/>\n<text text-anchor=\"middle\" x=\"2791\" y=\"-68.8\" font-family=\"Times,serif\" font-size=\"14.00\">data 0.7071</text>\n<polyline fill=\"none\" stroke=\"black\" points=\"2831,-54.5 2831,-90.5 \"/>\n<text text-anchor=\"middle\" x=\"2872\" y=\"-68.8\" font-family=\"Times,serif\" font-size=\"14.00\">grad 1.0000</text>\n</g>\n<!-- 136310785164864* -->\n<g id=\"node3\" class=\"node\">\n<title>136310785164864*</title>\n<ellipse fill=\"none\" stroke=\"black\" cx=\"2668\" cy=\"-72.5\" rx=\"27\" ry=\"18\"/>\n<text text-anchor=\"middle\" x=\"2668\" y=\"-68.8\" font-family=\"Times,serif\" font-size=\"14.00\">*</text>\n</g>\n<!-- 136310785164864*&#45;&gt;136310785164864 -->\n<g id=\"edge1\" class=\"edge\">\n<title>136310785164864*&#45;&gt;136310785164864</title>\n<path fill=\"none\" stroke=\"black\" d=\"M2695.13,-72.5C2702.67,-72.5 2711.39,-72.5 2720.64,-72.5\"/>\n<polygon fill=\"black\" stroke=\"black\" points=\"2720.87,-76 2730.87,-72.5 2720.87,-69 2720.87,-76\"/>\n</g>\n<!-- 136310785166928 -->\n<g id=\"node4\" class=\"node\">\n<title>136310785166928</title>\n<polygon fill=\"none\" stroke=\"black\" points=\"2.5,-84.5 2.5,-120.5 197.5,-120.5 197.5,-84.5 2.5,-84.5\"/>\n<text text-anchor=\"middle\" x=\"19\" y=\"-98.8\" font-family=\"Times,serif\" font-size=\"14.00\">w2</text>\n<polyline fill=\"none\" stroke=\"black\" points=\"35.5,-84.5 35.5,-120.5 \"/>\n<text text-anchor=\"middle\" x=\"75.5\" y=\"-98.8\" font-family=\"Times,serif\" font-size=\"14.00\">data 1.0000</text>\n<polyline fill=\"none\" stroke=\"black\" points=\"115.5,-84.5 115.5,-120.5 \"/>\n<text text-anchor=\"middle\" x=\"156.5\" y=\"-98.8\" font-family=\"Times,serif\" font-size=\"14.00\">grad 0.0000</text>\n</g>\n<!-- 136310785169904* -->\n<g id=\"node28\" class=\"node\">\n<title>136310785169904*</title>\n<ellipse fill=\"none\" stroke=\"black\" cx=\"263\" cy=\"-102.5\" rx=\"27\" ry=\"18\"/>\n<text text-anchor=\"middle\" x=\"263\" y=\"-98.8\" font-family=\"Times,serif\" font-size=\"14.00\">*</text>\n</g>\n<!-- 136310785166928&#45;&gt;136310785169904* -->\n<g id=\"edge16\" class=\"edge\">\n<title>136310785166928&#45;&gt;136310785169904*</title>\n<path fill=\"none\" stroke=\"black\" d=\"M197.91,-102.5C207.65,-102.5 217.05,-102.5 225.52,-102.5\"/>\n<polygon fill=\"black\" stroke=\"black\" points=\"225.7,-106 235.7,-102.5 225.7,-99 225.7,-106\"/>\n</g>\n<!-- 136310785172064 -->\n<g id=\"node5\" class=\"node\">\n<title>136310785172064</title>\n<polygon fill=\"none\" stroke=\"black\" points=\"1052.5,-28.5 1052.5,-64.5 1234.5,-64.5 1234.5,-28.5 1052.5,-28.5\"/>\n<text text-anchor=\"middle\" x=\"1062.5\" y=\"-42.8\" font-family=\"Times,serif\" font-size=\"14.00\"> </text>\n<polyline fill=\"none\" stroke=\"black\" points=\"1072.5,-28.5 1072.5,-64.5 \"/>\n<text text-anchor=\"middle\" x=\"1112.5\" y=\"-42.8\" font-family=\"Times,serif\" font-size=\"14.00\">data 2.0000</text>\n<polyline fill=\"none\" stroke=\"black\" points=\"1152.5,-28.5 1152.5,-64.5 \"/>\n<text text-anchor=\"middle\" x=\"1193.5\" y=\"-42.8\" font-family=\"Times,serif\" font-size=\"14.00\">grad 0.2203</text>\n</g>\n<!-- 136310785175712* -->\n<g id=\"node7\" class=\"node\">\n<title>136310785175712*</title>\n<ellipse fill=\"none\" stroke=\"black\" cx=\"1299\" cy=\"-73.5\" rx=\"27\" ry=\"18\"/>\n<text text-anchor=\"middle\" x=\"1299\" y=\"-69.8\" font-family=\"Times,serif\" font-size=\"14.00\">*</text>\n</g>\n<!-- 136310785172064&#45;&gt;136310785175712* -->\n<g id=\"edge19\" class=\"edge\">\n<title>136310785172064&#45;&gt;136310785175712*</title>\n<path fill=\"none\" stroke=\"black\" d=\"M1234.68,-62.36C1244.61,-64.11 1254.23,-65.8 1262.84,-67.32\"/>\n<polygon fill=\"black\" stroke=\"black\" points=\"1262.36,-70.78 1272.81,-69.07 1263.57,-63.89 1262.36,-70.78\"/>\n</g>\n<!-- 136310785175712 -->\n<g id=\"node6\" class=\"node\">\n<title>136310785175712</title>\n<polygon fill=\"none\" stroke=\"black\" points=\"1362,-55.5 1362,-91.5 1544,-91.5 1544,-55.5 1362,-55.5\"/>\n<text text-anchor=\"middle\" x=\"1372\" y=\"-69.8\" font-family=\"Times,serif\" font-size=\"14.00\"> </text>\n<polyline fill=\"none\" stroke=\"black\" points=\"1382,-55.5 1382,-91.5 \"/>\n<text text-anchor=\"middle\" x=\"1422\" y=\"-69.8\" font-family=\"Times,serif\" font-size=\"14.00\">data 1.7627</text>\n<polyline fill=\"none\" stroke=\"black\" points=\"1462,-55.5 1462,-91.5 \"/>\n<text text-anchor=\"middle\" x=\"1503\" y=\"-69.8\" font-family=\"Times,serif\" font-size=\"14.00\">grad 0.2500</text>\n</g>\n<!-- 136310785174320exp -->\n<g id=\"node18\" class=\"node\">\n<title>136310785174320exp</title>\n<ellipse fill=\"none\" stroke=\"black\" cx=\"1607\" cy=\"-73.5\" rx=\"27\" ry=\"18\"/>\n<text text-anchor=\"middle\" x=\"1607\" y=\"-69.8\" font-family=\"Times,serif\" font-size=\"14.00\">exp</text>\n</g>\n<!-- 136310785175712&#45;&gt;136310785174320exp -->\n<g id=\"edge25\" class=\"edge\">\n<title>136310785175712&#45;&gt;136310785174320exp</title>\n<path fill=\"none\" stroke=\"black\" d=\"M1544.18,-73.5C1553.14,-73.5 1561.83,-73.5 1569.73,-73.5\"/>\n<polygon fill=\"black\" stroke=\"black\" points=\"1569.96,-77 1579.96,-73.5 1569.96,-70 1569.96,-77\"/>\n</g>\n<!-- 136310785175712*&#45;&gt;136310785175712 -->\n<g id=\"edge2\" class=\"edge\">\n<title>136310785175712*&#45;&gt;136310785175712</title>\n<path fill=\"none\" stroke=\"black\" d=\"M1326.13,-73.5C1333.67,-73.5 1342.39,-73.5 1351.64,-73.5\"/>\n<polygon fill=\"black\" stroke=\"black\" points=\"1351.87,-77 1361.87,-73.5 1351.87,-70 1351.87,-77\"/>\n</g>\n<!-- 136310785167264 -->\n<g id=\"node8\" class=\"node\">\n<title>136310785167264</title>\n<polygon fill=\"none\" stroke=\"black\" points=\"1670.5,-110.5 1670.5,-146.5 1856.5,-146.5 1856.5,-110.5 1670.5,-110.5\"/>\n<text text-anchor=\"middle\" x=\"1680.5\" y=\"-124.8\" font-family=\"Times,serif\" font-size=\"14.00\"> </text>\n<polyline fill=\"none\" stroke=\"black\" points=\"1690.5,-110.5 1690.5,-146.5 \"/>\n<text text-anchor=\"middle\" x=\"1730.5\" y=\"-124.8\" font-family=\"Times,serif\" font-size=\"14.00\">data 1.0000</text>\n<polyline fill=\"none\" stroke=\"black\" points=\"1770.5,-110.5 1770.5,-146.5 \"/>\n<text text-anchor=\"middle\" x=\"1813.5\" y=\"-124.8\" font-family=\"Times,serif\" font-size=\"14.00\">grad &#45;0.1036</text>\n</g>\n<!-- 136310785166208+ -->\n<g id=\"node22\" class=\"node\">\n<title>136310785166208+</title>\n<ellipse fill=\"none\" stroke=\"black\" cx=\"1920\" cy=\"-100.5\" rx=\"27\" ry=\"18\"/>\n<text text-anchor=\"middle\" x=\"1920\" y=\"-96.8\" font-family=\"Times,serif\" font-size=\"14.00\">+</text>\n</g>\n<!-- 136310785167264&#45;&gt;136310785166208+ -->\n<g id=\"edge24\" class=\"edge\">\n<title>136310785167264&#45;&gt;136310785166208+</title>\n<path fill=\"none\" stroke=\"black\" d=\"M1856.6,-111.81C1866.15,-110.08 1875.37,-108.41 1883.68,-106.9\"/>\n<polygon fill=\"black\" stroke=\"black\" points=\"1884.43,-110.32 1893.65,-105.09 1883.18,-103.43 1884.43,-110.32\"/>\n</g>\n<!-- 136310785170144 -->\n<g id=\"node9\" class=\"node\">\n<title>136310785170144</title>\n<polygon fill=\"none\" stroke=\"black\" points=\"1051,-83.5 1051,-119.5 1236,-119.5 1236,-83.5 1051,-83.5\"/>\n<text text-anchor=\"middle\" x=\"1062.5\" y=\"-97.8\" font-family=\"Times,serif\" font-size=\"14.00\">n</text>\n<polyline fill=\"none\" stroke=\"black\" points=\"1074,-83.5 1074,-119.5 \"/>\n<text text-anchor=\"middle\" x=\"1114\" y=\"-97.8\" font-family=\"Times,serif\" font-size=\"14.00\">data 0.8814</text>\n<polyline fill=\"none\" stroke=\"black\" points=\"1154,-83.5 1154,-119.5 \"/>\n<text text-anchor=\"middle\" x=\"1195\" y=\"-97.8\" font-family=\"Times,serif\" font-size=\"14.00\">grad 0.5000</text>\n</g>\n<!-- 136310785170144&#45;&gt;136310785175712* -->\n<g id=\"edge14\" class=\"edge\">\n<title>136310785170144&#45;&gt;136310785175712*</title>\n<path fill=\"none\" stroke=\"black\" d=\"M1236.01,-84.81C1245.49,-83.08 1254.66,-81.41 1262.9,-79.9\"/>\n<polygon fill=\"black\" stroke=\"black\" points=\"1263.6,-83.33 1272.81,-78.09 1262.35,-76.45 1263.6,-83.33\"/>\n</g>\n<!-- 136310785170144+ -->\n<g id=\"node10\" class=\"node\">\n<title>136310785170144+</title>\n<ellipse fill=\"none\" stroke=\"black\" cx=\"988\" cy=\"-101.5\" rx=\"27\" ry=\"18\"/>\n<text text-anchor=\"middle\" x=\"988\" y=\"-97.8\" font-family=\"Times,serif\" font-size=\"14.00\">+</text>\n</g>\n<!-- 136310785170144+&#45;&gt;136310785170144 -->\n<g id=\"edge3\" class=\"edge\">\n<title>136310785170144+&#45;&gt;136310785170144</title>\n<path fill=\"none\" stroke=\"black\" d=\"M1015.04,-101.5C1022.58,-101.5 1031.3,-101.5 1040.57,-101.5\"/>\n<polygon fill=\"black\" stroke=\"black\" points=\"1040.81,-105 1050.81,-101.5 1040.81,-98 1040.81,-105\"/>\n</g>\n<!-- 136310785175280 -->\n<g id=\"node11\" class=\"node\">\n<title>136310785175280</title>\n<polygon fill=\"none\" stroke=\"black\" points=\"666,-111.5 666,-147.5 925,-147.5 925,-111.5 666,-111.5\"/>\n<text text-anchor=\"middle\" x=\"712\" y=\"-125.8\" font-family=\"Times,serif\" font-size=\"14.00\">x1w1 + x2w2</text>\n<polyline fill=\"none\" stroke=\"black\" points=\"758,-111.5 758,-147.5 \"/>\n<text text-anchor=\"middle\" x=\"800.5\" y=\"-125.8\" font-family=\"Times,serif\" font-size=\"14.00\">data &#45;6.0000</text>\n<polyline fill=\"none\" stroke=\"black\" points=\"843,-111.5 843,-147.5 \"/>\n<text text-anchor=\"middle\" x=\"884\" y=\"-125.8\" font-family=\"Times,serif\" font-size=\"14.00\">grad 0.5000</text>\n</g>\n<!-- 136310785175280&#45;&gt;136310785170144+ -->\n<g id=\"edge20\" class=\"edge\">\n<title>136310785175280&#45;&gt;136310785170144+</title>\n<path fill=\"none\" stroke=\"black\" d=\"M919.03,-111.49C930.7,-109.77 941.77,-108.15 951.46,-106.72\"/>\n<polygon fill=\"black\" stroke=\"black\" points=\"952.01,-110.18 961.4,-105.26 951,-103.25 952.01,-110.18\"/>\n</g>\n<!-- 136310785175280+ -->\n<g id=\"node12\" class=\"node\">\n<title>136310785175280+</title>\n<ellipse fill=\"none\" stroke=\"black\" cx=\"603\" cy=\"-129.5\" rx=\"27\" ry=\"18\"/>\n<text text-anchor=\"middle\" x=\"603\" y=\"-125.8\" font-family=\"Times,serif\" font-size=\"14.00\">+</text>\n</g>\n<!-- 136310785175280+&#45;&gt;136310785175280 -->\n<g id=\"edge4\" class=\"edge\">\n<title>136310785175280+&#45;&gt;136310785175280</title>\n<path fill=\"none\" stroke=\"black\" d=\"M630.09,-129.5C637.58,-129.5 646.3,-129.5 655.75,-129.5\"/>\n<polygon fill=\"black\" stroke=\"black\" points=\"655.84,-133 665.84,-129.5 655.84,-126 655.84,-133\"/>\n</g>\n<!-- 136310785175808 -->\n<g id=\"node13\" class=\"node\">\n<title>136310785175808</title>\n<polygon fill=\"none\" stroke=\"black\" points=\"703,-56.5 703,-92.5 888,-92.5 888,-56.5 703,-56.5\"/>\n<text text-anchor=\"middle\" x=\"714.5\" y=\"-70.8\" font-family=\"Times,serif\" font-size=\"14.00\">b</text>\n<polyline fill=\"none\" stroke=\"black\" points=\"726,-56.5 726,-92.5 \"/>\n<text text-anchor=\"middle\" x=\"766\" y=\"-70.8\" font-family=\"Times,serif\" font-size=\"14.00\">data 6.8814</text>\n<polyline fill=\"none\" stroke=\"black\" points=\"806,-56.5 806,-92.5 \"/>\n<text text-anchor=\"middle\" x=\"847\" y=\"-70.8\" font-family=\"Times,serif\" font-size=\"14.00\">grad 0.5000</text>\n</g>\n<!-- 136310785175808&#45;&gt;136310785170144+ -->\n<g id=\"edge21\" class=\"edge\">\n<title>136310785175808&#45;&gt;136310785170144+</title>\n<path fill=\"none\" stroke=\"black\" d=\"M888.12,-87.49C910.59,-90.67 933.33,-93.89 951.33,-96.44\"/>\n<polygon fill=\"black\" stroke=\"black\" points=\"950.95,-99.93 961.34,-97.86 951.93,-92.99 950.95,-99.93\"/>\n</g>\n<!-- 136310785179408 -->\n<g id=\"node14\" class=\"node\">\n<title>136310785179408</title>\n<polygon fill=\"none\" stroke=\"black\" points=\"2,-139.5 2,-175.5 198,-175.5 198,-139.5 2,-139.5\"/>\n<text text-anchor=\"middle\" x=\"17\" y=\"-153.8\" font-family=\"Times,serif\" font-size=\"14.00\">x1</text>\n<polyline fill=\"none\" stroke=\"black\" points=\"32,-139.5 32,-175.5 \"/>\n<text text-anchor=\"middle\" x=\"72\" y=\"-153.8\" font-family=\"Times,serif\" font-size=\"14.00\">data 2.0000</text>\n<polyline fill=\"none\" stroke=\"black\" points=\"112,-139.5 112,-175.5 \"/>\n<text text-anchor=\"middle\" x=\"155\" y=\"-153.8\" font-family=\"Times,serif\" font-size=\"14.00\">grad &#45;1.5000</text>\n</g>\n<!-- 136310785179408&#45;&gt;136310785165248* -->\n<g id=\"edge26\" class=\"edge\">\n<title>136310785179408&#45;&gt;136310785165248*</title>\n<path fill=\"none\" stroke=\"black\" d=\"M198.37,-157.5C208.05,-157.5 217.4,-157.5 225.8,-157.5\"/>\n<polygon fill=\"black\" stroke=\"black\" points=\"225.91,-161 235.91,-157.5 225.91,-154 225.91,-161\"/>\n</g>\n<!-- 136310785164576 -->\n<g id=\"node15\" class=\"node\">\n<title>136310785164576</title>\n<polygon fill=\"none\" stroke=\"black\" points=\"2423,-80.5 2423,-116.5 2605,-116.5 2605,-80.5 2423,-80.5\"/>\n<text text-anchor=\"middle\" x=\"2433\" y=\"-94.8\" font-family=\"Times,serif\" font-size=\"14.00\"> </text>\n<polyline fill=\"none\" stroke=\"black\" points=\"2443,-80.5 2443,-116.5 \"/>\n<text text-anchor=\"middle\" x=\"2483\" y=\"-94.8\" font-family=\"Times,serif\" font-size=\"14.00\">data 0.1464</text>\n<polyline fill=\"none\" stroke=\"black\" points=\"2523,-80.5 2523,-116.5 \"/>\n<text text-anchor=\"middle\" x=\"2564\" y=\"-94.8\" font-family=\"Times,serif\" font-size=\"14.00\">grad 4.8284</text>\n</g>\n<!-- 136310785164576&#45;&gt;136310785164864* -->\n<g id=\"edge15\" class=\"edge\">\n<title>136310785164576&#45;&gt;136310785164864*</title>\n<path fill=\"none\" stroke=\"black\" d=\"M2605.18,-83.08C2614.42,-81.49 2623.38,-79.96 2631.47,-78.58\"/>\n<polygon fill=\"black\" stroke=\"black\" points=\"2632.29,-81.99 2641.56,-76.85 2631.11,-75.09 2632.29,-81.99\"/>\n</g>\n<!-- 136310785164576**&#45;1 -->\n<g id=\"node16\" class=\"node\">\n<title>136310785164576**&#45;1</title>\n<ellipse fill=\"none\" stroke=\"black\" cx=\"2296\" cy=\"-100.5\" rx=\"27\" ry=\"18\"/>\n<text text-anchor=\"middle\" x=\"2296\" y=\"-96.8\" font-family=\"Times,serif\" font-size=\"14.00\">**&#45;1</text>\n</g>\n<!-- 136310785164576**&#45;1&#45;&gt;136310785164576 -->\n<g id=\"edge5\" class=\"edge\">\n<title>136310785164576**&#45;1&#45;&gt;136310785164576</title>\n<path fill=\"none\" stroke=\"black\" d=\"M2323.05,-100.26C2345.53,-100.05 2379.48,-99.74 2412.5,-99.43\"/>\n<polygon fill=\"black\" stroke=\"black\" points=\"2412.74,-102.93 2422.7,-99.34 2412.67,-95.93 2412.74,-102.93\"/>\n</g>\n<!-- 136310785174320 -->\n<g id=\"node17\" class=\"node\">\n<title>136310785174320</title>\n<polygon fill=\"none\" stroke=\"black\" points=\"1672.5,-55.5 1672.5,-91.5 1854.5,-91.5 1854.5,-55.5 1672.5,-55.5\"/>\n<text text-anchor=\"middle\" x=\"1682.5\" y=\"-69.8\" font-family=\"Times,serif\" font-size=\"14.00\"> </text>\n<polyline fill=\"none\" stroke=\"black\" points=\"1692.5,-55.5 1692.5,-91.5 \"/>\n<text text-anchor=\"middle\" x=\"1732.5\" y=\"-69.8\" font-family=\"Times,serif\" font-size=\"14.00\">data 5.8284</text>\n<polyline fill=\"none\" stroke=\"black\" points=\"1772.5,-55.5 1772.5,-91.5 \"/>\n<text text-anchor=\"middle\" x=\"1813.5\" y=\"-69.8\" font-family=\"Times,serif\" font-size=\"14.00\">grad 0.0429</text>\n</g>\n<!-- 136310785174320&#45;&gt;136310785166208+ -->\n<g id=\"edge13\" class=\"edge\">\n<title>136310785174320&#45;&gt;136310785166208+</title>\n<path fill=\"none\" stroke=\"black\" d=\"M1854.82,-89.28C1865.07,-91.08 1875.01,-92.81 1883.88,-94.36\"/>\n<polygon fill=\"black\" stroke=\"black\" points=\"1883.3,-97.81 1893.75,-96.09 1884.5,-90.92 1883.3,-97.81\"/>\n</g>\n<!-- 136310785178016+ -->\n<g id=\"node24\" class=\"node\">\n<title>136310785178016+</title>\n<ellipse fill=\"none\" stroke=\"black\" cx=\"1920\" cy=\"-45.5\" rx=\"27\" ry=\"18\"/>\n<text text-anchor=\"middle\" x=\"1920\" y=\"-41.8\" font-family=\"Times,serif\" font-size=\"14.00\">+</text>\n</g>\n<!-- 136310785174320&#45;&gt;136310785178016+ -->\n<g id=\"edge22\" class=\"edge\">\n<title>136310785174320&#45;&gt;136310785178016+</title>\n<path fill=\"none\" stroke=\"black\" d=\"M1854.82,-57.13C1865.07,-55.27 1875.01,-53.47 1883.88,-51.87\"/>\n<polygon fill=\"black\" stroke=\"black\" points=\"1884.54,-55.3 1893.75,-50.08 1883.29,-48.42 1884.54,-55.3\"/>\n</g>\n<!-- 136310785174320exp&#45;&gt;136310785174320 -->\n<g id=\"edge6\" class=\"edge\">\n<title>136310785174320exp&#45;&gt;136310785174320</title>\n<path fill=\"none\" stroke=\"black\" d=\"M1634.21,-73.5C1642.34,-73.5 1651.85,-73.5 1661.94,-73.5\"/>\n<polygon fill=\"black\" stroke=\"black\" points=\"1662.19,-77 1672.19,-73.5 1662.19,-70 1662.19,-77\"/>\n</g>\n<!-- 136310785177920 -->\n<g id=\"node19\" class=\"node\">\n<title>136310785177920</title>\n<polygon fill=\"none\" stroke=\"black\" points=\"1670,-0.5 1670,-36.5 1857,-36.5 1857,-0.5 1670,-0.5\"/>\n<text text-anchor=\"middle\" x=\"1680\" y=\"-14.8\" font-family=\"Times,serif\" font-size=\"14.00\"> </text>\n<polyline fill=\"none\" stroke=\"black\" points=\"1690,-0.5 1690,-36.5 \"/>\n<text text-anchor=\"middle\" x=\"1732.5\" y=\"-14.8\" font-family=\"Times,serif\" font-size=\"14.00\">data &#45;1.0000</text>\n<polyline fill=\"none\" stroke=\"black\" points=\"1775,-0.5 1775,-36.5 \"/>\n<text text-anchor=\"middle\" x=\"1816\" y=\"-14.8\" font-family=\"Times,serif\" font-size=\"14.00\">grad 0.1464</text>\n</g>\n<!-- 136310785177920&#45;&gt;136310785178016+ -->\n<g id=\"edge23\" class=\"edge\">\n<title>136310785177920&#45;&gt;136310785178016+</title>\n<path fill=\"none\" stroke=\"black\" d=\"M1857.05,-34.67C1866.34,-36.3 1875.33,-37.87 1883.44,-39.29\"/>\n<polygon fill=\"black\" stroke=\"black\" points=\"1883.1,-42.78 1893.55,-41.05 1884.3,-35.88 1883.1,-42.78\"/>\n</g>\n<!-- 136310785167696 -->\n<g id=\"node20\" class=\"node\">\n<title>136310785167696</title>\n<polygon fill=\"none\" stroke=\"black\" points=\"4,-29.5 4,-65.5 196,-65.5 196,-29.5 4,-29.5\"/>\n<text text-anchor=\"middle\" x=\"19\" y=\"-43.8\" font-family=\"Times,serif\" font-size=\"14.00\">x2</text>\n<polyline fill=\"none\" stroke=\"black\" points=\"34,-29.5 34,-65.5 \"/>\n<text text-anchor=\"middle\" x=\"74\" y=\"-43.8\" font-family=\"Times,serif\" font-size=\"14.00\">data 0.0000</text>\n<polyline fill=\"none\" stroke=\"black\" points=\"114,-29.5 114,-65.5 \"/>\n<text text-anchor=\"middle\" x=\"155\" y=\"-43.8\" font-family=\"Times,serif\" font-size=\"14.00\">grad 0.5000</text>\n</g>\n<!-- 136310785167696&#45;&gt;136310785169904* -->\n<g id=\"edge18\" class=\"edge\">\n<title>136310785167696&#45;&gt;136310785169904*</title>\n<path fill=\"none\" stroke=\"black\" d=\"M169.28,-65.5C179.65,-68.61 190.16,-71.98 200,-75.5 210.28,-79.17 221.28,-83.74 231.11,-88.07\"/>\n<polygon fill=\"black\" stroke=\"black\" points=\"229.93,-91.37 240.48,-92.27 232.79,-84.99 229.93,-91.37\"/>\n</g>\n<!-- 136310785166208 -->\n<g id=\"node21\" class=\"node\">\n<title>136310785166208</title>\n<polygon fill=\"none\" stroke=\"black\" points=\"1983,-82.5 1983,-118.5 2169,-118.5 2169,-82.5 1983,-82.5\"/>\n<text text-anchor=\"middle\" x=\"1993\" y=\"-96.8\" font-family=\"Times,serif\" font-size=\"14.00\"> </text>\n<polyline fill=\"none\" stroke=\"black\" points=\"2003,-82.5 2003,-118.5 \"/>\n<text text-anchor=\"middle\" x=\"2043\" y=\"-96.8\" font-family=\"Times,serif\" font-size=\"14.00\">data 6.8284</text>\n<polyline fill=\"none\" stroke=\"black\" points=\"2083,-82.5 2083,-118.5 \"/>\n<text text-anchor=\"middle\" x=\"2126\" y=\"-96.8\" font-family=\"Times,serif\" font-size=\"14.00\">grad &#45;0.1036</text>\n</g>\n<!-- 136310785166208&#45;&gt;136310785164576**&#45;1 -->\n<g id=\"edge12\" class=\"edge\">\n<title>136310785166208&#45;&gt;136310785164576**&#45;1</title>\n<path fill=\"none\" stroke=\"black\" d=\"M2169.14,-100.5C2200.72,-100.5 2234.24,-100.5 2258.74,-100.5\"/>\n<polygon fill=\"black\" stroke=\"black\" points=\"2258.98,-104 2268.98,-100.5 2258.98,-97 2258.98,-104\"/>\n</g>\n<!-- 136310785166208+&#45;&gt;136310785166208 -->\n<g id=\"edge7\" class=\"edge\">\n<title>136310785166208+&#45;&gt;136310785166208</title>\n<path fill=\"none\" stroke=\"black\" d=\"M1947.12,-100.5C1954.62,-100.5 1963.29,-100.5 1972.5,-100.5\"/>\n<polygon fill=\"black\" stroke=\"black\" points=\"1972.69,-104 1982.69,-100.5 1972.69,-97 1972.69,-104\"/>\n</g>\n<!-- 136310785178016 -->\n<g id=\"node23\" class=\"node\">\n<title>136310785178016</title>\n<polygon fill=\"none\" stroke=\"black\" points=\"2205,-27.5 2205,-63.5 2387,-63.5 2387,-27.5 2205,-27.5\"/>\n<text text-anchor=\"middle\" x=\"2215\" y=\"-41.8\" font-family=\"Times,serif\" font-size=\"14.00\"> </text>\n<polyline fill=\"none\" stroke=\"black\" points=\"2225,-27.5 2225,-63.5 \"/>\n<text text-anchor=\"middle\" x=\"2265\" y=\"-41.8\" font-family=\"Times,serif\" font-size=\"14.00\">data 4.8284</text>\n<polyline fill=\"none\" stroke=\"black\" points=\"2305,-27.5 2305,-63.5 \"/>\n<text text-anchor=\"middle\" x=\"2346\" y=\"-41.8\" font-family=\"Times,serif\" font-size=\"14.00\">grad 0.1464</text>\n</g>\n<!-- 136310785178016&#45;&gt;136310785164864* -->\n<g id=\"edge17\" class=\"edge\">\n<title>136310785178016&#45;&gt;136310785164864*</title>\n<path fill=\"none\" stroke=\"black\" d=\"M2387.04,-52.07C2465.41,-57.79 2574.98,-65.79 2630.96,-69.87\"/>\n<polygon fill=\"black\" stroke=\"black\" points=\"2630.87,-73.37 2641.1,-70.61 2631.38,-66.39 2630.87,-73.37\"/>\n</g>\n<!-- 136310785178016+&#45;&gt;136310785178016 -->\n<g id=\"edge8\" class=\"edge\">\n<title>136310785178016+&#45;&gt;136310785178016</title>\n<path fill=\"none\" stroke=\"black\" d=\"M1947,-45.5C1997.46,-45.5 2111.06,-45.5 2194.81,-45.5\"/>\n<polygon fill=\"black\" stroke=\"black\" points=\"2194.87,-49 2204.87,-45.5 2194.87,-42 2194.87,-49\"/>\n</g>\n<!-- 136310785165248 -->\n<g id=\"node25\" class=\"node\">\n<title>136310785165248</title>\n<polygon fill=\"none\" stroke=\"black\" points=\"326,-139.5 326,-175.5 540,-175.5 540,-139.5 326,-139.5\"/>\n<text text-anchor=\"middle\" x=\"349.5\" y=\"-153.8\" font-family=\"Times,serif\" font-size=\"14.00\">x1w1</text>\n<polyline fill=\"none\" stroke=\"black\" points=\"373,-139.5 373,-175.5 \"/>\n<text text-anchor=\"middle\" x=\"415.5\" y=\"-153.8\" font-family=\"Times,serif\" font-size=\"14.00\">data &#45;6.0000</text>\n<polyline fill=\"none\" stroke=\"black\" points=\"458,-139.5 458,-175.5 \"/>\n<text text-anchor=\"middle\" x=\"499\" y=\"-153.8\" font-family=\"Times,serif\" font-size=\"14.00\">grad 0.5000</text>\n</g>\n<!-- 136310785165248&#45;&gt;136310785175280+ -->\n<g id=\"edge28\" class=\"edge\">\n<title>136310785165248&#45;&gt;136310785175280+</title>\n<path fill=\"none\" stroke=\"black\" d=\"M540.4,-139.77C549.72,-138.21 558.65,-136.72 566.68,-135.39\"/>\n<polygon fill=\"black\" stroke=\"black\" points=\"567.38,-138.82 576.66,-133.72 566.22,-131.91 567.38,-138.82\"/>\n</g>\n<!-- 136310785165248*&#45;&gt;136310785165248 -->\n<g id=\"edge9\" class=\"edge\">\n<title>136310785165248*&#45;&gt;136310785165248</title>\n<path fill=\"none\" stroke=\"black\" d=\"M290.25,-157.5C297.7,-157.5 306.34,-157.5 315.59,-157.5\"/>\n<polygon fill=\"black\" stroke=\"black\" points=\"315.84,-161 325.84,-157.5 315.84,-154 315.84,-161\"/>\n</g>\n<!-- 136310785169904 -->\n<g id=\"node27\" class=\"node\">\n<title>136310785169904</title>\n<polygon fill=\"none\" stroke=\"black\" points=\"328.5,-84.5 328.5,-120.5 537.5,-120.5 537.5,-84.5 328.5,-84.5\"/>\n<text text-anchor=\"middle\" x=\"352\" y=\"-98.8\" font-family=\"Times,serif\" font-size=\"14.00\">x2w2</text>\n<polyline fill=\"none\" stroke=\"black\" points=\"375.5,-84.5 375.5,-120.5 \"/>\n<text text-anchor=\"middle\" x=\"415.5\" y=\"-98.8\" font-family=\"Times,serif\" font-size=\"14.00\">data 0.0000</text>\n<polyline fill=\"none\" stroke=\"black\" points=\"455.5,-84.5 455.5,-120.5 \"/>\n<text text-anchor=\"middle\" x=\"496.5\" y=\"-98.8\" font-family=\"Times,serif\" font-size=\"14.00\">grad 0.5000</text>\n</g>\n<!-- 136310785169904&#45;&gt;136310785175280+ -->\n<g id=\"edge11\" class=\"edge\">\n<title>136310785169904&#45;&gt;136310785175280+</title>\n<path fill=\"none\" stroke=\"black\" d=\"M537.53,-119.14C547.8,-120.79 557.66,-122.37 566.45,-123.79\"/>\n<polygon fill=\"black\" stroke=\"black\" points=\"566.16,-127.28 576.59,-125.42 567.27,-120.37 566.16,-127.28\"/>\n</g>\n<!-- 136310785169904*&#45;&gt;136310785169904 -->\n<g id=\"edge10\" class=\"edge\">\n<title>136310785169904*&#45;&gt;136310785169904</title>\n<path fill=\"none\" stroke=\"black\" d=\"M290.25,-102.5C298.43,-102.5 308.03,-102.5 318.31,-102.5\"/>\n<polygon fill=\"black\" stroke=\"black\" points=\"318.35,-106 328.35,-102.5 318.35,-99 318.35,-106\"/>\n</g>\n</g>\n</svg>\n",
            "text/plain": [
              "<graphviz.graphs.Digraph at 0x7bf953ede0e0>"
            ]
          },
          "metadata": {},
          "execution_count": 94
        }
      ]
    },
    {
      "cell_type": "code",
      "source": [],
      "metadata": {
        "id": "SYOgdDYGMYUb"
      },
      "execution_count": null,
      "outputs": []
    }
  ]
}