{
  "nbformat": 4,
  "nbformat_minor": 0,
  "metadata": {
    "colab": {
      "provenance": [],
      "authorship_tag": "ABX9TyMjFOBY4evkJvyMA/6TxAto",
      "include_colab_link": true
    },
    "kernelspec": {
      "name": "python3",
      "display_name": "Python 3"
    },
    "language_info": {
      "name": "python"
    }
  },
  "cells": [
    {
      "cell_type": "markdown",
      "metadata": {
        "id": "view-in-github",
        "colab_type": "text"
      },
      "source": [
        "<a href=\"https://colab.research.google.com/github/AlirezaAhadipour/NN-from-scratch/blob/main/makemore_part2.ipynb\" target=\"_parent\"><img src=\"https://colab.research.google.com/assets/colab-badge.svg\" alt=\"Open In Colab\"/></a>"
      ]
    },
    {
      "cell_type": "code",
      "execution_count": null,
      "metadata": {
        "id": "G0cuU7sgaJLt"
      },
      "outputs": [],
      "source": [
        "import torch\n",
        "import torch.nn.functional as F\n",
        "import matplotlib.pyplot as plt\n",
        "%matplotlib inline"
      ]
    },
    {
      "cell_type": "code",
      "source": [
        "words = open('names.txt', 'r').read().splitlines()\n",
        "words[:5]"
      ],
      "metadata": {
        "colab": {
          "base_uri": "https://localhost:8080/"
        },
        "id": "nlzKFnfI31ay",
        "outputId": "b6c5dede-3abc-464b-a9a4-6ad9bc89b14f"
      },
      "execution_count": null,
      "outputs": [
        {
          "output_type": "execute_result",
          "data": {
            "text/plain": [
              "['emma', 'olivia', 'ava', 'isabella', 'sophia']"
            ]
          },
          "metadata": {},
          "execution_count": 3
        }
      ]
    },
    {
      "cell_type": "code",
      "source": [
        "# build the vocabulary of chars and mapping to/from integers\n",
        "chars = sorted(list(set(''.join(words))))\n",
        "\n",
        "str_to_int = {s:i+1 for i , s in enumerate(chars)}\n",
        "str_to_int['.'] = 0\n",
        "\n",
        "int_to_str = {i:s for s, i in str_to_int.items()}\n",
        "\n",
        "print(int_to_str)"
      ],
      "metadata": {
        "colab": {
          "base_uri": "https://localhost:8080/"
        },
        "id": "zk9X4XA84sdc",
        "outputId": "4eea82b6-707b-4c5f-da6d-50cffdfa1174"
      },
      "execution_count": null,
      "outputs": [
        {
          "output_type": "stream",
          "name": "stdout",
          "text": [
            "{1: 'a', 2: 'b', 3: 'c', 4: 'd', 5: 'e', 6: 'f', 7: 'g', 8: 'h', 9: 'i', 10: 'j', 11: 'k', 12: 'l', 13: 'm', 14: 'n', 15: 'o', 16: 'p', 17: 'q', 18: 'r', 19: 's', 20: 't', 21: 'u', 22: 'v', 23: 'w', 24: 'x', 25: 'y', 26: 'z', 0: '.'}\n"
          ]
        }
      ]
    },
    {
      "cell_type": "code",
      "source": [
        "# build the dataset\n",
        "block_size =3   # num of chars we take to predict the next one\n",
        "X, y = [], []\n",
        "\n",
        "for word in words[:3]:\n",
        "  print(word)\n",
        "\n",
        "  context = [0] * block_size\n",
        "  for char in word + '.':\n",
        "    ix = str_to_int[char]\n",
        "    X.append(context)\n",
        "    y.append(ix)\n",
        "\n",
        "    print(''.join(int_to_str[i] for i in context), '--->', int_to_str[ix])\n",
        "    context = context[1:] + [ix]\n",
        "\n",
        "X = torch.tensor(X)\n",
        "y = torch.tensor(y)"
      ],
      "metadata": {
        "id": "5dcxtsdo5tP1",
        "colab": {
          "base_uri": "https://localhost:8080/"
        },
        "outputId": "1572c314-f715-429a-d12c-a56dc603ef39"
      },
      "execution_count": 18,
      "outputs": [
        {
          "output_type": "stream",
          "name": "stdout",
          "text": [
            "emma\n",
            "... ---> e\n",
            "..e ---> m\n",
            ".em ---> m\n",
            "emm ---> a\n",
            "mma ---> .\n",
            "olivia\n",
            "... ---> o\n",
            "..o ---> l\n",
            ".ol ---> i\n",
            "oli ---> v\n",
            "liv ---> i\n",
            "ivi ---> a\n",
            "via ---> .\n",
            "ava\n",
            "... ---> a\n",
            "..a ---> v\n",
            ".av ---> a\n",
            "ava ---> .\n"
          ]
        }
      ]
    },
    {
      "cell_type": "code",
      "source": [
        "X.shape, X.dtype, y.shape, y.dtype"
      ],
      "metadata": {
        "id": "Dwjpp5ep6Vmh",
        "colab": {
          "base_uri": "https://localhost:8080/"
        },
        "outputId": "4c88a882-b0a1-455e-913b-61806ae38fa9"
      },
      "execution_count": 19,
      "outputs": [
        {
          "output_type": "execute_result",
          "data": {
            "text/plain": [
              "(torch.Size([16, 3]), torch.int64, torch.Size([16]), torch.int64)"
            ]
          },
          "metadata": {},
          "execution_count": 19
        }
      ]
    },
    {
      "cell_type": "code",
      "source": [
        "C = torch.randn((27,2))\n",
        "\n",
        "embd = C[X]\n",
        "embd.shape"
      ],
      "metadata": {
        "colab": {
          "base_uri": "https://localhost:8080/"
        },
        "id": "SWuF1LgK-231",
        "outputId": "8f26379c-6894-439b-ab12-8cc5c4b0484c"
      },
      "execution_count": 50,
      "outputs": [
        {
          "output_type": "execute_result",
          "data": {
            "text/plain": [
              "torch.Size([16, 3, 2])"
            ]
          },
          "metadata": {},
          "execution_count": 50
        }
      ]
    },
    {
      "cell_type": "code",
      "source": [
        "embd.view(16,6)"
      ],
      "metadata": {
        "colab": {
          "base_uri": "https://localhost:8080/"
        },
        "id": "blZJIkVpv-Gc",
        "outputId": "b9ce0f47-2a4e-415a-d237-890cd5de20db"
      },
      "execution_count": 51,
      "outputs": [
        {
          "output_type": "execute_result",
          "data": {
            "text/plain": [
              "tensor([[ 0.1563,  0.2031,  0.1563,  0.2031,  0.1563,  0.2031],\n",
              "        [ 0.1563,  0.2031,  0.1563,  0.2031,  0.8598,  1.6875],\n",
              "        [ 0.1563,  0.2031,  0.8598,  1.6875,  0.8771, -0.0774],\n",
              "        [ 0.8598,  1.6875,  0.8771, -0.0774,  0.8771, -0.0774],\n",
              "        [ 0.8771, -0.0774,  0.8771, -0.0774,  1.4245, -0.1805],\n",
              "        [ 0.1563,  0.2031,  0.1563,  0.2031,  0.1563,  0.2031],\n",
              "        [ 0.1563,  0.2031,  0.1563,  0.2031,  0.5053, -1.4254],\n",
              "        [ 0.1563,  0.2031,  0.5053, -1.4254,  0.3965,  0.4448],\n",
              "        [ 0.5053, -1.4254,  0.3965,  0.4448, -0.4226,  1.5325],\n",
              "        [ 0.3965,  0.4448, -0.4226,  1.5325,  0.7715, -1.3335],\n",
              "        [-0.4226,  1.5325,  0.7715, -1.3335, -0.4226,  1.5325],\n",
              "        [ 0.7715, -1.3335, -0.4226,  1.5325,  1.4245, -0.1805],\n",
              "        [ 0.1563,  0.2031,  0.1563,  0.2031,  0.1563,  0.2031],\n",
              "        [ 0.1563,  0.2031,  0.1563,  0.2031,  1.4245, -0.1805],\n",
              "        [ 0.1563,  0.2031,  1.4245, -0.1805,  0.7715, -1.3335],\n",
              "        [ 1.4245, -0.1805,  0.7715, -1.3335,  1.4245, -0.1805]])"
            ]
          },
          "metadata": {},
          "execution_count": 51
        }
      ]
    },
    {
      "cell_type": "code",
      "source": [
        "W1 = torch.randn(6, 100)\n",
        "b1 = torch.randn(100)\n",
        "\n",
        "h = torch.tanh(embd.view(embd.shape[0], 6) @ W1 + b1)\n",
        "h"
      ],
      "metadata": {
        "colab": {
          "base_uri": "https://localhost:8080/"
        },
        "id": "yGx4dw91zGD8",
        "outputId": "0b08aa94-4028-4d88-b33b-b88555077732"
      },
      "execution_count": 52,
      "outputs": [
        {
          "output_type": "execute_result",
          "data": {
            "text/plain": [
              "tensor([[-0.0963, -0.4472, -0.8849,  ..., -0.6977,  0.0796, -0.8813],\n",
              "        [ 0.6819,  0.3269, -0.9958,  ..., -0.0842, -0.9987, -0.9993],\n",
              "        [ 0.4496, -0.5242, -0.9963,  ..., -0.5688, -0.9237,  0.7085],\n",
              "        ...,\n",
              "        [ 0.8764,  0.4791, -0.8405,  ..., -0.4494, -0.9456, -0.5065],\n",
              "        [-0.3190,  0.8170, -0.4501,  ..., -0.7751,  0.7802, -0.4318],\n",
              "        [ 0.7092,  0.9332,  0.7269,  ..., -0.9526, -0.9901, -0.9532]])"
            ]
          },
          "metadata": {},
          "execution_count": 52
        }
      ]
    },
    {
      "cell_type": "code",
      "source": [
        "W2 = torch.randn(100, 27)\n",
        "b2 = torch.randn(27)\n",
        "\n",
        "logits = h @ W2 + b2\n",
        "logits"
      ],
      "metadata": {
        "colab": {
          "base_uri": "https://localhost:8080/"
        },
        "id": "p8114Mv5z04j",
        "outputId": "551d9b26-3bce-495b-ee5d-429a7b6c8d22"
      },
      "execution_count": 53,
      "outputs": [
        {
          "output_type": "execute_result",
          "data": {
            "text/plain": [
              "tensor([[-9.9267e+00, -2.6273e+00,  4.9140e+00, -4.2383e+00, -2.0227e+00,\n",
              "         -2.5486e+00, -1.0165e+01,  9.2521e+00,  4.5801e+00, -3.9381e+00,\n",
              "         -9.1730e-01, -7.2660e+00, -1.0691e+01, -7.8783e+00, -6.3563e+00,\n",
              "         -9.7888e-01, -2.0791e+00,  1.8570e+00,  2.6425e+00, -2.2188e+00,\n",
              "         -8.8841e+00,  1.5901e+01, -1.1087e+01,  9.8384e+00,  2.7424e+00,\n",
              "          4.7518e+00,  7.5922e-01],\n",
              "        [-8.8270e+00, -2.3601e+00,  4.2100e+00, -5.4560e+00,  1.9522e+00,\n",
              "         -6.8630e+00, -9.2107e+00,  1.9005e+01,  1.5722e+01, -5.4658e+00,\n",
              "         -3.1908e-01, -5.1307e+00, -1.5326e+01,  4.0116e+00,  7.7939e+00,\n",
              "          7.8528e-01,  4.6285e+00, -1.6431e+00,  2.4217e+01, -7.7707e+00,\n",
              "         -6.4581e+00,  1.0153e+01, -3.0972e+00,  7.0060e+00,  3.4978e+00,\n",
              "          8.5612e-01,  7.8188e+00],\n",
              "        [-1.4341e+00, -7.7178e+00,  1.0679e+01,  3.2498e+00,  1.8306e-01,\n",
              "         -1.7813e+01, -1.8201e+00,  8.1347e+00, -4.6498e+00, -8.0288e+00,\n",
              "          2.3206e+00, -4.2729e+00, -1.5095e+01, -2.2595e+00,  1.2455e-01,\n",
              "         -1.0620e+01,  2.7614e+00,  6.2266e+00,  1.2328e+01, -4.2574e+00,\n",
              "         -3.5640e+00,  6.6674e+00,  4.5583e-01, -4.5963e-01, -1.8340e+00,\n",
              "          1.8591e+01, -1.7326e+01],\n",
              "        [-3.9342e+00, -4.5047e-01,  8.2857e+00,  3.8362e+00, -9.1201e+00,\n",
              "         -5.7184e+00, -7.0316e+00,  6.9641e+00,  4.6252e+00, -3.9088e-02,\n",
              "         -1.0435e+01, -1.2156e+01, -5.7696e-01, -1.5807e+01,  2.1778e+00,\n",
              "         -9.1346e+00, -6.8095e+00,  3.3445e+00,  7.3213e+00, -2.2424e+00,\n",
              "         -1.2379e+01,  1.4356e+01, -1.5807e+00,  1.5633e+01,  7.6447e-01,\n",
              "          3.4069e+00, -3.2019e+00],\n",
              "        [-1.0468e+01,  6.4467e+00,  2.7738e+00,  3.5692e+00,  7.7969e-01,\n",
              "         -9.9806e+00, -1.9471e+01,  2.3279e+01,  8.4155e+00, -9.6409e+00,\n",
              "         -3.8424e+00, -1.2069e+01, -5.9295e+00, -4.8513e+00,  6.8278e+00,\n",
              "         -1.0685e+00,  9.0044e-02,  2.8038e+00, -1.9354e+00, -1.6118e+01,\n",
              "         -9.3728e+00,  1.1286e+01, -6.0709e+00,  6.5226e+00, -5.3429e+00,\n",
              "          4.6909e+00,  2.9722e+00],\n",
              "        [-9.9267e+00, -2.6273e+00,  4.9140e+00, -4.2383e+00, -2.0227e+00,\n",
              "         -2.5486e+00, -1.0165e+01,  9.2521e+00,  4.5801e+00, -3.9381e+00,\n",
              "         -9.1730e-01, -7.2660e+00, -1.0691e+01, -7.8783e+00, -6.3563e+00,\n",
              "         -9.7888e-01, -2.0791e+00,  1.8570e+00,  2.6425e+00, -2.2188e+00,\n",
              "         -8.8841e+00,  1.5901e+01, -1.1087e+01,  9.8384e+00,  2.7424e+00,\n",
              "          4.7518e+00,  7.5922e-01],\n",
              "        [ 4.1968e+00, -3.5720e-01,  2.1147e+00,  2.0731e+00,  2.3274e+00,\n",
              "          2.1638e+00, -6.7115e+00, -6.2915e+00,  2.6553e-01, -8.5315e+00,\n",
              "         -1.0158e-02, -1.0663e+01, -3.1870e+00, -1.5271e+01, -4.8699e+00,\n",
              "         -2.7718e+00, -8.6666e+00,  5.1360e+00, -1.8313e+01, -4.8250e+00,\n",
              "         -1.1131e+00,  2.1010e+01, -1.0503e+01, -1.7244e+00, -7.4909e-01,\n",
              "          8.6174e+00, -1.2234e+01],\n",
              "        [-1.8343e+01,  7.7715e+00, -7.4155e+00, -8.2887e+00,  4.9891e+00,\n",
              "          8.1899e+00, -1.0321e+01,  1.5812e+01,  8.4095e+00, -5.1386e+00,\n",
              "         -7.1726e+00, -1.4861e+01, -1.2010e+00, -1.1696e+01, -8.3831e+00,\n",
              "          6.3931e-02, -1.0886e+00,  5.0376e-01,  7.7436e-01, -1.2302e+01,\n",
              "         -8.8064e-01,  9.4375e+00, -6.7941e+00,  1.7621e+01,  9.3106e-01,\n",
              "         -9.1344e+00,  1.1977e+01],\n",
              "        [-5.6312e+00, -5.1374e-01,  2.6144e+00,  4.7733e+00,  4.8788e+00,\n",
              "         -5.3290e+00, -2.0723e+01,  1.1327e+01,  2.0747e+00,  2.3053e-01,\n",
              "          8.3430e+00,  6.5127e+00, -1.7542e+01,  8.3275e+00,  2.9607e-01,\n",
              "          3.3249e+00,  1.0962e+01,  5.8104e-02,  1.3515e+01,  7.0152e+00,\n",
              "         -2.8112e+00, -3.4132e+00,  6.9199e-01,  2.9029e+00,  1.1955e+01,\n",
              "         -3.6019e-03,  1.4228e+01],\n",
              "        [ 1.0016e+01, -8.5072e+00,  2.6504e+00,  1.9252e+00,  4.4941e+00,\n",
              "         -5.6030e+00, -3.7740e+00, -1.2195e+01,  3.4121e-01, -1.1973e+01,\n",
              "         -6.8958e+00, -3.6982e+00, -8.6458e+00, -1.2537e+01,  1.6805e+00,\n",
              "         -3.5685e+00, -5.9136e+00,  2.0735e+00, -7.7505e+00, -1.7619e+00,\n",
              "         -2.8538e+00,  2.8379e+01, -1.2202e+01, -4.0843e+00,  2.3362e+00,\n",
              "          1.5954e+01, -1.7722e+01],\n",
              "        [-1.9678e+01,  1.8851e+00, -6.1731e+00, -6.4456e+00, -6.1774e+00,\n",
              "          8.8326e+00,  5.2050e+00,  1.0463e+01,  3.3585e+00,  4.8904e-01,\n",
              "          5.8143e+00, -1.1601e+01,  4.8054e+00, -7.0756e+00, -9.9829e+00,\n",
              "          5.7188e+00,  3.2032e-01, -3.4819e+00,  1.7399e+01, -8.1410e+00,\n",
              "          1.7604e+00,  4.3909e+00, -1.5420e+00,  1.6816e+01,  7.1031e+00,\n",
              "         -8.0822e+00,  2.6566e+00],\n",
              "        [ 4.3097e+00, -1.5972e-02,  3.0039e+00,  3.4597e+00,  7.7716e+00,\n",
              "         -1.0992e+01, -1.5415e+01,  4.2811e+00,  8.9555e+00, -9.0812e+00,\n",
              "          4.7167e+00,  6.5156e+00, -1.7768e+01,  1.4738e+00,  8.8376e+00,\n",
              "         -2.5564e+00,  8.2839e+00, -2.1437e+00, -9.8497e-01,  1.2063e+00,\n",
              "         -8.0621e+00,  2.1757e+01, -1.3324e+01, -9.8097e+00,  2.7507e+00,\n",
              "          1.2368e+01, -6.0704e+00],\n",
              "        [-9.9267e+00, -2.6273e+00,  4.9140e+00, -4.2383e+00, -2.0227e+00,\n",
              "         -2.5486e+00, -1.0165e+01,  9.2521e+00,  4.5801e+00, -3.9381e+00,\n",
              "         -9.1730e-01, -7.2660e+00, -1.0691e+01, -7.8783e+00, -6.3563e+00,\n",
              "         -9.7888e-01, -2.0791e+00,  1.8570e+00,  2.6425e+00, -2.2188e+00,\n",
              "         -8.8841e+00,  1.5901e+01, -1.1087e+01,  9.8384e+00,  2.7424e+00,\n",
              "          4.7518e+00,  7.5922e-01],\n",
              "        [-1.0329e+01,  5.2171e+00,  3.0499e+00, -6.5169e-01,  1.3416e+00,\n",
              "         -1.6102e+00, -1.4403e+01,  1.2674e+01,  6.3921e+00, -1.4006e+01,\n",
              "         -5.7465e+00, -1.0659e+01, -6.9631e+00, -5.1177e+00,  1.7564e+00,\n",
              "         -3.6048e+00, -2.5654e+00,  1.8860e+00, -2.5382e+00, -1.4060e+01,\n",
              "         -7.0253e+00,  2.1940e+01, -7.9922e+00,  3.3648e+00, -4.2254e+00,\n",
              "          2.9609e+00,  5.9296e-01],\n",
              "        [-7.6688e+00, -3.5523e-01,  4.0695e+00,  2.7026e+00,  1.2064e-02,\n",
              "         -3.8949e+00, -5.5058e+00,  4.5175e+00, -6.4783e+00, -8.4945e+00,\n",
              "          4.6843e+00, -1.4700e+01,  2.4349e-01, -1.3445e+01, -8.3720e+00,\n",
              "         -7.6062e+00, -8.6738e+00,  6.1159e+00, -1.4773e+01, -1.0285e+01,\n",
              "         -3.4119e+00,  4.2136e+00, -3.8504e+00,  4.0536e+00, -1.2450e+00,\n",
              "          6.3196e+00, -9.8064e+00],\n",
              "        [-6.2896e+00,  9.1114e+00,  7.3262e-01,  4.6511e+00,  3.9921e+00,\n",
              "         -6.7058e+00, -2.1482e+01,  2.3060e+01,  1.0708e+01, -5.3587e+00,\n",
              "         -4.6782e+00, -1.2056e+01, -1.0962e+00, -5.8880e+00,  1.0076e+01,\n",
              "          9.7427e-01,  2.2590e+00,  5.0826e+00, -4.8653e+00, -1.1684e+01,\n",
              "         -3.1511e+00,  7.5454e+00, -3.5685e+00,  5.8114e+00, -5.2715e+00,\n",
              "          6.2086e-01,  5.7676e+00]])"
            ]
          },
          "metadata": {},
          "execution_count": 53
        }
      ]
    },
    {
      "cell_type": "code",
      "source": [
        "counts = logits.exp()\n",
        "prob = counts / counts.sum(1, keepdims=True)\n",
        "loss = -prob[torch.arange(embd.shape[0]), y].log().mean()\n",
        "loss"
      ],
      "metadata": {
        "colab": {
          "base_uri": "https://localhost:8080/"
        },
        "id": "rVWemU010_hV",
        "outputId": "ec51e1c6-5abe-4966-8a21-224a73d9e305"
      },
      "execution_count": 54,
      "outputs": [
        {
          "output_type": "execute_result",
          "data": {
            "text/plain": [
              "tensor(21.6769)"
            ]
          },
          "metadata": {},
          "execution_count": 54
        }
      ]
    },
    {
      "cell_type": "code",
      "source": [
        "F.cross_entropy(logits, y)"
      ],
      "metadata": {
        "colab": {
          "base_uri": "https://localhost:8080/"
        },
        "id": "d-qZoRGV1WbR",
        "outputId": "be7a99bd-8be5-4647-e9b0-52b63f9a50da"
      },
      "execution_count": 55,
      "outputs": [
        {
          "output_type": "execute_result",
          "data": {
            "text/plain": [
              "tensor(21.6769)"
            ]
          },
          "metadata": {},
          "execution_count": 55
        }
      ]
    },
    {
      "cell_type": "code",
      "source": [],
      "metadata": {
        "id": "a7Kgm0I18Bpm"
      },
      "execution_count": null,
      "outputs": []
    },
    {
      "cell_type": "code",
      "source": [
        "# build the dataset\n",
        "block_size =3   # num of chars we take to predict the next one\n",
        "X, y = [], []\n",
        "\n",
        "for word in words:\n",
        "\n",
        "  context = [0] * block_size\n",
        "  for char in word + '.':\n",
        "    ix = str_to_int[char]\n",
        "    X.append(context)\n",
        "    y.append(ix)\n",
        "\n",
        "    context = context[1:] + [ix]\n",
        "\n",
        "X = torch.tensor(X)\n",
        "y = torch.tensor(y)"
      ],
      "metadata": {
        "id": "SNOeck3Q8Bnn"
      },
      "execution_count": 97,
      "outputs": []
    },
    {
      "cell_type": "code",
      "source": [
        "# parameters\n",
        "C = torch.randn((27,2))\n",
        "W1 = torch.randn(6, 100)\n",
        "b1 = torch.randn(100)\n",
        "W2 = torch.randn(100, 27)\n",
        "b2 = torch.randn(27)\n",
        "\n",
        "parameters = [C, W1, b1, W2, b2]\n",
        "\n",
        "n_param = sum(p.nelement() for p in parameters)\n",
        "print(n_param)"
      ],
      "metadata": {
        "colab": {
          "base_uri": "https://localhost:8080/"
        },
        "id": "205F9zSg2GL0",
        "outputId": "b591f93d-9fec-44bf-fab8-c47abd717a7d"
      },
      "execution_count": 98,
      "outputs": [
        {
          "output_type": "stream",
          "name": "stdout",
          "text": [
            "3481\n"
          ]
        }
      ]
    },
    {
      "cell_type": "code",
      "source": [
        "for param in parameters:\n",
        "  param.requires_grad = True\n",
        "\n",
        "for _ in range(1000):\n",
        "    # minibatch\n",
        "    ix = torch.randint(0, X.shape[0], (32,))   #batch of size 32\n",
        "\n",
        "    # forward pass\n",
        "    embd = C[X[ix]]\n",
        "    h = torch.tanh(embd.view(embd.shape[0], 6) @ W1 + b1)\n",
        "    logits = h @ W2 + b2\n",
        "    loss = F.cross_entropy(logits, y[ix])\n",
        "\n",
        "    # backward pass\n",
        "    for param in parameters:\n",
        "      param.grad = None\n",
        "\n",
        "    loss.backward()\n",
        "\n",
        "    # update\n",
        "    for param in parameters:\n",
        "      param.data += -0.1 * param.grad\n",
        "\n",
        "# print(loss.item())"
      ],
      "metadata": {
        "id": "ToDdadcu4yRg"
      },
      "execution_count": 99,
      "outputs": []
    },
    {
      "cell_type": "code",
      "source": [
        "embd = C[X]\n",
        "h = torch.tanh(embd.view(embd.shape[0], 6) @ W1 + b1)\n",
        "logits = h @ W2 + b2\n",
        "loss = F.cross_entropy(logits, y)\n",
        "loss.item()"
      ],
      "metadata": {
        "colab": {
          "base_uri": "https://localhost:8080/"
        },
        "id": "qIrxzg577LM9",
        "outputId": "1f313e56-b060-4fb4-90ca-565006df4bbb"
      },
      "execution_count": 100,
      "outputs": [
        {
          "output_type": "execute_result",
          "data": {
            "text/plain": [
              "2.592813491821289"
            ]
          },
          "metadata": {},
          "execution_count": 100
        }
      ]
    },
    {
      "cell_type": "code",
      "source": [],
      "metadata": {
        "id": "aMZRa7WvAyDB"
      },
      "execution_count": null,
      "outputs": []
    }
  ]
}