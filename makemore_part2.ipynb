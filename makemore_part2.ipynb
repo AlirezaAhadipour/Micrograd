{
  "nbformat": 4,
  "nbformat_minor": 0,
  "metadata": {
    "colab": {
      "provenance": [],
      "authorship_tag": "ABX9TyNjzBsTLMF57FI3fCUguozL",
      "include_colab_link": true
    },
    "kernelspec": {
      "name": "python3",
      "display_name": "Python 3"
    },
    "language_info": {
      "name": "python"
    }
  },
  "cells": [
    {
      "cell_type": "markdown",
      "metadata": {
        "id": "view-in-github",
        "colab_type": "text"
      },
      "source": [
        "<a href=\"https://colab.research.google.com/github/AlirezaAhadipour/NN-from-scratch/blob/main/makemore_part2.ipynb\" target=\"_parent\"><img src=\"https://colab.research.google.com/assets/colab-badge.svg\" alt=\"Open In Colab\"/></a>"
      ]
    },
    {
      "cell_type": "code",
      "execution_count": 3,
      "metadata": {
        "id": "G0cuU7sgaJLt"
      },
      "outputs": [],
      "source": [
        "import torch\n",
        "import torch.nn.functional as F\n",
        "import matplotlib.pyplot as plt\n",
        "%matplotlib inline"
      ]
    },
    {
      "cell_type": "code",
      "source": [
        "words = open('names.txt', 'r').read().splitlines()\n",
        "words[:5]"
      ],
      "metadata": {
        "colab": {
          "base_uri": "https://localhost:8080/"
        },
        "id": "nlzKFnfI31ay",
        "outputId": "b297b2db-3a7d-43bd-c9f0-8457d567e4a4"
      },
      "execution_count": 4,
      "outputs": [
        {
          "output_type": "execute_result",
          "data": {
            "text/plain": [
              "['emma', 'olivia', 'ava', 'isabella', 'sophia']"
            ]
          },
          "metadata": {},
          "execution_count": 4
        }
      ]
    },
    {
      "cell_type": "code",
      "source": [
        "# build the vocabulary of chars and mapping to/from integers\n",
        "chars = sorted(list(set(''.join(words))))\n",
        "\n",
        "str_to_int = {s:i+1 for i , s in enumerate(chars)}\n",
        "str_to_int['.'] = 0\n",
        "\n",
        "int_to_str = {i:s for s, i in str_to_int.items()}\n",
        "\n",
        "print(int_to_str)"
      ],
      "metadata": {
        "colab": {
          "base_uri": "https://localhost:8080/"
        },
        "id": "zk9X4XA84sdc",
        "outputId": "9176f3ed-71ef-42fa-b0f8-f7576cd0efbe"
      },
      "execution_count": 5,
      "outputs": [
        {
          "output_type": "stream",
          "name": "stdout",
          "text": [
            "{1: 'a', 2: 'b', 3: 'c', 4: 'd', 5: 'e', 6: 'f', 7: 'g', 8: 'h', 9: 'i', 10: 'j', 11: 'k', 12: 'l', 13: 'm', 14: 'n', 15: 'o', 16: 'p', 17: 'q', 18: 'r', 19: 's', 20: 't', 21: 'u', 22: 'v', 23: 'w', 24: 'x', 25: 'y', 26: 'z', 0: '.'}\n"
          ]
        }
      ]
    },
    {
      "cell_type": "code",
      "source": [
        "# build the dataset\n",
        "block_size =3   # num of chars we take to predict the next one\n",
        "X, y = [], []\n",
        "\n",
        "for word in words[:3]:\n",
        "  print(word)\n",
        "\n",
        "  context = [0] * block_size\n",
        "  for char in word + '.':\n",
        "    ix = str_to_int[char]\n",
        "    X.append(context)\n",
        "    y.append(ix)\n",
        "\n",
        "    print(''.join(int_to_str[i] for i in context), '--->', int_to_str[ix])\n",
        "    context = context[1:] + [ix]\n",
        "\n",
        "X = torch.tensor(X)\n",
        "y = torch.tensor(y)"
      ],
      "metadata": {
        "id": "5dcxtsdo5tP1",
        "colab": {
          "base_uri": "https://localhost:8080/"
        },
        "outputId": "4187c8af-7170-4383-faf5-8a17d811ea04"
      },
      "execution_count": 6,
      "outputs": [
        {
          "output_type": "stream",
          "name": "stdout",
          "text": [
            "emma\n",
            "... ---> e\n",
            "..e ---> m\n",
            ".em ---> m\n",
            "emm ---> a\n",
            "mma ---> .\n",
            "olivia\n",
            "... ---> o\n",
            "..o ---> l\n",
            ".ol ---> i\n",
            "oli ---> v\n",
            "liv ---> i\n",
            "ivi ---> a\n",
            "via ---> .\n",
            "ava\n",
            "... ---> a\n",
            "..a ---> v\n",
            ".av ---> a\n",
            "ava ---> .\n"
          ]
        }
      ]
    },
    {
      "cell_type": "code",
      "source": [
        "X.shape, X.dtype, y.shape, y.dtype"
      ],
      "metadata": {
        "id": "Dwjpp5ep6Vmh",
        "colab": {
          "base_uri": "https://localhost:8080/"
        },
        "outputId": "cc0d4da9-f3b7-4cf0-84a7-45f1fcb04cf1"
      },
      "execution_count": 7,
      "outputs": [
        {
          "output_type": "execute_result",
          "data": {
            "text/plain": [
              "(torch.Size([16, 3]), torch.int64, torch.Size([16]), torch.int64)"
            ]
          },
          "metadata": {},
          "execution_count": 7
        }
      ]
    },
    {
      "cell_type": "code",
      "source": [
        "C = torch.randn((27,2))\n",
        "\n",
        "embd = C[X]\n",
        "embd.shape"
      ],
      "metadata": {
        "colab": {
          "base_uri": "https://localhost:8080/"
        },
        "id": "SWuF1LgK-231",
        "outputId": "d2341ade-a7fb-4278-9fa1-2c35a0de0eac"
      },
      "execution_count": 8,
      "outputs": [
        {
          "output_type": "execute_result",
          "data": {
            "text/plain": [
              "torch.Size([16, 3, 2])"
            ]
          },
          "metadata": {},
          "execution_count": 8
        }
      ]
    },
    {
      "cell_type": "code",
      "source": [
        "embd.view(16,6)"
      ],
      "metadata": {
        "colab": {
          "base_uri": "https://localhost:8080/"
        },
        "id": "blZJIkVpv-Gc",
        "outputId": "b13462f6-d8fa-4bf8-84c7-d83f287f99b9"
      },
      "execution_count": 9,
      "outputs": [
        {
          "output_type": "execute_result",
          "data": {
            "text/plain": [
              "tensor([[ 0.5836, -0.2747,  0.5836, -0.2747,  0.5836, -0.2747],\n",
              "        [ 0.5836, -0.2747,  0.5836, -0.2747,  0.0940, -0.7404],\n",
              "        [ 0.5836, -0.2747,  0.0940, -0.7404, -1.3847, -0.3826],\n",
              "        [ 0.0940, -0.7404, -1.3847, -0.3826, -1.3847, -0.3826],\n",
              "        [-1.3847, -0.3826, -1.3847, -0.3826, -0.2904, -0.3112],\n",
              "        [ 0.5836, -0.2747,  0.5836, -0.2747,  0.5836, -0.2747],\n",
              "        [ 0.5836, -0.2747,  0.5836, -0.2747, -0.7683,  0.4309],\n",
              "        [ 0.5836, -0.2747, -0.7683,  0.4309,  0.3827, -0.3840],\n",
              "        [-0.7683,  0.4309,  0.3827, -0.3840, -0.6390, -0.8424],\n",
              "        [ 0.3827, -0.3840, -0.6390, -0.8424,  1.0732, -0.2185],\n",
              "        [-0.6390, -0.8424,  1.0732, -0.2185, -0.6390, -0.8424],\n",
              "        [ 1.0732, -0.2185, -0.6390, -0.8424, -0.2904, -0.3112],\n",
              "        [ 0.5836, -0.2747,  0.5836, -0.2747,  0.5836, -0.2747],\n",
              "        [ 0.5836, -0.2747,  0.5836, -0.2747, -0.2904, -0.3112],\n",
              "        [ 0.5836, -0.2747, -0.2904, -0.3112,  1.0732, -0.2185],\n",
              "        [-0.2904, -0.3112,  1.0732, -0.2185, -0.2904, -0.3112]])"
            ]
          },
          "metadata": {},
          "execution_count": 9
        }
      ]
    },
    {
      "cell_type": "code",
      "source": [
        "W1 = torch.randn(6, 100)\n",
        "b1 = torch.randn(100)\n",
        "\n",
        "h = torch.tanh(embd.view(embd.shape[0], 6) @ W1 + b1)\n",
        "h"
      ],
      "metadata": {
        "colab": {
          "base_uri": "https://localhost:8080/"
        },
        "id": "yGx4dw91zGD8",
        "outputId": "619849a9-9a7b-415a-ee70-825904b1c3e6"
      },
      "execution_count": 10,
      "outputs": [
        {
          "output_type": "execute_result",
          "data": {
            "text/plain": [
              "tensor([[-2.6138e-01, -8.8490e-01, -1.0396e-01,  ..., -5.8605e-01,\n",
              "         -9.9224e-01, -9.1575e-01],\n",
              "        [-8.1217e-04, -8.0681e-01,  1.6420e-01,  ..., -8.3550e-01,\n",
              "         -9.8173e-01, -5.6618e-01],\n",
              "        [ 5.7394e-01, -8.5786e-01,  9.9187e-01,  ..., -8.8825e-01,\n",
              "         -8.4131e-01,  9.9784e-01],\n",
              "        ...,\n",
              "        [ 4.6255e-01, -7.6231e-01,  6.8288e-01,  ..., -7.1495e-01,\n",
              "         -9.3428e-01,  2.1327e-02],\n",
              "        [-7.0001e-01, -8.7415e-01,  1.9820e-01,  ..., -5.9415e-01,\n",
              "         -9.9765e-01, -7.2466e-01],\n",
              "        [ 6.8059e-01,  1.4183e-01, -8.7409e-01,  ..., -2.8493e-01,\n",
              "         -9.6389e-01, -8.8213e-01]])"
            ]
          },
          "metadata": {},
          "execution_count": 10
        }
      ]
    },
    {
      "cell_type": "code",
      "source": [
        "W2 = torch.randn(100, 27)\n",
        "b2 = torch.randn(27)\n",
        "\n",
        "logits = h @ W2 + b2\n",
        "logits"
      ],
      "metadata": {
        "colab": {
          "base_uri": "https://localhost:8080/"
        },
        "id": "p8114Mv5z04j",
        "outputId": "97685d3d-a862-4309-c65d-427edcf88970"
      },
      "execution_count": 11,
      "outputs": [
        {
          "output_type": "execute_result",
          "data": {
            "text/plain": [
              "tensor([[ -3.1785,   9.1847,   6.5409, -13.3372,  -8.1894,   9.4643,   1.9059,\n",
              "          -8.4513, -14.8332,  -6.4604, -15.2068,  -1.7253,  -5.4350,  -3.9658,\n",
              "           3.8276,  -6.2849, -10.1220,   8.6190, -12.2643,   6.1242,   2.2915,\n",
              "           3.6802,   6.8184,  -0.4192,   3.3162,  -0.9008,  -2.4685],\n",
              "        [  6.8965,  10.0857,   4.3416,  -9.6384, -11.7044,   1.6290,   7.7047,\n",
              "          -9.9062, -14.6579, -10.0547, -12.6289,   2.2861,  -2.4043,  -3.7079,\n",
              "           1.4497,  -5.3710, -13.5866,   8.6432, -12.5857,   8.4125,   1.1910,\n",
              "           1.7824,   2.2760,  -1.1562,   4.2010,   0.7358,  -1.9599],\n",
              "        [  3.3673,   1.6389,   3.1809, -19.6298,  -3.6038,   5.6918,   4.6301,\n",
              "         -13.9430,  -4.0517,   1.4025, -15.9850,  -0.6841,  -8.5936, -11.9416,\n",
              "          -4.7284,  -4.1680,  -4.2295,   3.0947,  -1.3812,   4.6272,  -1.6558,\n",
              "           4.4245,   1.2547,  -0.4825,  -4.5935,   3.2773,   4.4925],\n",
              "        [  4.3500,  -6.3247,   4.8005, -11.4578,   4.2272,  -6.1618,   3.3752,\n",
              "         -12.2948,   3.8924,   0.0617, -14.0712,   3.1579,  -4.7962, -11.6987,\n",
              "          -8.0582,   3.4321,   1.2293,   3.5822,  -0.9111,  15.1160,  -2.2741,\n",
              "          -3.5288,  -7.9127,   2.2643, -10.3915,  -1.8480,   2.0258],\n",
              "        [ -0.7278,  -5.1125,  -2.2793,  -2.6768,  20.5131, -12.0306, -12.1480,\n",
              "          -2.4325,   3.4206,   0.6047,  -4.9904,   5.8406, -10.0001,  -3.8002,\n",
              "          -3.0932,   0.0493,   1.3856,   6.5809,   5.1677,  17.0892,  -8.2111,\n",
              "           0.6181, -11.3251,   7.3223,  -5.4997,  -9.8920,   5.9853],\n",
              "        [ -3.1785,   9.1847,   6.5409, -13.3372,  -8.1894,   9.4643,   1.9059,\n",
              "          -8.4513, -14.8332,  -6.4604, -15.2068,  -1.7253,  -5.4350,  -3.9658,\n",
              "           3.8276,  -6.2849, -10.1220,   8.6190, -12.2643,   6.1242,   2.2915,\n",
              "           3.6802,   6.8184,  -0.4192,   3.3162,  -0.9008,  -2.4685],\n",
              "        [  3.8897,   2.3719,  -1.2572, -14.5745, -11.4978,  10.3134,   5.8838,\n",
              "          -7.6462,  -6.0221,   1.7970, -14.4875,  -1.1844, -11.8630,  -7.8401,\n",
              "          -7.3116,  -3.8417,   2.2869,   2.3260,  -5.1825,   5.4144,   2.0607,\n",
              "           3.8350,   7.0293,  -0.5714,  -1.4624,   3.9968,   7.3931],\n",
              "        [ -0.3882,  -0.0977,   9.4816, -10.6898,   0.7413,  -7.7683,  -3.9132,\n",
              "          -5.5190,  -6.7133, -10.4639, -16.6603,   6.1442,   2.9893,   0.0792,\n",
              "          -2.6076,   0.9788,  -9.2756,  12.2398, -11.3444,  14.4875,  -2.8003,\n",
              "           1.6497,   1.2865,  -3.5616, -12.7660,  -4.8844,   6.8021],\n",
              "        [  4.8533,  11.2439,   1.3608,  -1.1324,  -3.5820,   2.9517, -13.5349,\n",
              "          -5.7537,  -1.4736,   0.3920,  -7.8710,  10.6290,  -4.8640,  -6.3486,\n",
              "           9.7176,  -5.5022,  -7.7541,   8.1541,   0.1432,  -3.7441,  -0.4961,\n",
              "           2.9120,  -7.2081,  10.5753,  -2.2422,   4.2389,   7.3581],\n",
              "        [ -7.9803,   6.3081,   8.4769, -15.0610,  -1.2495,   2.3168,  -3.8833,\n",
              "          -3.9396, -12.9402,   1.9720, -14.4638,  -9.3449,  -6.4804,  -4.2837,\n",
              "          -6.4021,  -7.8948,  -8.9636,   8.1954,  -7.9000,  14.9104,   1.0276,\n",
              "          -4.1962,  -5.4853,  -0.0382,  -4.3706,  -9.7377, -12.6835],\n",
              "        [  8.8069,   5.2090,  -1.7634,   3.3561,   3.9549,  10.3006,   1.0791,\n",
              "          -8.8301,  -7.5523,  -6.7916, -13.0126,   8.8721,  -4.0678,  -2.2484,\n",
              "           5.9662,  -0.7654,  -9.2889,  -0.2385,  -7.8637,   4.8428,  -1.5436,\n",
              "           4.3981,  -2.8089,   5.8869,  11.9210,   6.0787,   6.1210],\n",
              "        [ -2.4137,   0.5311,   2.4902, -21.0820,  -4.3438,  -5.7225,   2.4503,\n",
              "          -9.1121,  -8.0429,  -2.8706, -10.5666,  -4.5734,  -4.9569, -10.0028,\n",
              "         -11.0342,  -2.2228,  -8.0361,   8.1852,  -7.0662,  21.4539,  -1.7116,\n",
              "          -4.5063,  -2.8359,  -7.1842,  -6.6475,  -6.0343,   2.4754],\n",
              "        [ -3.1785,   9.1847,   6.5409, -13.3372,  -8.1894,   9.4643,   1.9059,\n",
              "          -8.4513, -14.8332,  -6.4604, -15.2068,  -1.7253,  -5.4350,  -3.9658,\n",
              "           3.8276,  -6.2849, -10.1220,   8.6190, -12.2643,   6.1242,   2.2915,\n",
              "           3.6802,   6.8184,  -0.4192,   3.3162,  -0.9008,  -2.4685],\n",
              "        [  6.7800,   9.5088,   2.3780, -14.5303, -12.4418,   4.3628,   7.8397,\n",
              "         -10.8197, -14.1870,  -6.3445, -13.9704,   1.2403,  -4.9336,  -6.1451,\n",
              "          -2.2666,  -5.9350,  -9.4653,   6.3935, -10.0381,   9.4834,   0.5736,\n",
              "           1.7664,   6.7340,  -2.9224,   1.1584,   2.4176,   1.0816],\n",
              "        [ -6.2960,   4.2845,  10.9909, -11.7519,  -1.3346,   3.6885,  -3.0499,\n",
              "          -4.1171, -13.6563,  -5.6266, -15.3617,  -4.7491,  -5.2288,  -2.6156,\n",
              "          -0.7753,  -7.6442,  -9.6306,   8.9969, -10.5785,  10.8466,  -0.3123,\n",
              "          -0.7143,  -1.1823,  -2.7882,  -6.6180,  -6.0504,  -4.5712],\n",
              "        [  6.3689,   8.9135,  -3.8943,  -3.4661,  -5.2769,   9.6143,  -2.6669,\n",
              "          -8.4251,  -8.6515,  -6.8319, -11.3160,   8.0430,  -7.1606,  -0.9702,\n",
              "           9.3320,  -3.6576,  -6.6678,   4.9478,  -8.0253,   1.3183,   0.5228,\n",
              "           2.8855,   0.8436,   2.8944,  12.8668,   7.2893,   6.5264]])"
            ]
          },
          "metadata": {},
          "execution_count": 11
        }
      ]
    },
    {
      "cell_type": "code",
      "source": [
        "counts = logits.exp()\n",
        "prob = counts / counts.sum(1, keepdims=True)\n",
        "loss = -prob[torch.arange(embd.shape[0]), y].log().mean()\n",
        "loss"
      ],
      "metadata": {
        "colab": {
          "base_uri": "https://localhost:8080/"
        },
        "id": "rVWemU010_hV",
        "outputId": "096ec7f6-8628-434a-e444-114ae8d2faf5"
      },
      "execution_count": 12,
      "outputs": [
        {
          "output_type": "execute_result",
          "data": {
            "text/plain": [
              "tensor(13.8891)"
            ]
          },
          "metadata": {},
          "execution_count": 12
        }
      ]
    },
    {
      "cell_type": "code",
      "source": [
        "F.cross_entropy(logits, y)"
      ],
      "metadata": {
        "colab": {
          "base_uri": "https://localhost:8080/"
        },
        "id": "d-qZoRGV1WbR",
        "outputId": "66236a21-259f-40eb-864f-ca5473b74402"
      },
      "execution_count": 13,
      "outputs": [
        {
          "output_type": "execute_result",
          "data": {
            "text/plain": [
              "tensor(13.8891)"
            ]
          },
          "metadata": {},
          "execution_count": 13
        }
      ]
    },
    {
      "cell_type": "code",
      "source": [],
      "metadata": {
        "id": "a7Kgm0I18Bpm"
      },
      "execution_count": 13,
      "outputs": []
    },
    {
      "cell_type": "code",
      "source": [],
      "metadata": {
        "id": "2hHNoWPgIR5U"
      },
      "execution_count": 13,
      "outputs": []
    },
    {
      "cell_type": "code",
      "source": [],
      "metadata": {
        "id": "j2PCXLxnIR3T"
      },
      "execution_count": 13,
      "outputs": []
    },
    {
      "cell_type": "code",
      "source": [
        "# build the dataset\n",
        "block_size =3   # num of chars we take to predict the next one\n",
        "X, y = [], []\n",
        "\n",
        "for word in words:\n",
        "\n",
        "  context = [0] * block_size\n",
        "  for char in word + '.':\n",
        "    ix = str_to_int[char]\n",
        "    X.append(context)\n",
        "    y.append(ix)\n",
        "\n",
        "    context = context[1:] + [ix]\n",
        "\n",
        "X = torch.tensor(X)\n",
        "y = torch.tensor(y)"
      ],
      "metadata": {
        "id": "SNOeck3Q8Bnn"
      },
      "execution_count": 14,
      "outputs": []
    },
    {
      "cell_type": "code",
      "source": [
        "# parameters\n",
        "C = torch.randn((27,10))\n",
        "W1 = torch.randn(30, 200)\n",
        "b1 = torch.randn(200)\n",
        "W2 = torch.randn(200, 27)\n",
        "b2 = torch.randn(27)\n",
        "\n",
        "parameters = [C, W1, b1, W2, b2]\n",
        "\n",
        "n_param = sum(p.nelement() for p in parameters)\n",
        "print(n_param)"
      ],
      "metadata": {
        "colab": {
          "base_uri": "https://localhost:8080/"
        },
        "id": "205F9zSg2GL0",
        "outputId": "57d01d1d-0f51-4ab7-d842-81fa9697b57c"
      },
      "execution_count": 15,
      "outputs": [
        {
          "output_type": "stream",
          "name": "stdout",
          "text": [
            "11897\n"
          ]
        }
      ]
    },
    {
      "cell_type": "code",
      "source": [
        "lri = []\n",
        "lossi = []\n",
        "stepi = []"
      ],
      "metadata": {
        "id": "em5A1g8EId07"
      },
      "execution_count": 16,
      "outputs": []
    },
    {
      "cell_type": "code",
      "source": [
        "for param in parameters:\n",
        "  param.requires_grad = True\n",
        "\n",
        "for i in range(200000):\n",
        "    # minibatch\n",
        "    ix = torch.randint(0, X.shape[0], (32,))   #batch of size 32\n",
        "\n",
        "    # forward pass\n",
        "    embd = C[X[ix]]\n",
        "    h = torch.tanh(embd.view(embd.shape[0], 30) @ W1 + b1)\n",
        "    logits = h @ W2 + b2\n",
        "    loss = F.cross_entropy(logits, y[ix])\n",
        "\n",
        "    # backward pass\n",
        "    for param in parameters:\n",
        "      param.grad = None\n",
        "\n",
        "    loss.backward()\n",
        "\n",
        "    # update\n",
        "    lr = 0.1 if i < 100000 else 0.01\n",
        "    for param in parameters:\n",
        "      param.data += -lr * param.grad\n",
        "\n",
        "    # track stats\n",
        "    stepi.append(i)\n",
        "    lossi.append(loss.log10().item())\n",
        "\n",
        "# print(loss.item())"
      ],
      "metadata": {
        "id": "ToDdadcu4yRg"
      },
      "execution_count": 17,
      "outputs": []
    },
    {
      "cell_type": "code",
      "source": [
        "plt.plot(stepi, lossi)"
      ],
      "metadata": {
        "colab": {
          "base_uri": "https://localhost:8080/",
          "height": 447
        },
        "id": "B4xYRJIeU_Sv",
        "outputId": "000da1bc-6437-4a2f-9aa9-c4a8dc0e91e8"
      },
      "execution_count": 18,
      "outputs": [
        {
          "output_type": "execute_result",
          "data": {
            "text/plain": [
              "[<matplotlib.lines.Line2D at 0x7fb50e9d02e0>]"
            ]
          },
          "metadata": {},
          "execution_count": 18
        },
        {
          "output_type": "display_data",
          "data": {
            "text/plain": [
              "<Figure size 640x480 with 1 Axes>"
            ],
            "image/png": "[encoded data removed]"
          },
          "metadata": {}
        }
      ]
    },
    {
      "cell_type": "code",
      "source": [
        "embd = C[X]\n",
        "h = torch.tanh(embd.view(embd.shape[0], 30) @ W1 + b1)\n",
        "logits = h @ W2 + b2\n",
        "loss = F.cross_entropy(logits, y)\n",
        "loss.item()"
      ],
      "metadata": {
        "colab": {
          "base_uri": "https://localhost:8080/"
        },
        "id": "qIrxzg577LM9",
        "outputId": "2b86a895-78ac-4760-90d1-50fd4811a134"
      },
      "execution_count": 19,
      "outputs": [
        {
          "output_type": "execute_result",
          "data": {
            "text/plain": [
              "2.1459596157073975"
            ]
          },
          "metadata": {},
          "execution_count": 19
        }
      ]
    },
    {
      "cell_type": "code",
      "source": [
        "for _ in range(20):\n",
        "  out = []\n",
        "  context = [0] * block_size\n",
        "  while True:\n",
        "    embd = C[torch.tensor([context])]\n",
        "    h = torch.tanh(embd.view(1, -1) @ W1 + b1)\n",
        "    logits = h @ W2 + b2\n",
        "    probs = F.softmax(logits, dim=1)\n",
        "    ix = torch.multinomial(probs, num_samples=1).item()\n",
        "    context = context[1:] + [ix]\n",
        "    out.append(ix)\n",
        "\n",
        "    if ix == 0:\n",
        "      break\n",
        "\n",
        "  print(''.join(int_to_str[i] for i in out))"
      ],
      "metadata": {
        "colab": {
          "base_uri": "https://localhost:8080/"
        },
        "id": "aMZRa7WvAyDB",
        "outputId": "d1ca7862-64ea-429b-f49b-f8fe821e9a5c"
      },
      "execution_count": 24,
      "outputs": [
        {
          "output_type": "stream",
          "name": "stdout",
          "text": [
            "asalvinni.\n",
            "kyia.\n",
            "dyla.\n",
            "sal.\n",
            "tarim.\n",
            "mick.\n",
            "kaylee.\n",
            "jaylon.\n",
            "din.\n",
            "crinn.\n",
            "zyme.\n",
            "sabarron.\n",
            "abet.\n",
            "pah.\n",
            "tyrah.\n",
            "alemirrincie.\n",
            "faniya.\n",
            "kynleez.\n",
            "grachia.\n",
            "temeir.\n"
          ]
        }
      ]
    },
    {
      "cell_type": "code",
      "source": [],
      "metadata": {
        "id": "wWSrmWQNW841"
      },
      "execution_count": null,
      "outputs": []
    }
  ]
}